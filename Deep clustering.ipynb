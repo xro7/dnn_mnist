{
 "cells": [
  {
   "cell_type": "code",
   "execution_count": 1,
   "metadata": {
    "collapsed": true
   },
   "outputs": [],
   "source": [
    "import tensorflow as tf\n",
    "import pandas as pd\n",
    "import numpy as np\n",
    "import matplotlib.pyplot as plt\n",
    "import sklearn as sk\n",
    "%matplotlib inline\n",
    "from sklearn.model_selection import train_test_split\n",
    "from datetime import datetime\n",
    "from tqdm import tqdm\n",
    "from sklearn.utils import shuffle\n",
    "import nltk\n"
   ]
  },
  {
   "cell_type": "code",
   "execution_count": 2,
   "metadata": {
    "collapsed": false
   },
   "outputs": [],
   "source": [
    "# %load DNN.py\n",
    "class DNN():\n",
    "    \n",
    "    number = 0\n",
    "    \n",
    "    def __init__(self,X_train,y_train,layers,as_placeholders=True,dtypes=[tf.float32,tf.float32],**kwargs):\n",
    "        self.X_train = X_train\n",
    "        self.y_train = y_train\n",
    "        if as_placeholders:\n",
    "            self.X = tf.placeholder(dtype=dtypes[0],shape=(None,)+X_train.shape[1:])\n",
    "            self.y = tf.placeholder(dtype=dtypes[1],shape=(None,)+y_train.shape[1:])\n",
    "        else:\n",
    "            self.X = X_train\n",
    "            self.y = y_train\n",
    "        self.layers = layers\n",
    "        self.activations = [self.X]\n",
    "        DNN.number +=1\n",
    "            \n",
    "    def forward(self):       \n",
    "        for i,layer in enumerate(self.layers):\n",
    "            layer.set_input(self.activations[i])\n",
    "            self.activations.append(layer.forward())\n",
    "        return self.activations\n",
    "    \n",
    "    def cost(self):\n",
    "        #return tf.reduce_sum(tf.square(self.activations[-1]-self.y))\n",
    "        return tf.reduce_mean(tf.nn.softmax_cross_entropy_with_logits(logits=self.activations[-1],labels=self.y))\n",
    "    \n",
    "    def squared_cost(self):\n",
    "        return tf.reduce_mean(tf.squared_difference(self.activations[-1], self.y))\n",
    "    \n",
    "    def kl_divergence(self,p, q): \n",
    "        return tf.reduce_sum(p * tf.log(p/q))\n",
    "        #return -0.5 * tf.reduce_sum(1 + p - tf.square(q) - tf.exp(p))\n",
    "#         temp = p/q\n",
    "#         return tf.reduce_mean(-tf.nn.softmax_cross_entropy_with_logits(labels=p, logits=temp))\n",
    "       # return tf.contrib.distributions.kl_divergence(p, q,)\n",
    "class DenseLayer():\n",
    "    \n",
    "    number = 0\n",
    "    \n",
    "    def __init__(self,units,activation_function=tf.nn.relu,batch_norm=False,keep_prob=1.0,initialize_weights=None):\n",
    "        self.units = units\n",
    "        self.keep_prob = keep_prob\n",
    "        self.activation_function = activation_function\n",
    "        self.batch_norm = batch_norm\n",
    "        self.variable_scope_name = 'Dense-'+str(DenseLayer.number)\n",
    "        self.initialize_weights = initialize_weights\n",
    "        DenseLayer.number+=1\n",
    "        \n",
    "    def set_input(self,x):\n",
    "        self.x = x\n",
    "        if(len(x.shape)==4):\n",
    "            shape = self.x.get_shape().as_list()        \n",
    "            dim = np.prod(shape[1:])\n",
    "            self.x = tf.reshape(tensor=self.x,shape=[-1,dim])\n",
    "\n",
    "        with tf.variable_scope(self.variable_scope_name):  \n",
    "            self.init_W((self.x.get_shape().as_list()[1],self.units))\n",
    "            self.init_b(self.units)\n",
    "            if(self.batch_norm):\n",
    "                self.epsilon = 1e-3\n",
    "                self.scale = tf.get_variable('scale', initializer=tf.ones(shape=[self.units]))\n",
    "                self.beta =  tf.get_variable('beta', initializer=tf.zeros(shape=[self.units]))\n",
    "\n",
    "        \n",
    "    def init_W(self,shape):\n",
    "        #another way to do this with get variable\n",
    "        #self.w= tf.Variable(tf.multiply(tf.random_normal(shape),0.01),dtype=tf.float32)'\n",
    "        if self.initialize_weights is None: \n",
    "            self.w=tf.get_variable('weight',shape=shape,initializer=tf.contrib.layers.xavier_initializer())\n",
    "        else:\n",
    "            self.w=tf.get_variable('weight',shape=shape,initializer=tf.constant_initializer(self.initialize_weights))\n",
    "        tf.summary.histogram('weight',self.w)\n",
    "    \n",
    "    def init_b(self,shape):\n",
    "        #self.b = tf.Variable(tf.fill([shape],0.1),dtype=tf.float32)\n",
    "        init = tf.constant(0.1,shape=[shape])\n",
    "        self.b = tf.get_variable('bias', initializer=init)\n",
    "        tf.summary.histogram('bias',self.b)\n",
    "        \n",
    "    def forward(self):\n",
    "        if self.x == None:\n",
    "            print('no input defined')\n",
    "        else:\n",
    "            #batch norm not working properly\n",
    "            #or maybe it is working properly but it needs bigger batch size. like 64. This makes sense because you make estimates of\n",
    "            #mean and variance for every z calculation. This means that the bigger the batch size the more accurate the estimate\n",
    "            if(self.batch_norm):\n",
    "                self.z = tf.matmul(self.x,self.w)\n",
    "                self.batch_mean, self.batch_var = tf.nn.moments(self.z,[0])\n",
    "                self.z  = tf.nn.batch_normalization(self.z,self.batch_mean,self.batch_var,self.beta,self.scale,self.epsilon)\n",
    "            else:\n",
    "                self.z = tf.nn.xw_plus_b(self.x,self.w,self.b)\n",
    "            if self.activation_function == None:\n",
    "                self.activation = self.z\n",
    "            else:\n",
    "                self.activation  = self.activation_function(self.z)\n",
    "            self.activation = tf.nn.dropout(self.activation,self.keep_prob)\n",
    "            tf.summary.histogram('activations',self.activation)\n",
    "            return self.activation\n",
    "        \n",
    "class ConvLayer():\n",
    "\n",
    "    number = 0\n",
    "    def __init__(self,kernel_size,number_of_kernels,padding='SAME',activation_function=tf.nn.relu,batch_norm = False,keep_prob=1.0):\n",
    "        self.kernel_size = kernel_size\n",
    "        self.number_of_kernels = number_of_kernels\n",
    "        self.padding = padding\n",
    "        self.activation_function = activation_function\n",
    "        self.keep_prob = keep_prob\n",
    "        self.batch_norm = batch_norm\n",
    "        self.variable_scope_name = 'Conv-'+str(ConvLayer.number)\n",
    "        ConvLayer.number+=1\n",
    "        \n",
    "    def set_input(self,x):\n",
    "        with tf.variable_scope(self.variable_scope_name):         \n",
    "            self.x = x\n",
    "            if(isinstance(self.kernel_size,tuple)):\n",
    "                self.init_Kernel(self.kernel_size+(x.get_shape().as_list()[-1],self.number_of_kernels))\n",
    "            else:\n",
    "                self.init_Kernel((self.kernel_size,self.kernel_size,x.get_shape().as_list()[-1],self.number_of_kernels)) \n",
    "            self.init_b(self.number_of_kernels)\n",
    "            if(self.batch_norm):\n",
    "                self.epsilon = 1e-3\n",
    "                self.scale = tf.get_variable('scale', initializer=tf.ones(shape=[self.number_of_kernels]))\n",
    "                self.beta =  tf.get_variable('beta', initializer=tf.zeros(shape=[self.number_of_kernels]))\n",
    "        \n",
    "    def init_Kernel(self,shape):\n",
    "        self.kernel=tf.get_variable('kernel',shape=shape,initializer=tf.contrib.layers.xavier_initializer())\n",
    "        tf.summary.histogram('kernel',self.kernel)\n",
    "        \n",
    "    def init_b(self,shape):\n",
    "        self.b = tf.get_variable('bias',shape=[shape],initializer=tf.constant_initializer(0.1))\n",
    "        tf.summary.histogram('bias',self.b)\n",
    "        \n",
    "    def forward(self):\n",
    "        if self.x == None:\n",
    "            print('no input defined')\n",
    "        else:\n",
    "            if self.batch_norm:\n",
    "                \n",
    "                self.z = tf.nn.conv2d(self.x , self.kernel, [1, 1, 1, 1], padding=self.padding)\n",
    "                self.batch_mean, self.batch_var = tf.nn.moments(self.z,[0,1,2])\n",
    "                self.z  = tf.nn.batch_normalization(self.z,self.batch_mean,self.batch_var,self.beta,self.scale,self.epsilon)\n",
    "                \n",
    "            else:\n",
    "                self.z = tf.nn.conv2d(self.x , self.kernel, [1, 1, 1, 1], padding=self.padding)\n",
    "                self.z = tf.nn.bias_add(self.z, self.b)  \n",
    "                    \n",
    "            if self.activation_function == None:\n",
    "                self.activation = self.z\n",
    "            else:\n",
    "                self.activation  = self.activation_function(self.z)\n",
    "            #dropout\n",
    "            self.activation = tf.nn.dropout(self.activation,self.keep_prob)\n",
    "            tf.summary.histogram('activations',self.activation)\n",
    "        return self.activation\n",
    "        \n",
    "class PoolingLayer():\n",
    "    \n",
    "    number = 0\n",
    "    \n",
    "    def __init__(self,kernel_size,stride,padding='SAME',pooling='MAX'):\n",
    "        self.kernel_size = kernel_size\n",
    "        self.stride = stride\n",
    "        self.pooling = pooling\n",
    "        self.padding = padding\n",
    "        self.variable_scope_name = 'Pool-'+str(PoolingLayer.number)\n",
    "        PoolingLayer.number+=1\n",
    "        \n",
    "    def set_input(self,x):\n",
    "        with tf.variable_scope(self.variable_scope_name):         \n",
    "            self.x = x\n",
    "        \n",
    "    def forward(self):\n",
    "        if self.x == None:\n",
    "            print('no input defined')\n",
    "        else:\n",
    "            if(isinstance(self.kernel_size,tuple)):\n",
    "                size = list(self.kernel_size)\n",
    "            else:\n",
    "                size = [self.kernel_size,self.kernel_size]   \n",
    "            if (self.pooling == 'MAX'):\n",
    "                self.activation = tf.nn.max_pool(self.x,[1]+size+[1],[1,self.stride,self.stride,1],padding=self.padding)\n",
    "            elif (self.pooling == 'AVG'):\n",
    "                self.activation = tf.nn.avg_pool(self.x,[1]+size+[1],[1,self.stride,self.stride,1],padding=self.padding)\n",
    "        return self.activation\n",
    "    \n",
    "class EmbeddingLayer():\n",
    "    \n",
    "    number = 0\n",
    "    \n",
    "    def __init__(self,vocabulary_size,embedding_diamension,pretrained_word2vec=True,as_sequences=None):\n",
    "        self.embedding_diamension = embedding_diamension\n",
    "        self.vocabulary_size = vocabulary_size\n",
    "        self.pretrained_word2vec = pretrained_word2vec\n",
    "        self.variable_scope_name = 'Embedding-'+str(PoolingLayer.number)\n",
    "        self.init_Embeddings((self.vocabulary_size,self.embedding_diamension))\n",
    "        self.as_sequences = as_sequences\n",
    "        EmbeddingLayer.number+=1\n",
    "        \n",
    "    def set_input(self,x):\n",
    "        with tf.variable_scope(self.variable_scope_name):         \n",
    "            self.x = x\n",
    "            if self.as_sequences:\n",
    "                self.sequence_length = x.shape[1]\n",
    "        \n",
    "    def init_Embeddings(self,shape):\n",
    "        with tf.variable_scope(self.variable_scope_name):  \n",
    "            if(self.pretrained_word2vec):             \n",
    "                self.W = tf.Variable(tf.constant(0.0, shape=[self.vocabulary_size, self.embedding_diamension]),trainable=True, name=\"embedding_weights\")\n",
    "                self.embedding_placeholder = tf.placeholder(tf.float32, [self.vocabulary_size, self.embedding_diamension])\n",
    "                self.embedding_init = self.W.assign(self.embedding_placeholder)\n",
    "            else:\n",
    "                self.W = tf.get_variable(\"embedding_weights\", shape=[self.vocabulary_size, self.embedding_diamension],initializer=tf.contrib.layers.xavier_initializer())\n",
    "    def forward(self):\n",
    "        # TODO: implement as sequences to provide data for lstm\n",
    "        if self.x == None:\n",
    "            print('no input defined')\n",
    "        else:\n",
    "            #this is called activation to follow the pattern of other layers\n",
    "            self.activation = tf.nn.embedding_lookup(self.W, self.x)\n",
    "            if self.as_sequences == 'static':\n",
    "                self.activation = tf.transpose(self.activation, [1,0,2])\n",
    "                self.activation = tf.reshape(self.activation , [-1,self.embedding_diamension])\n",
    "                self.activation  = tf.split(self.activation ,self.sequence_length,0)\n",
    "            elif self.as_sequences == 'dynamic':\n",
    "                pass\n",
    "            else:\n",
    "                self.activation = tf.expand_dims(self.activation, -1)        #need 4 diamensions to apply convolution\n",
    "            return self.activation\n",
    "class RnnLayer():\n",
    "    number = 0\n",
    "    def __init__(self,units,activation_function = None,cell_type = 'LSTM',keep_prob=1.0,rnn_type='static'):\n",
    "        self.units = units\n",
    "        self.activation_function = activation_function\n",
    "        self.keep_prob = keep_prob\n",
    "        self.cell_type = cell_type\n",
    "        self.rnn_type = rnn_type\n",
    "        self.variable_scope_name = 'Rnn-'+str(RnnLayer.number)\n",
    "        RnnLayer.number+=1\n",
    "        \n",
    "    def set_input(self,x):\n",
    "        with tf.variable_scope(self.variable_scope_name):         \n",
    "            self.x = x\n",
    "        \n",
    "    def forward(self):\n",
    "        if self.x == None:\n",
    "            print('no input defined')\n",
    "        else:\n",
    "            if self.cell_type == 'LSTM':\n",
    "                cell = tf.nn.rnn_cell.LSTMCell(self.units,activation=self.activation_function)\n",
    "                cell = tf.nn.rnn_cell.DropoutWrapper(cell=cell, output_keep_prob=self.keep_prob)\n",
    "            elif self.cell_type == 'GRU':\n",
    "                cell = tf.nn.rnn_cell.GRUCell(self.units,activation=self.activation_function)\n",
    "                cell = tf.nn.rnn_cell.DropoutWrapper(cell=cell, output_keep_prob=self.keep_prob)\n",
    "                \n",
    "            #need to fix this\n",
    "            #self.activation = tf.nn.dynamic_rnn(cell,self.x,sequence_length=self.sequence_length)\n",
    "            if (self.rnn_type == 'static'):\n",
    "                self.output, self.states = tf.nn.static_rnn(cell,self.x,dtype=tf.float32)\n",
    "                self.activation = self.output[-1]\n",
    "            elif (self.rnn_type == 'dynamic'):\n",
    "                self.output, self.states = tf.nn.dynamic_rnn(cell,self.x,dtype=tf.float32)\n",
    "                self.activation = self.output[:,-1,:]\n",
    "        return self.activation\n",
    "    "
   ]
  },
  {
   "cell_type": "code",
   "execution_count": 3,
   "metadata": {
    "collapsed": false
   },
   "outputs": [
    {
     "data": {
      "text/plain": [
       "'1.4.0'"
      ]
     },
     "execution_count": 3,
     "metadata": {},
     "output_type": "execute_result"
    }
   ],
   "source": [
    "tf.__version__"
   ]
  },
  {
   "cell_type": "code",
   "execution_count": 4,
   "metadata": {
    "collapsed": false
   },
   "outputs": [
    {
     "name": "stdout",
     "output_type": "stream",
     "text": [
      "Extracting D:/programming/python/datasets/mnist_data\\train-images-idx3-ubyte.gz\n",
      "Extracting D:/programming/python/datasets/mnist_data\\train-labels-idx1-ubyte.gz\n",
      "Extracting D:/programming/python/datasets/mnist_data\\t10k-images-idx3-ubyte.gz\n",
      "Extracting D:/programming/python/datasets/mnist_data\\t10k-labels-idx1-ubyte.gz\n"
     ]
    }
   ],
   "source": [
    "from tensorflow.examples.tutorials.mnist import input_data\n",
    "mnist = input_data.read_data_sets('D:/programming/python/datasets/mnist_data', one_hot=True)\n",
    "\n",
    "X_train = mnist.train.images\n",
    "y_train = mnist.train.labels\n",
    "X_test = mnist.test.images\n",
    "y_test = mnist.test.labels\n",
    "# X_train = np.concatenate((X_train,X_test))\n",
    "# y_train = np.concatenate((y_train,y_test))\n",
    "y_train = np.argmax(y_train,axis=1).reshape((-1,1))"
   ]
  },
  {
   "cell_type": "code",
   "execution_count": 5,
   "metadata": {
    "collapsed": true
   },
   "outputs": [],
   "source": [
    "class SAE():\n",
    "    \n",
    "    def __init__(self,X_train,layer_dimensions):\n",
    "        self.X_train = X_train\n",
    "        self.input_dimensions = X_train.shape[1]\n",
    "        self.layer_dimensions = layer_dimensions\n",
    "        self.init_layers()\n",
    "        with tf.variable_scope('encoder'):\n",
    "            self.encoder = DNN(X_train,X_train,self.encoder_layers)\n",
    "            self.encoder_activations = self.encoder.forward()\n",
    "            self.encoder_output = self.encoder_activations[-1]\n",
    "        with tf.variable_scope('decoder'):\n",
    "            self.decoder = DNN(self.encoder_output,self.encoder.y,self.decoder_layers,as_placeholders=False)# transfoermed x and previous y which were placeholders\n",
    "            self.decoder_activations = self.decoder.forward()\n",
    "    \n",
    "    def init_layers(self):\n",
    "        \n",
    "        self.encoder_layers = []\n",
    "        self.decoder_layers = []\n",
    "        for i in self.layer_dimensions[:-1]:\n",
    "            self.encoder_layers.append(DenseLayer(i))\n",
    "        self.encoder_layers.append(DenseLayer(self.layer_dimensions[-1],activation_function=None)) ##bottleneck layer\n",
    "        for i in reversed(self.layer_dimensions[:-1]):\n",
    "            self.decoder_layers.append(DenseLayer(i))\n",
    "        self.decoder_layers.append(DenseLayer(self.input_dimensions,activation_function=None)) #output layer no activation\n",
    "        \n",
    "    def fit(self,num_epochs,batch_size):\n",
    "\n",
    "        loss = self.decoder.squared_cost()\n",
    "        tf.summary.scalar('loss', loss)\n",
    "        optimizer = tf.train.AdamOptimizer()\n",
    "        train = optimizer.minimize(loss)\n",
    "\n",
    "        correct_pred = tf.equal(tf.argmax(self.decoder_activations[-1], 1), tf.argmax(self.encoder.X, 1))\n",
    "        accuracy = tf.reduce_mean(tf.cast(correct_pred, tf.float32))\n",
    "        tf.summary.scalar('accuracy', accuracy)\n",
    "        merged = tf.summary.merge_all()\n",
    "        \n",
    "        saver = tf.train.Saver()\n",
    "\n",
    "        with tf.Session() as sess:\n",
    "            sess.run(tf.global_variables_initializer())\n",
    "\n",
    "            #write training data to file in order to visualize it with tensorboard\n",
    "            log_name = datetime.now().strftime(\"%Y%m%d-%H%M%S\")\n",
    "            #train_writer = tf.summary.FileWriter('summaries/train/logs'+log_name,sess.graph)\n",
    "            test_writer = tf.summary.FileWriter('summaries/test/logs'+log_name,sess.graph)\n",
    "\n",
    "            #training \n",
    "            for i in tqdm(range(num_epochs)):\n",
    "                for c,batch in enumerate(range(int(np.ceil(mnist.train.num_examples/batch_size)))):\n",
    "                    batch = mnist.train.next_batch(batch_size=batch_size)\n",
    "                    batch_x = batch[0]\n",
    "                    feed_dict={self.encoder.X : batch_x,self.encoder.y : batch_x}\n",
    "                    cost,_,acc= sess.run([loss,train,accuracy],feed_dict=feed_dict)\n",
    "\n",
    "                feed_dict={self.encoder.X : self.X_train,self.encoder.y : self.X_train}\n",
    "                summary,test_acc,test_cost = sess.run([merged,accuracy,loss],feed_dict=feed_dict)\n",
    "                test_writer.add_summary(summary, i)  \n",
    "            feed_dict={self.encoder.X : self.X_train,self.encoder.y : self.X_train}\n",
    "            self.extract_feature = sess.run(self.encoder_output,feed_dict=feed_dict)\n",
    "            saver.save(sess, './model/my-test-model')\n",
    "        \n",
    "        "
   ]
  },
  {
   "cell_type": "code",
   "execution_count": 6,
   "metadata": {
    "collapsed": false
   },
   "outputs": [],
   "source": [
    "class ClusteringLayer():\n",
    "    \n",
    "    number = 0 \n",
    "    \n",
    "    def __init__(self, n_clusters, alpha=1.0,initialize_weights = None):\n",
    "        self.n_clusters = n_clusters\n",
    "        self.alpha = alpha\n",
    "        self.initialize_weights = initialize_weights\n",
    "        self.variable_scope_name = 'Clustering-'+str(ClusteringLayer.number)\n",
    "        ClusteringLayer.number+=1\n",
    "        \n",
    "    def set_input(self,x):\n",
    "        \n",
    "        self.x = x\n",
    "\n",
    "        with tf.variable_scope(self.variable_scope_name):  \n",
    "            self.init_Clusters((self.n_clusters,self.x.get_shape().as_list()[1]))\n",
    "        \n",
    "    def init_Clusters(self,shape):\n",
    "        if self.initialize_weights is None: \n",
    "            self.clusters=tf.get_variable('weight',shape=shape,initializer=tf.contrib.layers.xavier_initializer())\n",
    "        else:\n",
    "            self.clusters=tf.get_variable('weight',shape=shape,initializer=tf.constant_initializer(self.initialize_weights))\n",
    "        tf.summary.histogram('weight',self.clusters)\n",
    "        \n",
    "    def forward(self):\n",
    "        if self.x == None:\n",
    "            print('no input defined')\n",
    "        else:\n",
    "            with tf.name_scope('students_t'):\n",
    "                q = 1.0 / (1.0 + (tf.reduce_sum(tf.square(tf.expand_dims(self.x, axis=1) - self.clusters), axis=2) / self.alpha))\n",
    "                q **= (self.alpha + 1.0) / 2.0\n",
    "                q = tf.transpose(tf.transpose(q) / tf.reduce_sum(q, axis=1))\n",
    "                return q\n",
    "        \n",
    "    def target_distribution(self,q):\n",
    "        weight = tf.square(q) / tf.reduce_sum(q,axis=0)\n",
    "        return tf.transpose( tf.transpose(weight) /tf.reduce_sum(weight,axis=1))\n",
    "            \n",
    "        \n",
    "\n",
    "    "
   ]
  },
  {
   "cell_type": "code",
   "execution_count": null,
   "metadata": {
    "collapsed": false
   },
   "outputs": [],
   "source": [
    "tf.reset_default_graph()\n",
    "DenseLayer.number = 0\n",
    "ConvLayer.number = 0\n",
    "PoolingLayer.number = 0\n",
    "EmbeddingLayer.number = 0\n",
    "RnnLayer.number = 0\n",
    "SAE.number = 0\n",
    "\n",
    "\n",
    "sae = SAE(X_train,[500, 500, 2000, 10])\n",
    "sae.fit(1,256)\n",
    "sae.extract_feature.shape"
   ]
  },
  {
   "cell_type": "code",
   "execution_count": null,
   "metadata": {
    "collapsed": false
   },
   "outputs": [],
   "source": [
    "#restore the weights i need from the encoder\n",
    "tf.reset_default_graph()\n",
    "with tf.Session() as sess:\n",
    "    saver = tf.train.import_meta_graph('./model/my-test-model.meta')##copies the graph\n",
    "    sess.run(tf.global_variables_initializer())\n",
    "    graph = tf.get_default_graph()\n",
    "\n",
    "#check all variables that exist\n",
    "#     for i in graph.get_collection('variables'):\n",
    "#         if 'encoder' in  i.name:\n",
    "#             weights.append(graph.get_tensor_by_name(i.name).eval())\n",
    "#             print(i.get_variable_scope\n",
    "\n",
    "    weights=[]\n",
    "    for i in tf.get_collection(tf.GraphKeys.GLOBAL_VARIABLES, scope='encoder'):\n",
    "        if 'weight:0' in  i.name:\n",
    "            weights.append(graph.get_tensor_by_name(i.name).eval())\n",
    "            print(i)\n",
    "#     get_operation = graph.get_tensor_by_name('encoder/activations_3/tag')\n",
    "#     features = sess.run(get_operation)"
   ]
  },
  {
   "cell_type": "code",
   "execution_count": null,
   "metadata": {
    "collapsed": false,
    "scrolled": false
   },
   "outputs": [
    {
     "name": "stdout",
     "output_type": "stream",
     "text": [
      "Tensor(\"students_t/transpose_1:0\", shape=(?, 10), dtype=float32)\n",
      "Tensor(\"Placeholder:0\", shape=(?, 10), dtype=float32)\n",
      "---> cost: 114.844\taccuracy: 0.162981818182 BEFORE TRAINING\n"
     ]
    },
    {
     "name": "stderr",
     "output_type": "stream",
     "text": [
      "\r",
      "  0%|                                                                                          | 0/100 [00:00<?, ?it/s]"
     ]
    },
    {
     "name": "stdout",
     "output_type": "stream",
     "text": [
      "cost: 0.552252\taccuracy: 0.16796875 in 0epoch in 0batch\n",
      "cost: 45.4959\taccuracy: 0.3046875 in 0epoch in 40batch\n",
      "cost: 52.8123\taccuracy: 0.33984375 in 0epoch in 80batch\n",
      "cost: 49.8124\taccuracy: 0.34765625 in 0epoch in 120batch\n",
      "cost: 47.2145\taccuracy: 0.33984375 in 0epoch in 160batch\n",
      "cost: 46.7898\taccuracy: 0.3515625 in 0epoch in 200batch\n",
      "---> cost: 9506.76\taccuracy: 0.333581818182 in 0epoch\n"
     ]
    },
    {
     "name": "stderr",
     "output_type": "stream",
     "text": [
      "\r",
      "  1%|▊                                                                                 | 1/100 [00:10<16:38, 10.09s/it]"
     ]
    },
    {
     "name": "stdout",
     "output_type": "stream",
     "text": [
      "cost: 43.5548\taccuracy: 0.359375 in 1epoch in 0batch\n",
      "cost: 43.3218\taccuracy: 0.35546875 in 1epoch in 40batch\n",
      "cost: 42.9128\taccuracy: 0.40234375 in 1epoch in 80batch\n",
      "cost: 42.134\taccuracy: 0.375 in 1epoch in 120batch\n",
      "cost: 42.0757\taccuracy: 0.40625 in 1epoch in 160batch\n",
      "cost: 36.6222\taccuracy: 0.40625 in 1epoch in 200batch\n",
      "---> cost: 8766.96\taccuracy: 0.375836363636 in 1epoch\n"
     ]
    },
    {
     "name": "stderr",
     "output_type": "stream",
     "text": [
      "\r",
      "  2%|█▋                                                                                | 2/100 [00:20<16:22, 10.02s/it]"
     ]
    },
    {
     "name": "stdout",
     "output_type": "stream",
     "text": [
      "cost: 43.241\taccuracy: 0.38671875 in 2epoch in 0batch\n",
      "cost: 35.393\taccuracy: 0.38671875 in 2epoch in 40batch\n",
      "cost: 35.5259\taccuracy: 0.41015625 in 2epoch in 80batch\n",
      "cost: 39.6148\taccuracy: 0.3828125 in 2epoch in 120batch\n",
      "cost: 36.0751\taccuracy: 0.38671875 in 2epoch in 160batch\n",
      "cost: 27.7309\taccuracy: 0.390625 in 2epoch in 200batch\n",
      "---> cost: 7008.88\taccuracy: 0.3894 in 2epoch\n"
     ]
    },
    {
     "name": "stderr",
     "output_type": "stream",
     "text": [
      "\r",
      "  3%|██▍                                                                               | 3/100 [00:29<16:07,  9.97s/it]"
     ]
    },
    {
     "name": "stdout",
     "output_type": "stream",
     "text": [
      "cost: 31.8648\taccuracy: 0.37890625 in 3epoch in 0batch\n",
      "cost: 32.2895\taccuracy: 0.4296875 in 3epoch in 40batch\n",
      "cost: 33.6887\taccuracy: 0.42578125 in 3epoch in 80batch\n",
      "cost: 35.1291\taccuracy: 0.4453125 in 3epoch in 120batch\n",
      "cost: 31.1414\taccuracy: 0.390625 in 3epoch in 160batch\n",
      "cost: 23.5271\taccuracy: 0.45703125 in 3epoch in 200batch\n",
      "---> cost: 7339.39\taccuracy: 0.404436363636 in 3epoch\n"
     ]
    },
    {
     "name": "stderr",
     "output_type": "stream",
     "text": [
      "\r",
      "  4%|███▎                                                                              | 4/100 [00:39<15:55,  9.95s/it]"
     ]
    },
    {
     "name": "stdout",
     "output_type": "stream",
     "text": [
      "cost: 34.8467\taccuracy: 0.421875 in 4epoch in 0batch\n",
      "cost: 26.5748\taccuracy: 0.375 in 4epoch in 40batch\n",
      "cost: 30.3414\taccuracy: 0.390625 in 4epoch in 80batch\n",
      "cost: 27.3542\taccuracy: 0.4296875 in 4epoch in 120batch\n",
      "cost: 27.5651\taccuracy: 0.4609375 in 4epoch in 160batch\n",
      "cost: 33.6962\taccuracy: 0.4375 in 4epoch in 200batch\n",
      "---> cost: 5872.8\taccuracy: 0.420836363636 in 4epoch\n"
     ]
    },
    {
     "name": "stderr",
     "output_type": "stream",
     "text": [
      "\r",
      "  5%|████                                                                              | 5/100 [00:49<15:47,  9.98s/it]"
     ]
    },
    {
     "name": "stdout",
     "output_type": "stream",
     "text": [
      "cost: 26.0774\taccuracy: 0.44921875 in 5epoch in 0batch\n",
      "cost: 24.803\taccuracy: 0.46875 in 5epoch in 40batch\n",
      "cost: 26.1252\taccuracy: 0.43359375 in 5epoch in 80batch\n",
      "cost: 31.9886\taccuracy: 0.4453125 in 5epoch in 120batch\n",
      "cost: 30.912\taccuracy: 0.40234375 in 5epoch in 160batch\n",
      "cost: 30.4277\taccuracy: 0.4296875 in 5epoch in 200batch\n",
      "---> cost: 5320.45\taccuracy: 0.404181818182 in 5epoch\n"
     ]
    },
    {
     "name": "stderr",
     "output_type": "stream",
     "text": [
      "\r",
      "  6%|████▉                                                                             | 6/100 [00:59<15:37,  9.97s/it]"
     ]
    },
    {
     "name": "stdout",
     "output_type": "stream",
     "text": [
      "cost: 22.9974\taccuracy: 0.44921875 in 6epoch in 0batch\n",
      "cost: 25.957\taccuracy: 0.43359375 in 6epoch in 40batch\n",
      "cost: 24.1903\taccuracy: 0.4375 in 6epoch in 80batch\n",
      "cost: 28.6841\taccuracy: 0.421875 in 6epoch in 120batch\n",
      "cost: 24.2477\taccuracy: 0.4375 in 6epoch in 160batch\n",
      "cost: 32.7027\taccuracy: 0.3671875 in 6epoch in 200batch\n",
      "---> cost: 6845.97\taccuracy: 0.380181818182 in 6epoch\n"
     ]
    },
    {
     "name": "stderr",
     "output_type": "stream",
     "text": [
      "\r",
      "  7%|█████▋                                                                            | 7/100 [01:09<15:23,  9.93s/it]"
     ]
    },
    {
     "name": "stdout",
     "output_type": "stream",
     "text": [
      "cost: 33.9521\taccuracy: 0.37109375 in 7epoch in 0batch\n",
      "cost: 28.6466\taccuracy: 0.4609375 in 7epoch in 40batch\n",
      "cost: 30.147\taccuracy: 0.421875 in 7epoch in 80batch\n",
      "cost: 23.2482\taccuracy: 0.41796875 in 7epoch in 120batch\n",
      "cost: 24.0532\taccuracy: 0.44140625 in 7epoch in 160batch\n",
      "cost: 24.8192\taccuracy: 0.49609375 in 7epoch in 200batch\n",
      "---> cost: 4517.29\taccuracy: 0.3848 in 7epoch\n"
     ]
    },
    {
     "name": "stderr",
     "output_type": "stream",
     "text": [
      "\r",
      "  8%|██████▌                                                                           | 8/100 [01:19<15:11,  9.91s/it]"
     ]
    },
    {
     "name": "stdout",
     "output_type": "stream",
     "text": [
      "cost: 19.4394\taccuracy: 0.4140625 in 8epoch in 0batch\n",
      "cost: 30.7655\taccuracy: 0.390625 in 8epoch in 40batch\n",
      "cost: 25.4023\taccuracy: 0.46875 in 8epoch in 80batch\n",
      "cost: 29.0489\taccuracy: 0.4609375 in 8epoch in 120batch\n",
      "cost: 28.8428\taccuracy: 0.3671875 in 8epoch in 160batch\n",
      "cost: 22.88\taccuracy: 0.375 in 8epoch in 200batch\n",
      "---> cost: 4631.05\taccuracy: 0.399436363636 in 8epoch\n"
     ]
    },
    {
     "name": "stderr",
     "output_type": "stream",
     "text": [
      "\r",
      "  9%|███████▍                                                                          | 9/100 [01:29<15:00,  9.89s/it]"
     ]
    },
    {
     "name": "stdout",
     "output_type": "stream",
     "text": [
      "cost: 21.9721\taccuracy: 0.48046875 in 9epoch in 0batch\n",
      "cost: 30.0076\taccuracy: 0.484375 in 9epoch in 40batch\n",
      "cost: 22.0148\taccuracy: 0.38671875 in 9epoch in 80batch\n",
      "cost: 29.5916\taccuracy: 0.41015625 in 9epoch in 120batch\n",
      "cost: 24.4933\taccuracy: 0.44921875 in 9epoch in 160batch\n",
      "cost: 25.5285\taccuracy: 0.34765625 in 9epoch in 200batch\n",
      "---> cost: 4691.21\taccuracy: 0.396236363636 in 9epoch\n"
     ]
    },
    {
     "name": "stderr",
     "output_type": "stream",
     "text": [
      "\r",
      " 10%|████████                                                                         | 10/100 [01:38<14:46,  9.85s/it]"
     ]
    },
    {
     "name": "stdout",
     "output_type": "stream",
     "text": [
      "cost: 19.8895\taccuracy: 0.4375 in 10epoch in 0batch\n",
      "cost: 30.8074\taccuracy: 0.40234375 in 10epoch in 40batch\n",
      "cost: 19.7563\taccuracy: 0.4296875 in 10epoch in 80batch\n",
      "cost: 24.7084\taccuracy: 0.38671875 in 10epoch in 120batch\n",
      "cost: 28.1346\taccuracy: 0.375 in 10epoch in 160batch\n",
      "cost: 35.8579\taccuracy: 0.390625 in 10epoch in 200batch\n",
      "---> cost: 6793.33\taccuracy: 0.385872727273 in 10epoch\n"
     ]
    },
    {
     "name": "stderr",
     "output_type": "stream",
     "text": [
      "\r",
      " 11%|████████▉                                                                        | 11/100 [01:47<14:32,  9.81s/it]"
     ]
    },
    {
     "name": "stdout",
     "output_type": "stream",
     "text": [
      "cost: 30.3534\taccuracy: 0.44921875 in 11epoch in 0batch\n",
      "cost: 28.3791\taccuracy: 0.40625 in 11epoch in 40batch\n",
      "cost: 19.2023\taccuracy: 0.39453125 in 11epoch in 80batch\n",
      "cost: 25.0235\taccuracy: 0.4765625 in 11epoch in 120batch\n",
      "cost: 31.0903\taccuracy: 0.41015625 in 11epoch in 160batch\n",
      "cost: 30.5619\taccuracy: 0.38671875 in 11epoch in 200batch\n",
      "---> cost: 6609.24\taccuracy: 0.385945454545 in 11epoch\n"
     ]
    },
    {
     "name": "stderr",
     "output_type": "stream",
     "text": [
      "\r",
      " 12%|█████████▋                                                                       | 12/100 [01:56<14:17,  9.74s/it]"
     ]
    },
    {
     "name": "stdout",
     "output_type": "stream",
     "text": [
      "cost: 32.9995\taccuracy: 0.39453125 in 12epoch in 0batch\n",
      "cost: 36.166\taccuracy: 0.390625 in 12epoch in 40batch\n",
      "cost: 22.9638\taccuracy: 0.42578125 in 12epoch in 80batch\n",
      "cost: 19.8943\taccuracy: 0.390625 in 12epoch in 120batch\n",
      "cost: 25.6064\taccuracy: 0.43359375 in 12epoch in 160batch\n",
      "cost: 25.5121\taccuracy: 0.421875 in 12epoch in 200batch\n",
      "---> cost: 5114.33\taccuracy: 0.362672727273 in 12epoch\n"
     ]
    },
    {
     "name": "stderr",
     "output_type": "stream",
     "text": [
      "\r",
      " 13%|██████████▌                                                                      | 13/100 [02:06<14:05,  9.71s/it]"
     ]
    },
    {
     "name": "stdout",
     "output_type": "stream",
     "text": [
      "cost: 24.1181\taccuracy: 0.38671875 in 13epoch in 0batch\n",
      "cost: 21.0657\taccuracy: 0.39453125 in 13epoch in 40batch\n",
      "cost: 26.1289\taccuracy: 0.4140625 in 13epoch in 80batch\n",
      "cost: 21.2564\taccuracy: 0.48046875 in 13epoch in 120batch\n",
      "cost: 33.1121\taccuracy: 0.4375 in 13epoch in 160batch\n",
      "cost: 27.1447\taccuracy: 0.40625 in 13epoch in 200batch\n",
      "---> cost: 5807.26\taccuracy: 0.328472727273 in 13epoch\n"
     ]
    },
    {
     "name": "stderr",
     "output_type": "stream",
     "text": [
      "\r",
      " 14%|███████████▎                                                                     | 14/100 [02:15<13:52,  9.68s/it]"
     ]
    },
    {
     "name": "stdout",
     "output_type": "stream",
     "text": [
      "cost: 29.562\taccuracy: 0.3515625 in 14epoch in 0batch\n",
      "cost: 20.1789\taccuracy: 0.3984375 in 14epoch in 40batch\n",
      "cost: 22.7198\taccuracy: 0.4296875 in 14epoch in 80batch\n",
      "cost: 27.4609\taccuracy: 0.33203125 in 14epoch in 120batch\n",
      "cost: 18.8359\taccuracy: 0.375 in 14epoch in 160batch\n",
      "cost: 27.9986\taccuracy: 0.42578125 in 14epoch in 200batch\n",
      "---> cost: 4924.94\taccuracy: 0.372090909091 in 14epoch\n"
     ]
    },
    {
     "name": "stderr",
     "output_type": "stream",
     "text": [
      "\r",
      " 15%|████████████▏                                                                    | 15/100 [02:24<13:40,  9.65s/it]"
     ]
    },
    {
     "name": "stdout",
     "output_type": "stream",
     "text": [
      "cost: 23.3765\taccuracy: 0.40625 in 15epoch in 0batch\n",
      "cost: 24.4535\taccuracy: 0.41015625 in 15epoch in 40batch\n",
      "cost: 25.2053\taccuracy: 0.3828125 in 15epoch in 80batch\n",
      "cost: 28.439\taccuracy: 0.35546875 in 15epoch in 120batch\n",
      "cost: 25.886\taccuracy: 0.390625 in 15epoch in 160batch\n",
      "cost: 19.2613\taccuracy: 0.390625 in 15epoch in 200batch\n",
      "---> cost: 5706.09\taccuracy: 0.3418 in 15epoch\n"
     ]
    },
    {
     "name": "stderr",
     "output_type": "stream",
     "text": [
      "\r",
      " 16%|████████████▉                                                                    | 16/100 [02:34<13:30,  9.65s/it]"
     ]
    },
    {
     "name": "stdout",
     "output_type": "stream",
     "text": [
      "cost: 25.9017\taccuracy: 0.38671875 in 16epoch in 0batch\n",
      "cost: 20.5681\taccuracy: 0.4453125 in 16epoch in 40batch\n",
      "cost: 23.9721\taccuracy: 0.37109375 in 16epoch in 80batch\n",
      "cost: 26.2646\taccuracy: 0.421875 in 16epoch in 120batch\n",
      "cost: 19.1223\taccuracy: 0.40625 in 16epoch in 160batch\n",
      "cost: 24.891\taccuracy: 0.41015625 in 16epoch in 200batch\n",
      "---> cost: 6002.3\taccuracy: 0.388581818182 in 16epoch\n"
     ]
    },
    {
     "name": "stderr",
     "output_type": "stream",
     "text": [
      "\r",
      " 17%|█████████████▊                                                                   | 17/100 [02:43<13:17,  9.60s/it]"
     ]
    },
    {
     "name": "stdout",
     "output_type": "stream",
     "text": [
      "cost: 26.7187\taccuracy: 0.43359375 in 17epoch in 0batch\n",
      "cost: 22.0543\taccuracy: 0.37890625 in 17epoch in 40batch\n",
      "cost: 16.7057\taccuracy: 0.42578125 in 17epoch in 80batch\n",
      "cost: 24.9766\taccuracy: 0.39453125 in 17epoch in 120batch\n",
      "cost: 24.8493\taccuracy: 0.3828125 in 17epoch in 160batch\n",
      "cost: 28.478\taccuracy: 0.3671875 in 17epoch in 200batch\n",
      "---> cost: 4626.48\taccuracy: 0.3694 in 17epoch\n"
     ]
    },
    {
     "name": "stderr",
     "output_type": "stream",
     "text": [
      "\r",
      " 18%|██████████████▌                                                                  | 18/100 [02:52<13:06,  9.59s/it]"
     ]
    },
    {
     "name": "stdout",
     "output_type": "stream",
     "text": [
      "cost: 21.6614\taccuracy: 0.39453125 in 18epoch in 0batch\n",
      "cost: 24.157\taccuracy: 0.42578125 in 18epoch in 40batch\n",
      "cost: 16.4843\taccuracy: 0.4375 in 18epoch in 80batch\n",
      "cost: 26.7446\taccuracy: 0.421875 in 18epoch in 120batch\n",
      "cost: 15.9096\taccuracy: 0.44921875 in 18epoch in 160batch\n",
      "cost: 18.6134\taccuracy: 0.44921875 in 18epoch in 200batch\n",
      "---> cost: 7000.7\taccuracy: 0.365854545455 in 18epoch\n"
     ]
    },
    {
     "name": "stderr",
     "output_type": "stream",
     "text": [
      "\r",
      " 19%|███████████████▍                                                                 | 19/100 [03:01<12:54,  9.57s/it]"
     ]
    },
    {
     "name": "stdout",
     "output_type": "stream",
     "text": [
      "cost: 31.1343\taccuracy: 0.40625 in 19epoch in 0batch\n",
      "cost: 16.5615\taccuracy: 0.39453125 in 19epoch in 40batch\n",
      "cost: 21.4789\taccuracy: 0.3828125 in 19epoch in 80batch\n",
      "cost: 19.1711\taccuracy: 0.43359375 in 19epoch in 120batch\n",
      "cost: 12.9587\taccuracy: 0.39453125 in 19epoch in 160batch\n",
      "cost: 25.1261\taccuracy: 0.3671875 in 19epoch in 200batch\n",
      "---> cost: 6241.63\taccuracy: 0.371763636364 in 19epoch\n"
     ]
    },
    {
     "name": "stderr",
     "output_type": "stream",
     "text": [
      "\r",
      " 20%|████████████████▏                                                                | 20/100 [03:11<12:45,  9.57s/it]"
     ]
    },
    {
     "name": "stdout",
     "output_type": "stream",
     "text": [
      "cost: 28.5132\taccuracy: 0.328125 in 20epoch in 0batch\n",
      "cost: 20.4278\taccuracy: 0.41015625 in 20epoch in 40batch\n",
      "cost: 17.9144\taccuracy: 0.38671875 in 20epoch in 80batch\n",
      "cost: 18.0032\taccuracy: 0.45703125 in 20epoch in 120batch\n",
      "cost: 13.3213\taccuracy: 0.43359375 in 20epoch in 160batch\n",
      "cost: 19.6606\taccuracy: 0.421875 in 20epoch in 200batch\n",
      "---> cost: 3781.69\taccuracy: 0.3806 in 20epoch\n"
     ]
    },
    {
     "name": "stderr",
     "output_type": "stream",
     "text": [
      "\r",
      " 21%|█████████████████                                                                | 21/100 [03:20<12:34,  9.56s/it]"
     ]
    },
    {
     "name": "stdout",
     "output_type": "stream",
     "text": [
      "cost: 18.1459\taccuracy: 0.40234375 in 21epoch in 0batch\n",
      "cost: 17.2514\taccuracy: 0.4296875 in 21epoch in 40batch\n",
      "cost: 15.5157\taccuracy: 0.40625 in 21epoch in 80batch\n",
      "cost: 16.7743\taccuracy: 0.4375 in 21epoch in 120batch\n",
      "cost: 19.4388\taccuracy: 0.38671875 in 21epoch in 160batch\n",
      "cost: 18.2442\taccuracy: 0.4453125 in 21epoch in 200batch\n",
      "---> cost: 3551.56\taccuracy: 0.431363636364 in 21epoch\n"
     ]
    },
    {
     "name": "stderr",
     "output_type": "stream",
     "text": [
      "\r",
      " 22%|█████████████████▊                                                               | 22/100 [03:30<12:25,  9.55s/it]"
     ]
    },
    {
     "name": "stdout",
     "output_type": "stream",
     "text": [
      "cost: 16.0894\taccuracy: 0.484375 in 22epoch in 0batch\n",
      "cost: 18.9278\taccuracy: 0.44921875 in 22epoch in 40batch\n",
      "cost: 16.2932\taccuracy: 0.51171875 in 22epoch in 80batch\n",
      "cost: 17.1755\taccuracy: 0.4140625 in 22epoch in 120batch\n",
      "cost: 24.0262\taccuracy: 0.4609375 in 22epoch in 160batch\n",
      "cost: 22.2811\taccuracy: 0.45703125 in 22epoch in 200batch\n",
      "---> cost: 3628.81\taccuracy: 0.436545454545 in 22epoch\n"
     ]
    },
    {
     "name": "stderr",
     "output_type": "stream",
     "text": [
      "\r",
      " 23%|██████████████████▋                                                              | 23/100 [03:39<12:15,  9.55s/it]"
     ]
    },
    {
     "name": "stdout",
     "output_type": "stream",
     "text": [
      "cost: 17.0654\taccuracy: 0.43359375 in 23epoch in 0batch\n",
      "cost: 28.8673\taccuracy: 0.4453125 in 23epoch in 40batch\n",
      "cost: 17.9093\taccuracy: 0.43359375 in 23epoch in 80batch\n",
      "cost: 14.0141\taccuracy: 0.44921875 in 23epoch in 120batch\n",
      "cost: 19.1824\taccuracy: 0.421875 in 23epoch in 160batch\n",
      "cost: 15.1571\taccuracy: 0.4453125 in 23epoch in 200batch\n",
      "---> cost: 2956.41\taccuracy: 0.4186 in 23epoch\n"
     ]
    },
    {
     "name": "stderr",
     "output_type": "stream",
     "text": [
      "\r",
      " 24%|███████████████████▍                                                             | 24/100 [03:49<12:05,  9.54s/it]"
     ]
    },
    {
     "name": "stdout",
     "output_type": "stream",
     "text": [
      "cost: 13.3029\taccuracy: 0.421875 in 24epoch in 0batch\n",
      "cost: 14.983\taccuracy: 0.44140625 in 24epoch in 40batch\n",
      "cost: 20.1588\taccuracy: 0.44921875 in 24epoch in 80batch\n",
      "cost: 17.9239\taccuracy: 0.4765625 in 24epoch in 120batch\n",
      "cost: 13.731\taccuracy: 0.42578125 in 24epoch in 160batch\n",
      "cost: 12.3364\taccuracy: 0.390625 in 24epoch in 200batch\n",
      "---> cost: 2838.27\taccuracy: 0.398945454545 in 24epoch\n"
     ]
    },
    {
     "name": "stderr",
     "output_type": "stream",
     "text": [
      "\r",
      " 25%|████████████████████▎                                                            | 25/100 [03:58<11:56,  9.55s/it]"
     ]
    },
    {
     "name": "stdout",
     "output_type": "stream",
     "text": [
      "cost: 11.5172\taccuracy: 0.4375 in 25epoch in 0batch\n",
      "cost: 14.8553\taccuracy: 0.421875 in 25epoch in 40batch\n",
      "cost: 13.2692\taccuracy: 0.4296875 in 25epoch in 80batch\n",
      "cost: 15.4738\taccuracy: 0.42578125 in 25epoch in 120batch\n",
      "cost: 15.0603\taccuracy: 0.4140625 in 25epoch in 160batch\n",
      "cost: 13.9173\taccuracy: 0.49609375 in 25epoch in 200batch\n",
      "---> cost: 2420.8\taccuracy: 0.416709090909 in 25epoch\n"
     ]
    },
    {
     "name": "stderr",
     "output_type": "stream",
     "text": [
      "\r",
      " 26%|█████████████████████                                                            | 26/100 [04:08<11:46,  9.54s/it]"
     ]
    },
    {
     "name": "stdout",
     "output_type": "stream",
     "text": [
      "cost: 12.7509\taccuracy: 0.45703125 in 26epoch in 0batch\n",
      "cost: 12.1267\taccuracy: 0.50390625 in 26epoch in 40batch\n",
      "cost: 18.5636\taccuracy: 0.4375 in 26epoch in 80batch\n",
      "cost: 14.8211\taccuracy: 0.390625 in 26epoch in 120batch\n",
      "cost: 18.106\taccuracy: 0.39453125 in 26epoch in 160batch\n",
      "cost: 16.9155\taccuracy: 0.40234375 in 26epoch in 200batch\n",
      "---> cost: 3189.42\taccuracy: 0.406418181818 in 26epoch\n"
     ]
    },
    {
     "name": "stderr",
     "output_type": "stream",
     "text": [
      "\r",
      " 27%|█████████████████████▊                                                           | 27/100 [04:17<11:36,  9.54s/it]"
     ]
    },
    {
     "name": "stdout",
     "output_type": "stream",
     "text": [
      "cost: 16.6359\taccuracy: 0.40234375 in 27epoch in 0batch\n",
      "cost: 16.5697\taccuracy: 0.421875 in 27epoch in 40batch\n",
      "cost: 17.5778\taccuracy: 0.3515625 in 27epoch in 80batch\n",
      "cost: 24.4602\taccuracy: 0.4375 in 27epoch in 120batch\n",
      "cost: 18.3768\taccuracy: 0.4140625 in 27epoch in 160batch\n",
      "cost: 16.3886\taccuracy: 0.41796875 in 27epoch in 200batch\n",
      "---> cost: 3665.43\taccuracy: 0.376927272727 in 27epoch\n"
     ]
    },
    {
     "name": "stderr",
     "output_type": "stream",
     "text": [
      "\r",
      " 28%|██████████████████████▋                                                          | 28/100 [04:26<11:26,  9.53s/it]"
     ]
    },
    {
     "name": "stdout",
     "output_type": "stream",
     "text": [
      "cost: 17.3359\taccuracy: 0.42578125 in 28epoch in 0batch\n",
      "cost: 14.9769\taccuracy: 0.39453125 in 28epoch in 40batch\n",
      "cost: 14.7968\taccuracy: 0.3671875 in 28epoch in 80batch\n",
      "cost: 22.7102\taccuracy: 0.37890625 in 28epoch in 120batch\n",
      "cost: 22.2554\taccuracy: 0.46484375 in 28epoch in 160batch\n"
     ]
    }
   ],
   "source": [
    "from sklearn.cluster import KMeans\n",
    "tf.reset_default_graph()\n",
    "DenseLayer.number = 0\n",
    "ConvLayer.number = 0\n",
    "PoolingLayer.number = 0\n",
    "EmbeddingLayer.number = 0\n",
    "RnnLayer.number = 0\n",
    "SAE.number = 0\n",
    "ClusteringLayer.number = 0\n",
    "\n",
    "def cluster_acc(y_true, y_pred):\n",
    "    \"\"\"\n",
    "    Calculate clustering accuracy. Require scikit-learn installed\n",
    "    # Arguments\n",
    "        y: true labels, numpy.array with shape `(n_samples,)`\n",
    "        y_pred: predicted labels, numpy.array with shape `(n_samples,)`\n",
    "    # Return\n",
    "        accuracy, in [0,1]\n",
    "    \"\"\"\n",
    "    y_true = y_true.astype(np.int64)\n",
    "    assert y_pred.size == y_true.size\n",
    "    D = max(y_pred.max(), y_true.max()) + 1\n",
    "    w = np.zeros((D, D), dtype=np.int64)\n",
    "    for i in range(y_pred.size):\n",
    "        w[y_pred[i], y_true[i]] += 1\n",
    "    from sklearn.utils.linear_assignment_ import linear_assignment\n",
    "    ind = linear_assignment(w.max() - w)\n",
    "    return sum([w[i, j] for i, j in ind]) * 1.0 / y_pred.size\n",
    "\n",
    "def target_distribution_np(q):\n",
    "    weight = np.square(q) / np.sum(q,axis=0)\n",
    "    return np.transpose( np.transpose(weight) /np.sum(weight,axis=1))\n",
    "\n",
    "def target_distribution(q):\n",
    "    with tf.name_scope('target_distribution'):\n",
    "        weight = tf.square(q) / tf.reduce_sum(q,axis=0)\n",
    "        return tf.transpose( tf.transpose(weight) /tf.reduce_sum(weight,axis=1))\n",
    "\n",
    "p = tf.placeholder(dtype=tf.float32,shape=(None,10))\n",
    "#create encoder with pretrained weights\n",
    "# encoder = DNN(X_train,y_train,[DenseLayer(500,initialize_weights=weights[0]),DenseLayer(500,initialize_weights=weights[1]),\\\n",
    "#                                DenseLayer(2000,initialize_weights=weights[2]),DenseLayer(10,initialize_weights=weights[3]),\\\n",
    "#                                 ],dtypes=[tf.float32,tf.int32])\n",
    "\n",
    "encoder = DNN(X_train,y_train,[DenseLayer(500),DenseLayer(500),\\\n",
    "                               DenseLayer(2000),DenseLayer(10,activation_function=None),\\\n",
    "                                ],dtypes=[tf.float32,tf.int32])\n",
    "\n",
    "encoder_output = encoder.forward()[-1]\n",
    "#get encoder features\n",
    "# with tf.Session() as sess:\n",
    "#     sess.run(tf.global_variables_initializer())\n",
    "#     features = sess.run(encoder_output,feed_dict={encoder.X:X_train,encoder.y:y_train})\n",
    "\n",
    "# #get kmean weights to initialize clustering layer\n",
    "# print('kmeans')\n",
    "# n_clusters=10\n",
    "# km = KMeans(n_clusters, n_init=20)\n",
    "# y_pred = km.fit_predict(features)\n",
    "# kmeans_weights =km.cluster_centers_ \n",
    "# print(km.cluster_centers_.shape)\n",
    "\n",
    "#clustering = DNN(encoder_output,encoder.y,[ClusteringLayer(10,initialize_weights=kmeans_weights)],as_placeholders=False)\n",
    "clustering = DNN(encoder_output,encoder.y,[ClusteringLayer(10)],as_placeholders=False)\n",
    "clustering_activations = clustering.forward()\n",
    "############################################print(clustering.layers[-1].variable_scope_name)\n",
    "q = clustering_activations[-1]\n",
    "print(q)\n",
    "#p = target_distribution(q)\n",
    "#p = target_distribution(q)\n",
    "print(p)\n",
    "kld_cost = encoder.kl_divergence(p,q)\n",
    "tf.summary.scalar('loss',kld_cost)\n",
    "optimizer = tf.train.MomentumOptimizer(0.001,0.9)\n",
    "#optimizer = tf.train.AdamOptimizer()\n",
    "train = optimizer.minimize(kld_cost)\n",
    "\n",
    "merged = tf.summary.merge_all()\n",
    "\n",
    "num_epochs = 100\n",
    "batch_size = 256\n",
    "tol=1e-3\n",
    "\n",
    "with tf.Session() as sess:\n",
    "    sess.run(tf.global_variables_initializer())\n",
    "    \n",
    "    #write training data to file in order to visualize it with tensorboard\n",
    "    log_name = datetime.now().strftime(\"%Y%m%d-%H%M%S\")\n",
    "    #train_writer = tf.summary.FileWriter('summaries/train/logs'+log_name,sess.graph)\n",
    "    test_writer = tf.summary.FileWriter('summaries/test/logs'+log_name,sess.graph)\n",
    "    \n",
    "    \n",
    "    q_value=sess.run(q,feed_dict={encoder.X : X_train})  \n",
    "\n",
    "    p_value = target_distribution_np(q_value)\n",
    "\n",
    "    cost=sess.run(kld_cost,feed_dict={encoder.X : X_train,p:p_value})  \n",
    "    batch_train_acc = cluster_acc(y_train,np.argmax(q_value,axis=1).reshape(-1,1))\n",
    "    print(\"---> cost: \"+str(cost)+\"\\taccuracy: \"+ str(batch_train_acc)+' BEFORE TRAINING')\n",
    "    \n",
    "    \n",
    "    #training \n",
    "    y_pred_last = 1\n",
    "    for i in tqdm(range(num_epochs)):\n",
    "        for c,batch in enumerate(range(int(np.ceil(mnist.train.num_examples/batch_size)))):\n",
    "            batch = mnist.train.next_batch(batch_size=batch_size)\n",
    "            batch_x = batch[0]\n",
    "            batch_y = batch[1]\n",
    "            batch_y = np.argmax(batch_y,axis=1).reshape(-1,1)\n",
    "\n",
    "            q_value=sess.run(q,feed_dict={encoder.X : batch_x})  \n",
    "            p_value = target_distribution_np(q_value)\n",
    "            #cost,_,=sess.run([kld_cost,train],feed_dict={encoder.X : batch_x,p:p_value,encoder.y : batch_y }) \n",
    "            p_value,q_value,cost,_,=sess.run([p,q,kld_cost,train],feed_dict={encoder.X : batch_x , p:p_value}) \n",
    "            batch_train_acc = cluster_acc(batch_y,np.argmax(q_value,axis=1).reshape(-1,1))\n",
    "            if c%40==0:\n",
    "                print(\"cost: \"+str(cost)+\"\\taccuracy: \"+ str(batch_train_acc)+\" in \" + str(i) + 'epoch in ' +str(c) +'batch')\n",
    "        \n",
    "        q_value=sess.run(q,feed_dict={encoder.X : X_train})  \n",
    "        p_value = target_distribution_np(q_value)\n",
    "        summary,q_value,cost=sess.run([merged,q,kld_cost],feed_dict={encoder.X : X_train, p:p_value}) \n",
    "        test_writer.add_summary(summary, i)\n",
    "        batch_train_acc = cluster_acc(y_train,np.argmax(q_value,axis=1).reshape(-1,1))\n",
    "        print(\"---> cost: \"+str(cost)+\"\\taccuracy: \"+ str(batch_train_acc)+\" in \" + str(i) + 'epoch')\n",
    "        \n"
   ]
  },
  {
   "cell_type": "code",
   "execution_count": null,
   "metadata": {
    "collapsed": true
   },
   "outputs": [],
   "source": []
  },
  {
   "cell_type": "code",
   "execution_count": null,
   "metadata": {
    "collapsed": false
   },
   "outputs": [],
   "source": [
    "def cluster_acc(y_true, y_pred):\n",
    "    \"\"\"\n",
    "    Calculate clustering accuracy. Require scikit-learn installed\n",
    "    # Arguments\n",
    "        y: true labels, numpy.array with shape `(n_samples,)`\n",
    "        y_pred: predicted labels, numpy.array with shape `(n_samples,)`\n",
    "    # Return\n",
    "        accuracy, in [0,1]\n",
    "    \"\"\"\n",
    "    y_true = y_true.astype(np.int64)\n",
    "    assert y_pred.size == y_true.size\n",
    "    D = max(y_pred.max(), y_true.max()) + 1\n",
    "    w = np.zeros((D, D), dtype=np.int64)\n",
    "    for i in range(y_pred.size):\n",
    "        w[y_pred[i], y_true[i]] += 1\n",
    "    from sklearn.utils.linear_assignment_ import linear_assignment\n",
    "    ind = linear_assignment(w.max() - w)\n",
    "    return sum([w[i, j] for i, j in ind]) * 1.0 / y_pred.size\n",
    "\n",
    "print('performing k-means clustering on the extracted features')\n",
    "\n",
    "n_clusters=10\n",
    "print(sae.extract_feature.shape)\n",
    "km = KMeans(n_clusters, n_init=20)\n",
    "y_pred = km.fit_predict(sae.extract_feature)\n",
    "y = y_train.reshape(-1)\n",
    "from sklearn.metrics import normalized_mutual_info_score as nmi\n",
    "from sklearn.metrics import accuracy_score \n",
    "print('K-means clustering result on extracted features: NMI = '+str(nmi(y, y_pred)))\n",
    "print('K-means clustering result on extracted features: accuracy = '+str(cluster_acc(y, y_pred)))\n"
   ]
  },
  {
   "cell_type": "code",
   "execution_count": null,
   "metadata": {
    "collapsed": false,
    "scrolled": false
   },
   "outputs": [],
   "source": [
    "import time\n",
    "from sklearn.manifold import TSNE\n",
    "from ggplot import *\n",
    "\n",
    "def tsne(x,y,n_sne):  \n",
    "    time_start = time.time()\n",
    "    tsne = TSNE(n_components=2, verbose=1, perplexity=40, n_iter=300)\n",
    "    tsne_results = tsne.fit_transform(x[:n_sne])\n",
    "    print(x.shape)\n",
    "    print(y.shape)\n",
    "    print('t-SNE done! Time elapsed: {} seconds'.format(time.time()-time_start))\n",
    "    x_tsne = np.expand_dims(tsne_results[:,0],1)\n",
    "    y_tsne = np.expand_dims(tsne_results[:,1],1)\n",
    "    label = np.int32(y[:n_sne])\n",
    "    data = np.concatenate((x_tsne,y_tsne,label),axis=1)\n",
    "\n",
    "    df_tsne = pd.DataFrame(data=data,columns=['x-tsne','y-tsne','label'])\n",
    "    df_tsne.label  = df_tsne.label.map(lambda x:  str(x))\n",
    "    chart = ggplot( df_tsne, aes(x='x-tsne', y='y-tsne', color='label') ) \\\n",
    "            + geom_point(size=70,alpha=0.1) \\\n",
    "            + ggtitle(\"tSNE dimensions colored by digit\")\n",
    "    chart.show()\n",
    "tsne(X_train,y_train,5000)\n",
    "tsne(sae.extract_feature,y_train,5000)"
   ]
  },
  {
   "cell_type": "code",
   "execution_count": null,
   "metadata": {
    "collapsed": true
   },
   "outputs": [],
   "source": []
  }
 ],
 "metadata": {
  "anaconda-cloud": {},
  "kernelspec": {
   "display_name": "Python 3",
   "language": "python",
   "name": "python3"
  },
  "language_info": {
   "codemirror_mode": {
    "name": "ipython",
    "version": 3
   },
   "file_extension": ".py",
   "mimetype": "text/x-python",
   "name": "python",
   "nbconvert_exporter": "python",
   "pygments_lexer": "ipython3",
   "version": "3.5.3"
  }
 },
 "nbformat": 4,
 "nbformat_minor": 2
}
