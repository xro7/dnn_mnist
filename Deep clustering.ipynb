{
 "cells": [
  {
   "cell_type": "code",
   "execution_count": 1,
   "metadata": {
    "collapsed": true
   },
   "outputs": [],
   "source": [
    "import tensorflow as tf\n",
    "import pandas as pd\n",
    "import numpy as np\n",
    "import matplotlib.pyplot as plt\n",
    "import sklearn as sk\n",
    "%matplotlib inline\n",
    "from sklearn.model_selection import train_test_split\n",
    "from datetime import datetime\n",
    "from tqdm import tqdm\n",
    "from sklearn.utils import shuffle\n",
    "import nltk\n"
   ]
  },
  {
   "cell_type": "code",
   "execution_count": 2,
   "metadata": {},
   "outputs": [],
   "source": [
    "# %load DNN.py\n",
    "class DNN():\n",
    "    \n",
    "    number = 0\n",
    "    \n",
    "    def __init__(self,X_train,y_train,layers,as_placeholders=True,dtypes=[tf.float32,tf.float32],**kwargs):\n",
    "        self.X_train = X_train\n",
    "        self.y_train = y_train\n",
    "        if as_placeholders:\n",
    "            self.X = tf.placeholder(dtype=dtypes[0],shape=(None,)+X_train.shape[1:])\n",
    "            self.y = tf.placeholder(dtype=dtypes[1],shape=(None,)+y_train.shape[1:])\n",
    "        else:\n",
    "            self.X = X_train\n",
    "            self.y = y_train\n",
    "        self.layers = layers\n",
    "        self.activations = [self.X]\n",
    "        DNN.number +=1\n",
    "            \n",
    "    def forward(self):       \n",
    "        for i,layer in enumerate(self.layers):\n",
    "            layer.set_input(self.activations[i])\n",
    "            self.activations.append(layer.forward())\n",
    "        return self.activations\n",
    "    \n",
    "    def cost(self):\n",
    "        #return tf.reduce_sum(tf.square(self.activations[-1]-self.y))\n",
    "        return tf.reduce_mean(tf.nn.softmax_cross_entropy_with_logits(logits=self.activations[-1],labels=self.y))\n",
    "    \n",
    "    def squared_cost(self):\n",
    "        return tf.reduce_mean(tf.squared_difference(self.activations[-1], self.y))\n",
    "    \n",
    "    def kl_divergence(self,p, q): \n",
    "        return tf.reduce_sum(p * tf.log(p/q))\n",
    "        #return -0.5 * tf.reduce_sum(1 + p - tf.square(q) - tf.exp(p))\n",
    "#         temp = p/q\n",
    "#         return tf.reduce_mean(-tf.nn.softmax_cross_entropy_with_logits(labels=p, logits=temp))\n",
    "       # return tf.contrib.distributions.kl_divergence(p, q,)\n",
    "class DenseLayer():\n",
    "    \n",
    "    number = 0\n",
    "    \n",
    "    def __init__(self,units,activation_function=tf.nn.relu,batch_norm=False,keep_prob=1.0,initialize_weights=None):\n",
    "        self.units = units\n",
    "        self.keep_prob = keep_prob\n",
    "        self.activation_function = activation_function\n",
    "        self.batch_norm = batch_norm\n",
    "        self.variable_scope_name = 'Dense-'+str(DenseLayer.number)\n",
    "        self.initialize_weights = initialize_weights\n",
    "        DenseLayer.number+=1\n",
    "        \n",
    "    def set_input(self,x):\n",
    "        self.x = x\n",
    "        if(len(x.shape)==4):\n",
    "            shape = self.x.get_shape().as_list()        \n",
    "            dim = np.prod(shape[1:])\n",
    "            self.x = tf.reshape(tensor=self.x,shape=[-1,dim])\n",
    "\n",
    "        with tf.variable_scope(self.variable_scope_name):  \n",
    "            self.init_W((self.x.get_shape().as_list()[1],self.units))\n",
    "            self.init_b(self.units)\n",
    "            if(self.batch_norm):\n",
    "                self.epsilon = 1e-3\n",
    "                self.scale = tf.get_variable('scale', initializer=tf.ones(shape=[self.units]))\n",
    "                self.beta =  tf.get_variable('beta', initializer=tf.zeros(shape=[self.units]))\n",
    "\n",
    "        \n",
    "    def init_W(self,shape):\n",
    "        #another way to do this with get variable\n",
    "        #self.w= tf.Variable(tf.multiply(tf.random_normal(shape),0.01),dtype=tf.float32)'\n",
    "        if self.initialize_weights is None: \n",
    "            self.w=tf.get_variable('weight',shape=shape,initializer=tf.contrib.layers.xavier_initializer())\n",
    "        else:\n",
    "            self.w=tf.get_variable('weight',shape=shape,initializer=tf.constant_initializer(self.initialize_weights))\n",
    "        tf.summary.histogram('weight',self.w)\n",
    "    \n",
    "    def init_b(self,shape):\n",
    "        #self.b = tf.Variable(tf.fill([shape],0.1),dtype=tf.float32)\n",
    "        init = tf.constant(0.1,shape=[shape])\n",
    "        self.b = tf.get_variable('bias', initializer=init)\n",
    "        tf.summary.histogram('bias',self.b)\n",
    "        \n",
    "    def forward(self):\n",
    "        if self.x == None:\n",
    "            print('no input defined')\n",
    "        else:\n",
    "            #batch norm not working properly\n",
    "            #or maybe it is working properly but it needs bigger batch size. like 64. This makes sense because you make estimates of\n",
    "            #mean and variance for every z calculation. This means that the bigger the batch size the more accurate the estimate\n",
    "            if(self.batch_norm):\n",
    "                self.z = tf.matmul(self.x,self.w)\n",
    "                self.batch_mean, self.batch_var = tf.nn.moments(self.z,[0])\n",
    "                self.z  = tf.nn.batch_normalization(self.z,self.batch_mean,self.batch_var,self.beta,self.scale,self.epsilon)\n",
    "            else:\n",
    "                self.z = tf.nn.xw_plus_b(self.x,self.w,self.b)\n",
    "            if self.activation_function == None:\n",
    "                self.activation = self.z\n",
    "            else:\n",
    "                self.activation  = self.activation_function(self.z)\n",
    "            self.activation = tf.nn.dropout(self.activation,self.keep_prob)\n",
    "            tf.summary.histogram('activations',self.activation)\n",
    "            return self.activation\n",
    "        \n",
    "class ConvLayer():\n",
    "\n",
    "    number = 0\n",
    "    def __init__(self,kernel_size,number_of_kernels,padding='SAME',activation_function=tf.nn.relu,batch_norm = False,keep_prob=1.0):\n",
    "        self.kernel_size = kernel_size\n",
    "        self.number_of_kernels = number_of_kernels\n",
    "        self.padding = padding\n",
    "        self.activation_function = activation_function\n",
    "        self.keep_prob = keep_prob\n",
    "        self.batch_norm = batch_norm\n",
    "        self.variable_scope_name = 'Conv-'+str(ConvLayer.number)\n",
    "        ConvLayer.number+=1\n",
    "        \n",
    "    def set_input(self,x):\n",
    "        with tf.variable_scope(self.variable_scope_name):         \n",
    "            self.x = x\n",
    "            if(isinstance(self.kernel_size,tuple)):\n",
    "                self.init_Kernel(self.kernel_size+(x.get_shape().as_list()[-1],self.number_of_kernels))\n",
    "            else:\n",
    "                self.init_Kernel((self.kernel_size,self.kernel_size,x.get_shape().as_list()[-1],self.number_of_kernels)) \n",
    "            self.init_b(self.number_of_kernels)\n",
    "            if(self.batch_norm):\n",
    "                self.epsilon = 1e-3\n",
    "                self.scale = tf.get_variable('scale', initializer=tf.ones(shape=[self.number_of_kernels]))\n",
    "                self.beta =  tf.get_variable('beta', initializer=tf.zeros(shape=[self.number_of_kernels]))\n",
    "        \n",
    "    def init_Kernel(self,shape):\n",
    "        self.kernel=tf.get_variable('kernel',shape=shape,initializer=tf.contrib.layers.xavier_initializer())\n",
    "        tf.summary.histogram('kernel',self.kernel)\n",
    "        \n",
    "    def init_b(self,shape):\n",
    "        self.b = tf.get_variable('bias',shape=[shape],initializer=tf.constant_initializer(0.1))\n",
    "        tf.summary.histogram('bias',self.b)\n",
    "        \n",
    "    def forward(self):\n",
    "        if self.x == None:\n",
    "            print('no input defined')\n",
    "        else:\n",
    "            if self.batch_norm:\n",
    "                \n",
    "                self.z = tf.nn.conv2d(self.x , self.kernel, [1, 1, 1, 1], padding=self.padding)\n",
    "                self.batch_mean, self.batch_var = tf.nn.moments(self.z,[0,1,2])\n",
    "                self.z  = tf.nn.batch_normalization(self.z,self.batch_mean,self.batch_var,self.beta,self.scale,self.epsilon)\n",
    "                \n",
    "            else:\n",
    "                self.z = tf.nn.conv2d(self.x , self.kernel, [1, 1, 1, 1], padding=self.padding)\n",
    "                self.z = tf.nn.bias_add(self.z, self.b)  \n",
    "                    \n",
    "            if self.activation_function == None:\n",
    "                self.activation = self.z\n",
    "            else:\n",
    "                self.activation  = self.activation_function(self.z)\n",
    "            #dropout\n",
    "            self.activation = tf.nn.dropout(self.activation,self.keep_prob)\n",
    "            tf.summary.histogram('activations',self.activation)\n",
    "        return self.activation\n",
    "        \n",
    "class PoolingLayer():\n",
    "    \n",
    "    number = 0\n",
    "    \n",
    "    def __init__(self,kernel_size,stride,padding='SAME',pooling='MAX'):\n",
    "        self.kernel_size = kernel_size\n",
    "        self.stride = stride\n",
    "        self.pooling = pooling\n",
    "        self.padding = padding\n",
    "        self.variable_scope_name = 'Pool-'+str(PoolingLayer.number)\n",
    "        PoolingLayer.number+=1\n",
    "        \n",
    "    def set_input(self,x):\n",
    "        with tf.variable_scope(self.variable_scope_name):         \n",
    "            self.x = x\n",
    "        \n",
    "    def forward(self):\n",
    "        if self.x == None:\n",
    "            print('no input defined')\n",
    "        else:\n",
    "            if(isinstance(self.kernel_size,tuple)):\n",
    "                size = list(self.kernel_size)\n",
    "            else:\n",
    "                size = [self.kernel_size,self.kernel_size]   \n",
    "            if (self.pooling == 'MAX'):\n",
    "                self.activation = tf.nn.max_pool(self.x,[1]+size+[1],[1,self.stride,self.stride,1],padding=self.padding)\n",
    "            elif (self.pooling == 'AVG'):\n",
    "                self.activation = tf.nn.avg_pool(self.x,[1]+size+[1],[1,self.stride,self.stride,1],padding=self.padding)\n",
    "        return self.activation\n",
    "    \n",
    "class EmbeddingLayer():\n",
    "    \n",
    "    number = 0\n",
    "    \n",
    "    def __init__(self,vocabulary_size,embedding_diamension,pretrained_word2vec=True,as_sequences=None):\n",
    "        self.embedding_diamension = embedding_diamension\n",
    "        self.vocabulary_size = vocabulary_size\n",
    "        self.pretrained_word2vec = pretrained_word2vec\n",
    "        self.variable_scope_name = 'Embedding-'+str(PoolingLayer.number)\n",
    "        self.init_Embeddings((self.vocabulary_size,self.embedding_diamension))\n",
    "        self.as_sequences = as_sequences\n",
    "        EmbeddingLayer.number+=1\n",
    "        \n",
    "    def set_input(self,x):\n",
    "        with tf.variable_scope(self.variable_scope_name):         \n",
    "            self.x = x\n",
    "            if self.as_sequences:\n",
    "                self.sequence_length = x.shape[1]\n",
    "        \n",
    "    def init_Embeddings(self,shape):\n",
    "        with tf.variable_scope(self.variable_scope_name):  \n",
    "            if(self.pretrained_word2vec):             \n",
    "                self.W = tf.Variable(tf.constant(0.0, shape=[self.vocabulary_size, self.embedding_diamension]),trainable=True, name=\"embedding_weights\")\n",
    "                self.embedding_placeholder = tf.placeholder(tf.float32, [self.vocabulary_size, self.embedding_diamension])\n",
    "                self.embedding_init = self.W.assign(self.embedding_placeholder)\n",
    "            else:\n",
    "                self.W = tf.get_variable(\"embedding_weights\", shape=[self.vocabulary_size, self.embedding_diamension],initializer=tf.contrib.layers.xavier_initializer())\n",
    "    def forward(self):\n",
    "        # TODO: implement as sequences to provide data for lstm\n",
    "        if self.x == None:\n",
    "            print('no input defined')\n",
    "        else:\n",
    "            #this is called activation to follow the pattern of other layers\n",
    "            self.activation = tf.nn.embedding_lookup(self.W, self.x)\n",
    "            if self.as_sequences == 'static':\n",
    "                self.activation = tf.transpose(self.activation, [1,0,2])\n",
    "                self.activation = tf.reshape(self.activation , [-1,self.embedding_diamension])\n",
    "                self.activation  = tf.split(self.activation ,self.sequence_length,0)\n",
    "            elif self.as_sequences == 'dynamic':\n",
    "                pass\n",
    "            else:\n",
    "                self.activation = tf.expand_dims(self.activation, -1)        #need 4 diamensions to apply convolution\n",
    "            return self.activation\n",
    "class RnnLayer():\n",
    "    number = 0\n",
    "    def __init__(self,units,activation_function = None,cell_type = 'LSTM',keep_prob=1.0,rnn_type='static'):\n",
    "        self.units = units\n",
    "        self.activation_function = activation_function\n",
    "        self.keep_prob = keep_prob\n",
    "        self.cell_type = cell_type\n",
    "        self.rnn_type = rnn_type\n",
    "        self.variable_scope_name = 'Rnn-'+str(RnnLayer.number)\n",
    "        RnnLayer.number+=1\n",
    "        \n",
    "    def set_input(self,x):\n",
    "        with tf.variable_scope(self.variable_scope_name):         \n",
    "            self.x = x\n",
    "        \n",
    "    def forward(self):\n",
    "        if self.x == None:\n",
    "            print('no input defined')\n",
    "        else:\n",
    "            if self.cell_type == 'LSTM':\n",
    "                cell = tf.nn.rnn_cell.LSTMCell(self.units,activation=self.activation_function)\n",
    "                cell = tf.nn.rnn_cell.DropoutWrapper(cell=cell, output_keep_prob=self.keep_prob)\n",
    "            elif self.cell_type == 'GRU':\n",
    "                cell = tf.nn.rnn_cell.GRUCell(self.units,activation=self.activation_function)\n",
    "                cell = tf.nn.rnn_cell.DropoutWrapper(cell=cell, output_keep_prob=self.keep_prob)\n",
    "                \n",
    "            #need to fix this\n",
    "            #self.activation = tf.nn.dynamic_rnn(cell,self.x,sequence_length=self.sequence_length)\n",
    "            if (self.rnn_type == 'static'):\n",
    "                self.output, self.states = tf.nn.static_rnn(cell,self.x,dtype=tf.float32)\n",
    "                self.activation = self.output[-1]\n",
    "            elif (self.rnn_type == 'dynamic'):\n",
    "                self.output, self.states = tf.nn.dynamic_rnn(cell,self.x,dtype=tf.float32)\n",
    "                self.activation = self.output[:,-1,:]\n",
    "        return self.activation\n",
    "    "
   ]
  },
  {
   "cell_type": "code",
   "execution_count": 3,
   "metadata": {},
   "outputs": [
    {
     "data": {
      "text/plain": [
       "'1.4.0'"
      ]
     },
     "execution_count": 3,
     "metadata": {},
     "output_type": "execute_result"
    }
   ],
   "source": [
    "tf.__version__"
   ]
  },
  {
   "cell_type": "code",
   "execution_count": 27,
   "metadata": {},
   "outputs": [
    {
     "name": "stdout",
     "output_type": "stream",
     "text": [
      "Extracting D:/programming/python/datasets/mnist_data\\train-images-idx3-ubyte.gz\n",
      "Extracting D:/programming/python/datasets/mnist_data\\train-labels-idx1-ubyte.gz\n",
      "Extracting D:/programming/python/datasets/mnist_data\\t10k-images-idx3-ubyte.gz\n",
      "Extracting D:/programming/python/datasets/mnist_data\\t10k-labels-idx1-ubyte.gz\n"
     ]
    }
   ],
   "source": [
    "from tensorflow.examples.tutorials.mnist import input_data\n",
    "mnist = input_data.read_data_sets('D:/programming/python/datasets/mnist_data', one_hot=True)\n",
    "\n",
    "X_train = mnist.train.images\n",
    "y_train = mnist.train.labels\n",
    "X_test = mnist.test.images\n",
    "y_test = mnist.test.labels\n",
    "# X_train = np.concatenate((X_train,X_test))\n",
    "# y_train = np.concatenate((y_train,y_test))\n",
    "y_train = np.argmax(y_train,axis=1).reshape((-1,1))"
   ]
  },
  {
   "cell_type": "code",
   "execution_count": 5,
   "metadata": {
    "collapsed": true
   },
   "outputs": [],
   "source": [
    "class SAE():\n",
    "    \n",
    "    def __init__(self,X_train,layer_dimensions):\n",
    "        self.X_train = X_train\n",
    "        self.input_dimensions = X_train.shape[1]\n",
    "        self.layer_dimensions = layer_dimensions\n",
    "        self.init_layers()\n",
    "        with tf.variable_scope('encoder'):\n",
    "            self.encoder = DNN(X_train,X_train,self.encoder_layers)\n",
    "            self.encoder_activations = self.encoder.forward()\n",
    "            self.encoder_output = self.encoder_activations[-1]\n",
    "        with tf.variable_scope('decoder'):\n",
    "            self.decoder = DNN(self.encoder_output,self.encoder.y,self.decoder_layers,as_placeholders=False)# transfoermed x and previous y which were placeholders\n",
    "            self.decoder_activations = self.decoder.forward()\n",
    "    \n",
    "    def init_layers(self):\n",
    "        \n",
    "        self.encoder_layers = []\n",
    "        self.decoder_layers = []\n",
    "        for i in self.layer_dimensions[:-1]:\n",
    "            self.encoder_layers.append(DenseLayer(i))\n",
    "        self.encoder_layers.append(DenseLayer(self.layer_dimensions[-1],activation_function=None)) ##bottleneck layer\n",
    "        for i in reversed(self.layer_dimensions[:-1]):\n",
    "            self.decoder_layers.append(DenseLayer(i))\n",
    "        self.decoder_layers.append(DenseLayer(self.input_dimensions,activation_function=None)) #output layer no activation\n",
    "        \n",
    "    def fit(self,num_epochs,batch_size):\n",
    "\n",
    "        loss = self.decoder.squared_cost()\n",
    "        tf.summary.scalar('loss', loss)\n",
    "        optimizer = tf.train.AdamOptimizer()\n",
    "        train = optimizer.minimize(loss)\n",
    "\n",
    "        correct_pred = tf.equal(tf.argmax(self.decoder_activations[-1], 1), tf.argmax(self.encoder.X, 1))\n",
    "        accuracy = tf.reduce_mean(tf.cast(correct_pred, tf.float32))\n",
    "        tf.summary.scalar('accuracy', accuracy)\n",
    "        merged = tf.summary.merge_all()\n",
    "        \n",
    "        saver = tf.train.Saver()\n",
    "\n",
    "        with tf.Session() as sess:\n",
    "            sess.run(tf.global_variables_initializer())\n",
    "\n",
    "            #write training data to file in order to visualize it with tensorboard\n",
    "            log_name = datetime.now().strftime(\"%Y%m%d-%H%M%S\")\n",
    "            #train_writer = tf.summary.FileWriter('summaries/train/logs'+log_name,sess.graph)\n",
    "            test_writer = tf.summary.FileWriter('summaries/test/logs'+log_name,sess.graph)\n",
    "\n",
    "            #training \n",
    "            for i in tqdm(range(num_epochs)):\n",
    "                for c,batch in enumerate(range(int(np.ceil(mnist.train.num_examples/batch_size)))):\n",
    "                    batch = mnist.train.next_batch(batch_size=batch_size)\n",
    "                    batch_x = batch[0]\n",
    "                    feed_dict={self.encoder.X : batch_x,self.encoder.y : batch_x}\n",
    "                    cost,_,acc= sess.run([loss,train,accuracy],feed_dict=feed_dict)\n",
    "\n",
    "                feed_dict={self.encoder.X : self.X_train,self.encoder.y : self.X_train}\n",
    "                summary,test_acc,test_cost = sess.run([merged,accuracy,loss],feed_dict=feed_dict)\n",
    "                test_writer.add_summary(summary, i)  \n",
    "            feed_dict={self.encoder.X : self.X_train,self.encoder.y : self.X_train}\n",
    "            self.extract_feature = sess.run(self.encoder_output,feed_dict=feed_dict)\n",
    "            saver.save(sess, './model/my-test-model')\n",
    "        \n",
    "        "
   ]
  },
  {
   "cell_type": "code",
   "execution_count": 6,
   "metadata": {},
   "outputs": [],
   "source": [
    "class ClusteringLayer():\n",
    "    \n",
    "    number = 0 \n",
    "    \n",
    "    def __init__(self, n_clusters, alpha=1.0,initialize_weights = None):\n",
    "        self.n_clusters = n_clusters\n",
    "        self.alpha = alpha\n",
    "        self.initialize_weights = initialize_weights\n",
    "        self.variable_scope_name = 'Clustering-'+str(ClusteringLayer.number)\n",
    "        ClusteringLayer.number+=1\n",
    "        \n",
    "    def set_input(self,x):\n",
    "        \n",
    "        self.x = x\n",
    "\n",
    "        with tf.variable_scope(self.variable_scope_name):  \n",
    "            self.init_Clusters((self.n_clusters,self.x.get_shape().as_list()[1]))\n",
    "        \n",
    "    def init_Clusters(self,shape):\n",
    "        if self.initialize_weights is None: \n",
    "            self.clusters=tf.get_variable('weight',shape=shape,initializer=tf.contrib.layers.xavier_initializer())\n",
    "        else:\n",
    "            self.clusters=tf.get_variable('weight',shape=shape,initializer=tf.constant_initializer(self.initialize_weights))\n",
    "        tf.summary.histogram('weight',self.clusters)\n",
    "        \n",
    "    def forward(self):\n",
    "        if self.x == None:\n",
    "            print('no input defined')\n",
    "        else:\n",
    "            with tf.name_scope('students_t'):\n",
    "                q = 1.0 / (1.0 + (tf.reduce_sum(tf.square(tf.expand_dims(self.x, axis=1) - self.clusters), axis=2) / self.alpha))\n",
    "                q **= (self.alpha + 1.0) / 2.0\n",
    "                q = tf.transpose(tf.transpose(q) / tf.reduce_sum(q, axis=1))\n",
    "                return q\n",
    "        \n",
    "    def target_distribution(self,q):\n",
    "        weight = tf.square(q) / tf.reduce_sum(q,axis=0)\n",
    "        return tf.transpose( tf.transpose(weight) /tf.reduce_sum(weight,axis=1))\n",
    "            \n",
    "        \n",
    "\n",
    "    "
   ]
  },
  {
   "cell_type": "code",
   "execution_count": 28,
   "metadata": {},
   "outputs": [
    {
     "name": "stderr",
     "output_type": "stream",
     "text": [
      "\n",
      "  0%|                                                                                          | 0/100 [00:00<?, ?it/s]\n",
      "100%|████████████████████████████████████████████████████████████████████████████████| 100/100 [17:47<00:00, 11.34s/it]\n"
     ]
    },
    {
     "data": {
      "text/plain": [
       "(55000, 10)"
      ]
     },
     "execution_count": 28,
     "metadata": {},
     "output_type": "execute_result"
    }
   ],
   "source": [
    "tf.reset_default_graph()\n",
    "DenseLayer.number = 0\n",
    "ConvLayer.number = 0\n",
    "PoolingLayer.number = 0\n",
    "EmbeddingLayer.number = 0\n",
    "RnnLayer.number = 0\n",
    "SAE.number = 0\n",
    "\n",
    "\n",
    "sae = SAE(X_train,[500, 500, 2000, 10])\n",
    "sae.fit(100,256)\n",
    "sae.extract_feature.shape"
   ]
  },
  {
   "cell_type": "code",
   "execution_count": 29,
   "metadata": {},
   "outputs": [
    {
     "name": "stdout",
     "output_type": "stream",
     "text": [
      "<tf.Variable 'encoder/Dense-0/weight:0' shape=(784, 500) dtype=float32_ref>\n",
      "<tf.Variable 'encoder/Dense-1/weight:0' shape=(500, 500) dtype=float32_ref>\n",
      "<tf.Variable 'encoder/Dense-2/weight:0' shape=(500, 2000) dtype=float32_ref>\n",
      "<tf.Variable 'encoder/Dense-3/weight:0' shape=(2000, 10) dtype=float32_ref>\n"
     ]
    }
   ],
   "source": [
    "#restore the weights i need from the encoder\n",
    "tf.reset_default_graph()\n",
    "with tf.Session() as sess:\n",
    "    saver = tf.train.import_meta_graph('./model/my-test-model.meta')##copies the graph\n",
    "    sess.run(tf.global_variables_initializer())\n",
    "    graph = tf.get_default_graph()\n",
    "\n",
    "#check all variables that exist\n",
    "#     for i in graph.get_collection('variables'):\n",
    "#         if 'encoder' in  i.name:\n",
    "#             weights.append(graph.get_tensor_by_name(i.name).eval())\n",
    "#             print(i.get_variable_scope\n",
    "\n",
    "    weights=[]\n",
    "    for i in tf.get_collection(tf.GraphKeys.GLOBAL_VARIABLES, scope='encoder'):\n",
    "        if 'weight:0' in  i.name:\n",
    "            weights.append(graph.get_tensor_by_name(i.name).eval())\n",
    "            print(i)\n",
    "#     get_operation = graph.get_tensor_by_name('encoder/activations_3/tag')\n",
    "#     features = sess.run(get_operation)"
   ]
  },
  {
   "cell_type": "code",
   "execution_count": 30,
   "metadata": {
    "collapsed": true
   },
   "outputs": [],
   "source": [
    "def get_batches(data_list, batch_size,shuffle=True):\n",
    "    \"\"\"\n",
    "    Generates a batch generator for a dataset.\n",
    "    \"\"\"\n",
    "    assert isinstance(data_list,list)\n",
    "    \n",
    "    size = data_list[0].shape[0]\n",
    "    if shuffle:\n",
    "        shuffle_indices = np.random.permutation(np.arange(size))\n",
    "        data_list = [i[shuffle_indices] for i in data_list]\n",
    "        \n",
    "    number_of_batches = int(np.ceil(size/batch_size))\n",
    "    for i in range(number_of_batches-1):\n",
    "        index = i*batch_size\n",
    "        yield [i[index:index+batch_size] for i in data_list]\n",
    "    yield[i[(number_of_batches-1)*batch_size:] for i in data_list]"
   ]
  },
  {
   "cell_type": "code",
   "execution_count": 31,
   "metadata": {
    "scrolled": false
   },
   "outputs": [
    {
     "name": "stdout",
     "output_type": "stream",
     "text": [
      "initializing kmeans clusters \n",
      "(10, 10)\n"
     ]
    },
    {
     "name": "stderr",
     "output_type": "stream",
     "text": [
      "\r",
      "  0%|                                                                                          | 0/100 [00:00<?, ?it/s]"
     ]
    },
    {
     "name": "stdout",
     "output_type": "stream",
     "text": [
      "____________________________________________________\n",
      "cost: 78.497 accuracy: 0.344054545455 before epoch 0\n",
      "cost: 0.376776\taccuracy: 0.34765625 in 0 epoch in 0batch\n",
      "cost: 1.11894\taccuracy: 0.36328125 in 0 epoch in 40batch\n",
      "cost: 0.247955\taccuracy: 0.41796875 in 0 epoch in 80batch\n",
      "cost: 0.210177\taccuracy: 0.359375 in 0 epoch in 120batch\n",
      "cost: 0.134121\taccuracy: 0.35546875 in 0 epoch in 160batch\n",
      "cost: 0.121728\taccuracy: 0.39453125 in 0 epoch in 200batch\n"
     ]
    },
    {
     "name": "stderr",
     "output_type": "stream",
     "text": [
      "\r",
      "  1%|▊                                                                                 | 1/100 [00:10<17:20, 10.51s/it]"
     ]
    },
    {
     "name": "stdout",
     "output_type": "stream",
     "text": [
      "____________________________________________________\n",
      "cost: 291.338 accuracy: 0.351709090909 before epoch 1\n",
      "cost: 1.28057\taccuracy: 0.36328125 in 1 epoch in 0batch\n",
      "cost: 0.313006\taccuracy: 0.3984375 in 1 epoch in 40batch\n",
      "cost: 0.156145\taccuracy: 0.36328125 in 1 epoch in 80batch\n",
      "cost: 0.101987\taccuracy: 0.3671875 in 1 epoch in 120batch\n",
      "cost: 0.0649016\taccuracy: 0.35546875 in 1 epoch in 160batch\n",
      "cost: 0.0559427\taccuracy: 0.3125 in 1 epoch in 200batch\n"
     ]
    },
    {
     "name": "stderr",
     "output_type": "stream",
     "text": [
      "\r",
      "  2%|█▋                                                                                | 2/100 [00:20<17:07, 10.48s/it]"
     ]
    },
    {
     "name": "stdout",
     "output_type": "stream",
     "text": [
      "____________________________________________________\n",
      "cost: 1161.0 accuracy: 0.351454545455 before epoch 2\n",
      "cost: 5.03241\taccuracy: 0.3671875 in 2 epoch in 0batch\n",
      "cost: 1.67266\taccuracy: 0.40234375 in 2 epoch in 40batch\n",
      "cost: 1.03747\taccuracy: 0.38671875 in 2 epoch in 80batch\n",
      "cost: 0.623268\taccuracy: 0.36328125 in 2 epoch in 120batch\n",
      "cost: 0.611036\taccuracy: 0.37109375 in 2 epoch in 160batch\n",
      "cost: 0.591627\taccuracy: 0.40234375 in 2 epoch in 200batch\n"
     ]
    },
    {
     "name": "stderr",
     "output_type": "stream",
     "text": [
      "\r",
      "  3%|██▍                                                                               | 3/100 [00:30<16:34, 10.25s/it]"
     ]
    },
    {
     "name": "stdout",
     "output_type": "stream",
     "text": [
      "____________________________________________________\n",
      "cost: 3887.32 accuracy: 0.352309090909 before epoch 3\n",
      "cost: 16.3716\taccuracy: 0.390625 in 3 epoch in 0batch\n",
      "cost: 8.75732\taccuracy: 0.37890625 in 3 epoch in 40batch\n",
      "cost: 7.28726\taccuracy: 0.37890625 in 3 epoch in 80batch\n",
      "cost: 5.9159\taccuracy: 0.3671875 in 3 epoch in 120batch\n",
      "cost: 4.71711\taccuracy: 0.31640625 in 3 epoch in 160batch\n",
      "cost: 4.51487\taccuracy: 0.390625 in 3 epoch in 200batch\n"
     ]
    },
    {
     "name": "stderr",
     "output_type": "stream",
     "text": [
      "\r",
      "  4%|███▎                                                                              | 4/100 [00:40<16:08, 10.09s/it]"
     ]
    },
    {
     "name": "stdout",
     "output_type": "stream",
     "text": [
      "____________________________________________________\n",
      "cost: 8826.72 accuracy: 0.354472727273 before epoch 4\n",
      "cost: 41.854\taccuracy: 0.36328125 in 4 epoch in 0batch\n",
      "cost: 35.0545\taccuracy: 0.4140625 in 4 epoch in 40batch\n",
      "cost: 22.7987\taccuracy: 0.35546875 in 4 epoch in 80batch\n",
      "cost: 19.0731\taccuracy: 0.31640625 in 4 epoch in 120batch\n",
      "cost: 17.4796\taccuracy: 0.34765625 in 4 epoch in 160batch\n",
      "cost: 16.2585\taccuracy: 0.37109375 in 4 epoch in 200batch\n"
     ]
    },
    {
     "name": "stderr",
     "output_type": "stream",
     "text": [
      "\r",
      "  5%|████                                                                              | 5/100 [00:50<16:06, 10.17s/it]"
     ]
    },
    {
     "name": "stdout",
     "output_type": "stream",
     "text": [
      "____________________________________________________\n",
      "cost: 13643.7 accuracy: 0.357636363636 before epoch 5\n",
      "cost: 64.721\taccuracy: 0.41015625 in 5 epoch in 0batch\n",
      "cost: 60.3796\taccuracy: 0.4140625 in 5 epoch in 40batch\n",
      "cost: 46.115\taccuracy: 0.3671875 in 5 epoch in 80batch\n",
      "cost: 43.0985\taccuracy: 0.39453125 in 5 epoch in 120batch\n",
      "cost: 38.0995\taccuracy: 0.3203125 in 5 epoch in 160batch\n",
      "cost: 37.9661\taccuracy: 0.36328125 in 5 epoch in 200batch\n"
     ]
    },
    {
     "name": "stderr",
     "output_type": "stream",
     "text": [
      "\r",
      "  6%|████▉                                                                             | 6/100 [00:59<15:20,  9.80s/it]"
     ]
    },
    {
     "name": "stdout",
     "output_type": "stream",
     "text": [
      "____________________________________________________\n",
      "cost: 14442.8 accuracy: 0.360854545455 before epoch 6\n",
      "cost: 68.0132\taccuracy: 0.3671875 in 6 epoch in 0batch\n",
      "cost: 83.1306\taccuracy: 0.38671875 in 6 epoch in 40batch\n",
      "cost: 71.9988\taccuracy: 0.37109375 in 6 epoch in 80batch\n",
      "cost: 70.0924\taccuracy: 0.3671875 in 6 epoch in 120batch\n",
      "cost: 69.8676\taccuracy: 0.359375 in 6 epoch in 160batch\n",
      "cost: 71.6959\taccuracy: 0.37109375 in 6 epoch in 200batch\n"
     ]
    },
    {
     "name": "stderr",
     "output_type": "stream",
     "text": [
      "\r",
      "  7%|█████▋                                                                            | 7/100 [01:08<14:51,  9.59s/it]"
     ]
    },
    {
     "name": "stdout",
     "output_type": "stream",
     "text": [
      "____________________________________________________\n",
      "cost: 12991.8 accuracy: 0.367581818182 before epoch 7\n",
      "cost: 60.5261\taccuracy: 0.37109375 in 7 epoch in 0batch\n",
      "cost: 67.2255\taccuracy: 0.375 in 7 epoch in 40batch\n",
      "cost: 69.9285\taccuracy: 0.3515625 in 7 epoch in 80batch\n",
      "cost: 71.2881\taccuracy: 0.3828125 in 7 epoch in 120batch\n",
      "cost: 69.7127\taccuracy: 0.40234375 in 7 epoch in 160batch\n",
      "cost: 57.3587\taccuracy: 0.37109375 in 7 epoch in 200batch\n"
     ]
    },
    {
     "name": "stderr",
     "output_type": "stream",
     "text": [
      "\r",
      "  8%|██████▌                                                                           | 8/100 [01:16<14:04,  9.17s/it]"
     ]
    },
    {
     "name": "stdout",
     "output_type": "stream",
     "text": [
      "____________________________________________________\n",
      "cost: 11643.0 accuracy: 0.369472727273 before epoch 8\n",
      "cost: 54.2396\taccuracy: 0.3828125 in 8 epoch in 0batch\n",
      "cost: 57.1719\taccuracy: 0.36328125 in 8 epoch in 40batch\n",
      "cost: 60.7234\taccuracy: 0.35546875 in 8 epoch in 80batch\n",
      "cost: 61.4364\taccuracy: 0.359375 in 8 epoch in 120batch\n",
      "cost: 65.5217\taccuracy: 0.3515625 in 8 epoch in 160batch\n",
      "cost: 63.2029\taccuracy: 0.39453125 in 8 epoch in 200batch\n"
     ]
    },
    {
     "name": "stderr",
     "output_type": "stream",
     "text": [
      "\r",
      "  9%|███████▍                                                                          | 9/100 [01:25<13:42,  9.04s/it]"
     ]
    },
    {
     "name": "stdout",
     "output_type": "stream",
     "text": [
      "____________________________________________________\n",
      "cost: 10635.2 accuracy: 0.376236363636 before epoch 9\n",
      "cost: 50.2185\taccuracy: 0.3828125 in 9 epoch in 0batch\n",
      "cost: 59.204\taccuracy: 0.3671875 in 9 epoch in 40batch\n",
      "cost: 63.975\taccuracy: 0.3515625 in 9 epoch in 80batch\n",
      "cost: 54.9664\taccuracy: 0.375 in 9 epoch in 120batch\n",
      "cost: 66.6906\taccuracy: 0.40625 in 9 epoch in 160batch\n",
      "cost: 71.602\taccuracy: 0.4296875 in 9 epoch in 200batch\n"
     ]
    },
    {
     "name": "stderr",
     "output_type": "stream",
     "text": [
      "\r",
      " 10%|████████                                                                         | 10/100 [01:33<13:10,  8.78s/it]"
     ]
    },
    {
     "name": "stdout",
     "output_type": "stream",
     "text": [
      "____________________________________________________\n",
      "cost: 9618.59 accuracy: 0.378563636364 before epoch 10\n",
      "cost: 44.211\taccuracy: 0.36328125 in 10 epoch in 0batch\n",
      "cost: 45.9163\taccuracy: 0.37890625 in 10 epoch in 40batch\n",
      "cost: 49.822\taccuracy: 0.37109375 in 10 epoch in 80batch\n",
      "cost: 58.6606\taccuracy: 0.34765625 in 10 epoch in 120batch\n",
      "cost: 56.4626\taccuracy: 0.3984375 in 10 epoch in 160batch\n",
      "cost: 54.1117\taccuracy: 0.35546875 in 10 epoch in 200batch\n"
     ]
    },
    {
     "name": "stderr",
     "output_type": "stream",
     "text": [
      "\r",
      " 11%|████████▉                                                                        | 11/100 [01:41<12:39,  8.54s/it]"
     ]
    },
    {
     "name": "stdout",
     "output_type": "stream",
     "text": [
      "____________________________________________________\n",
      "cost: 8960.1 accuracy: 0.378454545455 before epoch 11\n",
      "cost: 41.8107\taccuracy: 0.40234375 in 11 epoch in 0batch\n",
      "cost: 50.2793\taccuracy: 0.375 in 11 epoch in 40batch\n",
      "cost: 51.5733\taccuracy: 0.40625 in 11 epoch in 80batch\n",
      "cost: 51.9674\taccuracy: 0.421875 in 11 epoch in 120batch\n",
      "cost: 48.6119\taccuracy: 0.390625 in 11 epoch in 160batch\n",
      "cost: 67.0785\taccuracy: 0.40234375 in 11 epoch in 200batch\n"
     ]
    },
    {
     "name": "stderr",
     "output_type": "stream",
     "text": [
      "\r",
      " 12%|█████████▋                                                                       | 12/100 [01:50<12:28,  8.50s/it]"
     ]
    },
    {
     "name": "stdout",
     "output_type": "stream",
     "text": [
      "____________________________________________________\n",
      "cost: 9094.5 accuracy: 0.381509090909 before epoch 12\n",
      "cost: 41.7874\taccuracy: 0.39453125 in 12 epoch in 0batch\n",
      "cost: 45.5732\taccuracy: 0.359375 in 12 epoch in 40batch\n",
      "cost: 50.4316\taccuracy: 0.32421875 in 12 epoch in 80batch\n",
      "cost: 43.4682\taccuracy: 0.375 in 12 epoch in 120batch\n",
      "cost: 46.0827\taccuracy: 0.4296875 in 12 epoch in 160batch\n",
      "cost: 49.7107\taccuracy: 0.3828125 in 12 epoch in 200batch\n"
     ]
    },
    {
     "name": "stderr",
     "output_type": "stream",
     "text": [
      "\r",
      " 13%|██████████▌                                                                      | 13/100 [01:58<12:25,  8.57s/it]"
     ]
    },
    {
     "name": "stdout",
     "output_type": "stream",
     "text": [
      "____________________________________________________\n",
      "cost: 7985.82 accuracy: 0.378854545455 before epoch 13\n",
      "cost: 38.2092\taccuracy: 0.3515625 in 13 epoch in 0batch\n",
      "cost: 44.1471\taccuracy: 0.34765625 in 13 epoch in 40batch\n",
      "cost: 45.8771\taccuracy: 0.3828125 in 13 epoch in 80batch\n",
      "cost: 47.3451\taccuracy: 0.359375 in 13 epoch in 120batch\n",
      "cost: 46.6446\taccuracy: 0.39453125 in 13 epoch in 160batch\n",
      "cost: 57.7361\taccuracy: 0.36328125 in 13 epoch in 200batch\n"
     ]
    },
    {
     "name": "stderr",
     "output_type": "stream",
     "text": [
      "\r",
      " 14%|███████████▎                                                                     | 14/100 [02:07<12:10,  8.49s/it]"
     ]
    },
    {
     "name": "stdout",
     "output_type": "stream",
     "text": [
      "____________________________________________________\n",
      "cost: 7614.63 accuracy: 0.380654545455 before epoch 14\n",
      "cost: 34.1432\taccuracy: 0.375 in 14 epoch in 0batch\n",
      "cost: 45.0357\taccuracy: 0.4296875 in 14 epoch in 40batch\n",
      "cost: 37.6852\taccuracy: 0.3828125 in 14 epoch in 80batch\n",
      "cost: 42.2776\taccuracy: 0.390625 in 14 epoch in 120batch\n",
      "cost: 46.2355\taccuracy: 0.40625 in 14 epoch in 160batch\n",
      "cost: 50.5099\taccuracy: 0.41796875 in 14 epoch in 200batch\n"
     ]
    },
    {
     "name": "stderr",
     "output_type": "stream",
     "text": [
      "\r",
      " 15%|████████████▏                                                                    | 15/100 [02:14<11:38,  8.22s/it]"
     ]
    },
    {
     "name": "stdout",
     "output_type": "stream",
     "text": [
      "____________________________________________________\n",
      "cost: 6926.73 accuracy: 0.383472727273 before epoch 15\n",
      "cost: 30.9575\taccuracy: 0.421875 in 15 epoch in 0batch\n",
      "cost: 34.3417\taccuracy: 0.42578125 in 15 epoch in 40batch\n",
      "cost: 38.5331\taccuracy: 0.39453125 in 15 epoch in 80batch\n",
      "cost: 43.1647\taccuracy: 0.32421875 in 15 epoch in 120batch\n",
      "cost: 43.1532\taccuracy: 0.421875 in 15 epoch in 160batch\n",
      "cost: 52.5357\taccuracy: 0.34765625 in 15 epoch in 200batch\n"
     ]
    },
    {
     "name": "stderr",
     "output_type": "stream",
     "text": [
      "\r",
      " 16%|████████████▉                                                                    | 16/100 [02:22<11:14,  8.03s/it]"
     ]
    },
    {
     "name": "stdout",
     "output_type": "stream",
     "text": [
      "____________________________________________________\n",
      "cost: 6441.25 accuracy: 0.383036363636 before epoch 16\n",
      "cost: 30.5946\taccuracy: 0.34765625 in 16 epoch in 0batch\n",
      "cost: 34.851\taccuracy: 0.4453125 in 16 epoch in 40batch\n",
      "cost: 40.4497\taccuracy: 0.38671875 in 16 epoch in 80batch\n",
      "cost: 35.2286\taccuracy: 0.41015625 in 16 epoch in 120batch\n",
      "cost: 39.8519\taccuracy: 0.36328125 in 16 epoch in 160batch\n",
      "cost: 38.5481\taccuracy: 0.38671875 in 16 epoch in 200batch\n"
     ]
    },
    {
     "name": "stderr",
     "output_type": "stream",
     "text": [
      "\r",
      " 17%|█████████████▊                                                                   | 17/100 [02:30<10:56,  7.91s/it]"
     ]
    },
    {
     "name": "stdout",
     "output_type": "stream",
     "text": [
      "____________________________________________________\n",
      "cost: 6235.88 accuracy: 0.3854 before epoch 17\n",
      "cost: 27.9617\taccuracy: 0.390625 in 17 epoch in 0batch\n",
      "cost: 32.7074\taccuracy: 0.3515625 in 17 epoch in 40batch\n",
      "cost: 34.8253\taccuracy: 0.40234375 in 17 epoch in 80batch\n",
      "cost: 35.6982\taccuracy: 0.39453125 in 17 epoch in 120batch\n",
      "cost: 36.2417\taccuracy: 0.37109375 in 17 epoch in 160batch\n",
      "cost: 41.4333\taccuracy: 0.390625 in 17 epoch in 200batch\n"
     ]
    },
    {
     "name": "stderr",
     "output_type": "stream",
     "text": [
      "\r",
      " 18%|██████████████▌                                                                  | 18/100 [02:37<10:45,  7.87s/it]"
     ]
    },
    {
     "name": "stdout",
     "output_type": "stream",
     "text": [
      "____________________________________________________\n",
      "cost: 5967.67 accuracy: 0.3838 before epoch 18\n",
      "cost: 27.0609\taccuracy: 0.40234375 in 18 epoch in 0batch\n",
      "cost: 36.0687\taccuracy: 0.42578125 in 18 epoch in 40batch\n",
      "cost: 30.0427\taccuracy: 0.4296875 in 18 epoch in 80batch\n",
      "cost: 35.853\taccuracy: 0.390625 in 18 epoch in 120batch\n",
      "cost: 34.998\taccuracy: 0.41015625 in 18 epoch in 160batch\n",
      "cost: 32.5115\taccuracy: 0.38671875 in 18 epoch in 200batch\n"
     ]
    },
    {
     "name": "stderr",
     "output_type": "stream",
     "text": [
      "\r",
      " 19%|███████████████▍                                                                 | 19/100 [02:45<10:31,  7.80s/it]"
     ]
    },
    {
     "name": "stdout",
     "output_type": "stream",
     "text": [
      "____________________________________________________\n",
      "cost: 5527.99 accuracy: 0.385436363636 before epoch 19\n",
      "cost: 25.408\taccuracy: 0.39453125 in 19 epoch in 0batch\n",
      "cost: 32.8701\taccuracy: 0.42578125 in 19 epoch in 40batch\n",
      "cost: 37.003\taccuracy: 0.41796875 in 19 epoch in 80batch\n",
      "cost: 32.4924\taccuracy: 0.390625 in 19 epoch in 120batch\n",
      "cost: 32.4843\taccuracy: 0.37890625 in 19 epoch in 160batch\n",
      "cost: 43.8349\taccuracy: 0.38671875 in 19 epoch in 200batch\n"
     ]
    },
    {
     "name": "stderr",
     "output_type": "stream",
     "text": [
      "\r",
      " 20%|████████████████▏                                                                | 20/100 [02:53<10:21,  7.77s/it]"
     ]
    },
    {
     "name": "stdout",
     "output_type": "stream",
     "text": [
      "____________________________________________________\n",
      "cost: 5368.05 accuracy: 0.384818181818 before epoch 20\n",
      "cost: 25.9762\taccuracy: 0.390625 in 20 epoch in 0batch\n",
      "cost: 32.7297\taccuracy: 0.3828125 in 20 epoch in 40batch\n",
      "cost: 33.8083\taccuracy: 0.33984375 in 20 epoch in 80batch\n",
      "cost: 31.3423\taccuracy: 0.3828125 in 20 epoch in 120batch\n",
      "cost: 33.0148\taccuracy: 0.35546875 in 20 epoch in 160batch\n",
      "cost: 30.4853\taccuracy: 0.41015625 in 20 epoch in 200batch\n"
     ]
    },
    {
     "name": "stderr",
     "output_type": "stream",
     "text": [
      "\r",
      " 21%|█████████████████                                                                | 21/100 [03:00<10:09,  7.71s/it]"
     ]
    },
    {
     "name": "stdout",
     "output_type": "stream",
     "text": [
      "____________________________________________________\n",
      "cost: 5179.21 accuracy: 0.385563636364 before epoch 21\n",
      "cost: 24.3156\taccuracy: 0.35546875 in 21 epoch in 0batch\n",
      "cost: 26.6707\taccuracy: 0.41796875 in 21 epoch in 40batch\n",
      "cost: 30.1773\taccuracy: 0.42578125 in 21 epoch in 80batch\n",
      "cost: 33.8161\taccuracy: 0.41796875 in 21 epoch in 120batch\n",
      "cost: 40.4866\taccuracy: 0.3671875 in 21 epoch in 160batch\n",
      "cost: 58.4221\taccuracy: 0.40234375 in 21 epoch in 200batch\n"
     ]
    },
    {
     "name": "stderr",
     "output_type": "stream",
     "text": [
      "\r",
      " 22%|█████████████████▊                                                               | 22/100 [03:08<10:01,  7.72s/it]"
     ]
    },
    {
     "name": "stdout",
     "output_type": "stream",
     "text": [
      "____________________________________________________\n",
      "cost: 4929.93 accuracy: 0.386 before epoch 22\n",
      "cost: 22.5398\taccuracy: 0.3984375 in 22 epoch in 0batch\n",
      "cost: 26.7151\taccuracy: 0.3984375 in 22 epoch in 40batch\n",
      "cost: 34.3285\taccuracy: 0.36328125 in 22 epoch in 80batch\n",
      "cost: 37.1245\taccuracy: 0.40234375 in 22 epoch in 120batch\n",
      "cost: 56.2684\taccuracy: 0.38671875 in 22 epoch in 160batch\n",
      "cost: 31.8079\taccuracy: 0.4296875 in 22 epoch in 200batch\n"
     ]
    },
    {
     "name": "stderr",
     "output_type": "stream",
     "text": [
      "\r",
      " 23%|██████████████████▋                                                              | 23/100 [03:16<09:52,  7.70s/it]"
     ]
    },
    {
     "name": "stdout",
     "output_type": "stream",
     "text": [
      "____________________________________________________\n",
      "cost: 4676.39 accuracy: 0.385181818182 before epoch 23\n",
      "cost: 20.627\taccuracy: 0.421875 in 23 epoch in 0batch\n",
      "cost: 26.6628\taccuracy: 0.3515625 in 23 epoch in 40batch\n",
      "cost: 27.4914\taccuracy: 0.40234375 in 23 epoch in 80batch\n",
      "cost: 26.7324\taccuracy: 0.390625 in 23 epoch in 120batch\n",
      "cost: 34.6223\taccuracy: 0.4296875 in 23 epoch in 160batch\n",
      "cost: 38.7439\taccuracy: 0.41796875 in 23 epoch in 200batch\n"
     ]
    },
    {
     "name": "stderr",
     "output_type": "stream",
     "text": [
      "\r",
      " 24%|███████████████████▍                                                             | 24/100 [03:23<09:42,  7.67s/it]"
     ]
    },
    {
     "name": "stdout",
     "output_type": "stream",
     "text": [
      "____________________________________________________\n",
      "cost: 4556.28 accuracy: 0.386127272727 before epoch 24\n",
      "cost: 20.9881\taccuracy: 0.359375 in 24 epoch in 0batch\n",
      "cost: 27.4302\taccuracy: 0.40234375 in 24 epoch in 40batch\n",
      "cost: 23.1692\taccuracy: 0.4140625 in 24 epoch in 80batch\n",
      "cost: 26.7207\taccuracy: 0.390625 in 24 epoch in 120batch\n",
      "cost: 28.2836\taccuracy: 0.421875 in 24 epoch in 160batch\n",
      "cost: 26.1527\taccuracy: 0.421875 in 24 epoch in 200batch\n"
     ]
    },
    {
     "name": "stderr",
     "output_type": "stream",
     "text": [
      "\r",
      " 25%|████████████████████▎                                                            | 25/100 [03:31<09:32,  7.63s/it]"
     ]
    },
    {
     "name": "stdout",
     "output_type": "stream",
     "text": [
      "____________________________________________________\n",
      "cost: 4377.84 accuracy: 0.385454545455 before epoch 25\n",
      "cost: 20.9987\taccuracy: 0.36328125 in 25 epoch in 0batch\n",
      "cost: 26.6044\taccuracy: 0.37890625 in 25 epoch in 40batch\n",
      "cost: 26.4803\taccuracy: 0.41796875 in 25 epoch in 80batch\n",
      "cost: 30.3959\taccuracy: 0.3828125 in 25 epoch in 120batch\n",
      "cost: 26.7584\taccuracy: 0.40234375 in 25 epoch in 160batch\n",
      "cost: 27.1888\taccuracy: 0.36328125 in 25 epoch in 200batch\n"
     ]
    },
    {
     "name": "stderr",
     "output_type": "stream",
     "text": [
      "\r",
      " 26%|█████████████████████                                                            | 26/100 [03:39<09:33,  7.75s/it]"
     ]
    },
    {
     "name": "stdout",
     "output_type": "stream",
     "text": [
      "____________________________________________________\n",
      "cost: 4224.08 accuracy: 0.385836363636 before epoch 26\n",
      "cost: 19.5863\taccuracy: 0.359375 in 26 epoch in 0batch\n",
      "cost: 22.7249\taccuracy: 0.375 in 26 epoch in 40batch\n",
      "cost: 26.5548\taccuracy: 0.390625 in 26 epoch in 80batch\n",
      "cost: 28.6143\taccuracy: 0.3984375 in 26 epoch in 120batch\n",
      "cost: 35.5967\taccuracy: 0.390625 in 26 epoch in 160batch\n",
      "cost: 26.5032\taccuracy: 0.3828125 in 26 epoch in 200batch\n"
     ]
    },
    {
     "name": "stderr",
     "output_type": "stream",
     "text": [
      "\r",
      " 27%|█████████████████████▊                                                           | 27/100 [03:48<09:46,  8.04s/it]"
     ]
    },
    {
     "name": "stdout",
     "output_type": "stream",
     "text": [
      "____________________________________________________\n",
      "cost: 3980.47 accuracy: 0.385 before epoch 27\n",
      "cost: 19.9055\taccuracy: 0.4140625 in 27 epoch in 0batch\n",
      "cost: 21.5898\taccuracy: 0.3515625 in 27 epoch in 40batch\n",
      "cost: 25.4789\taccuracy: 0.375 in 27 epoch in 80batch\n",
      "cost: 18.9743\taccuracy: 0.42578125 in 27 epoch in 120batch\n",
      "cost: 25.641\taccuracy: 0.41015625 in 27 epoch in 160batch\n",
      "cost: 27.7258\taccuracy: 0.4296875 in 27 epoch in 200batch\n"
     ]
    },
    {
     "name": "stderr",
     "output_type": "stream",
     "text": [
      "\r",
      " 28%|██████████████████████▋                                                          | 28/100 [03:56<09:53,  8.24s/it]"
     ]
    },
    {
     "name": "stdout",
     "output_type": "stream",
     "text": [
      "____________________________________________________\n",
      "cost: 3816.34 accuracy: 0.384236363636 before epoch 28\n",
      "cost: 17.5199\taccuracy: 0.39453125 in 28 epoch in 0batch\n",
      "cost: 18.1002\taccuracy: 0.38671875 in 28 epoch in 40batch\n",
      "cost: 30.8784\taccuracy: 0.34765625 in 28 epoch in 80batch\n",
      "cost: 22.3929\taccuracy: 0.39453125 in 28 epoch in 120batch\n",
      "cost: 24.2773\taccuracy: 0.3671875 in 28 epoch in 160batch\n",
      "cost: 20.5871\taccuracy: 0.42578125 in 28 epoch in 200batch\n"
     ]
    },
    {
     "name": "stderr",
     "output_type": "stream",
     "text": [
      "\r",
      " 29%|███████████████████████▍                                                         | 29/100 [04:05<09:53,  8.36s/it]"
     ]
    },
    {
     "name": "stdout",
     "output_type": "stream",
     "text": [
      "____________________________________________________\n",
      "cost: 3786.26 accuracy: 0.3834 before epoch 29\n",
      "cost: 17.6179\taccuracy: 0.3984375 in 29 epoch in 0batch\n",
      "cost: 26.4755\taccuracy: 0.36328125 in 29 epoch in 40batch\n",
      "cost: 23.828\taccuracy: 0.3984375 in 29 epoch in 80batch\n",
      "cost: 24.9175\taccuracy: 0.359375 in 29 epoch in 120batch\n",
      "cost: 23.862\taccuracy: 0.3359375 in 29 epoch in 160batch\n",
      "cost: 18.7643\taccuracy: 0.37890625 in 29 epoch in 200batch\n"
     ]
    },
    {
     "name": "stderr",
     "output_type": "stream",
     "text": [
      "\r",
      " 30%|████████████████████████▎                                                        | 30/100 [04:13<09:48,  8.41s/it]"
     ]
    },
    {
     "name": "stdout",
     "output_type": "stream",
     "text": [
      "____________________________________________________\n",
      "cost: 3607.68 accuracy: 0.383563636364 before epoch 30\n",
      "cost: 15.7776\taccuracy: 0.37890625 in 30 epoch in 0batch\n",
      "cost: 23.1995\taccuracy: 0.36328125 in 30 epoch in 40batch\n",
      "cost: 26.6779\taccuracy: 0.35546875 in 30 epoch in 80batch\n",
      "cost: 29.7114\taccuracy: 0.375 in 30 epoch in 120batch\n",
      "cost: 22.5051\taccuracy: 0.36328125 in 30 epoch in 160batch\n",
      "cost: 20.7003\taccuracy: 0.3984375 in 30 epoch in 200batch\n"
     ]
    },
    {
     "name": "stderr",
     "output_type": "stream",
     "text": [
      "\r",
      " 31%|█████████████████████████                                                        | 31/100 [04:22<09:36,  8.35s/it]"
     ]
    },
    {
     "name": "stdout",
     "output_type": "stream",
     "text": [
      "____________________________________________________\n",
      "cost: 3368.77 accuracy: 0.383236363636 before epoch 31\n",
      "cost: 16.7149\taccuracy: 0.4375 in 31 epoch in 0batch\n",
      "cost: 18.6392\taccuracy: 0.37890625 in 31 epoch in 40batch\n",
      "cost: 16.735\taccuracy: 0.40234375 in 31 epoch in 80batch\n",
      "cost: 21.9698\taccuracy: 0.40625 in 31 epoch in 120batch\n",
      "cost: 23.897\taccuracy: 0.453125 in 31 epoch in 160batch\n",
      "cost: 23.0756\taccuracy: 0.37890625 in 31 epoch in 200batch\n"
     ]
    },
    {
     "name": "stderr",
     "output_type": "stream",
     "text": [
      "\r",
      " 32%|█████████████████████████▉                                                       | 32/100 [04:30<09:22,  8.27s/it]"
     ]
    },
    {
     "name": "stdout",
     "output_type": "stream",
     "text": [
      "____________________________________________________\n",
      "cost: 3432.56 accuracy: 0.384363636364 before epoch 32\n",
      "cost: 16.648\taccuracy: 0.39453125 in 32 epoch in 0batch\n",
      "cost: 17.664\taccuracy: 0.38671875 in 32 epoch in 40batch\n",
      "cost: 19.5674\taccuracy: 0.4375 in 32 epoch in 80batch\n",
      "cost: 32.0048\taccuracy: 0.421875 in 32 epoch in 120batch\n",
      "cost: 28.5406\taccuracy: 0.484375 in 32 epoch in 160batch\n",
      "cost: 27.0379\taccuracy: 0.34375 in 32 epoch in 200batch\n"
     ]
    },
    {
     "name": "stderr",
     "output_type": "stream",
     "text": [
      "\r",
      " 33%|██████████████████████████▋                                                      | 33/100 [04:38<09:08,  8.19s/it]"
     ]
    },
    {
     "name": "stdout",
     "output_type": "stream",
     "text": [
      "____________________________________________________\n",
      "cost: 3409.86 accuracy: 0.382418181818 before epoch 33\n",
      "cost: 15.0177\taccuracy: 0.30859375 in 33 epoch in 0batch\n",
      "cost: 22.3478\taccuracy: 0.33984375 in 33 epoch in 40batch\n",
      "cost: 31.7097\taccuracy: 0.40234375 in 33 epoch in 80batch\n",
      "cost: 22.0299\taccuracy: 0.390625 in 33 epoch in 120batch\n",
      "cost: 22.5429\taccuracy: 0.39453125 in 33 epoch in 160batch\n",
      "cost: 20.4211\taccuracy: 0.38671875 in 33 epoch in 200batch\n"
     ]
    },
    {
     "name": "stderr",
     "output_type": "stream",
     "text": [
      "\r",
      " 34%|███████████████████████████▌                                                     | 34/100 [04:46<08:53,  8.08s/it]"
     ]
    },
    {
     "name": "stdout",
     "output_type": "stream",
     "text": [
      "____________________________________________________\n",
      "cost: 3235.63 accuracy: 0.382781818182 before epoch 34\n",
      "cost: 13.7857\taccuracy: 0.421875 in 34 epoch in 0batch\n",
      "cost: 14.8521\taccuracy: 0.3984375 in 34 epoch in 40batch\n",
      "cost: 30.9397\taccuracy: 0.37109375 in 34 epoch in 80batch\n",
      "cost: 14.1613\taccuracy: 0.42578125 in 34 epoch in 120batch\n",
      "cost: 20.1652\taccuracy: 0.33203125 in 34 epoch in 160batch\n",
      "cost: 19.6694\taccuracy: 0.4140625 in 34 epoch in 200batch\n"
     ]
    },
    {
     "name": "stderr",
     "output_type": "stream",
     "text": [
      "\r",
      " 35%|████████████████████████████▎                                                    | 35/100 [04:53<08:32,  7.89s/it]"
     ]
    },
    {
     "name": "stdout",
     "output_type": "stream",
     "text": [
      "____________________________________________________\n",
      "cost: 3176.23 accuracy: 0.382018181818 before epoch 35\n",
      "cost: 14.3146\taccuracy: 0.4453125 in 35 epoch in 0batch\n",
      "cost: 22.7267\taccuracy: 0.40234375 in 35 epoch in 40batch\n",
      "cost: 18.5655\taccuracy: 0.375 in 35 epoch in 80batch\n",
      "cost: 22.7033\taccuracy: 0.40234375 in 35 epoch in 120batch\n",
      "cost: 28.3378\taccuracy: 0.38671875 in 35 epoch in 160batch\n",
      "cost: 21.1939\taccuracy: 0.37109375 in 35 epoch in 200batch\n"
     ]
    },
    {
     "name": "stderr",
     "output_type": "stream",
     "text": [
      "\r",
      " 36%|█████████████████████████████▏                                                   | 36/100 [05:02<08:44,  8.20s/it]"
     ]
    },
    {
     "name": "stdout",
     "output_type": "stream",
     "text": [
      "____________________________________________________\n",
      "cost: 3136.36 accuracy: 0.382181818182 before epoch 36\n",
      "cost: 14.346\taccuracy: 0.40234375 in 36 epoch in 0batch\n",
      "cost: 18.4527\taccuracy: 0.40234375 in 36 epoch in 40batch\n",
      "cost: 20.5482\taccuracy: 0.41796875 in 36 epoch in 80batch\n",
      "cost: 16.4631\taccuracy: 0.40625 in 36 epoch in 120batch\n",
      "cost: 15.6286\taccuracy: 0.34765625 in 36 epoch in 160batch\n",
      "cost: 29.1541\taccuracy: 0.3828125 in 36 epoch in 200batch\n"
     ]
    },
    {
     "name": "stderr",
     "output_type": "stream",
     "text": [
      "\r",
      " 37%|█████████████████████████████▉                                                   | 37/100 [05:10<08:34,  8.17s/it]"
     ]
    },
    {
     "name": "stdout",
     "output_type": "stream",
     "text": [
      "____________________________________________________\n",
      "cost: 3176.13 accuracy: 0.381963636364 before epoch 37\n",
      "cost: 15.5417\taccuracy: 0.37109375 in 37 epoch in 0batch\n",
      "cost: 21.7744\taccuracy: 0.41796875 in 37 epoch in 40batch\n",
      "cost: 20.9634\taccuracy: 0.33203125 in 37 epoch in 80batch\n",
      "cost: 27.6975\taccuracy: 0.375 in 37 epoch in 120batch\n",
      "cost: 23.6875\taccuracy: 0.39453125 in 37 epoch in 160batch\n",
      "cost: 26.324\taccuracy: 0.34375 in 37 epoch in 200batch\n"
     ]
    },
    {
     "name": "stderr",
     "output_type": "stream",
     "text": [
      "\r",
      " 38%|██████████████████████████████▊                                                  | 38/100 [05:18<08:18,  8.05s/it]"
     ]
    },
    {
     "name": "stdout",
     "output_type": "stream",
     "text": [
      "____________________________________________________\n",
      "cost: 3046.6 accuracy: 0.382854545455 before epoch 38\n",
      "cost: 14.0589\taccuracy: 0.3984375 in 38 epoch in 0batch\n",
      "cost: 16.8591\taccuracy: 0.375 in 38 epoch in 40batch\n",
      "cost: 29.2445\taccuracy: 0.36328125 in 38 epoch in 80batch\n",
      "cost: 25.3607\taccuracy: 0.390625 in 38 epoch in 120batch\n",
      "cost: 24.7518\taccuracy: 0.38671875 in 38 epoch in 160batch\n",
      "cost: 23.1664\taccuracy: 0.38671875 in 38 epoch in 200batch\n"
     ]
    },
    {
     "name": "stderr",
     "output_type": "stream",
     "text": [
      "\r",
      " 39%|███████████████████████████████▌                                                 | 39/100 [05:25<08:02,  7.91s/it]"
     ]
    },
    {
     "name": "stdout",
     "output_type": "stream",
     "text": [
      "____________________________________________________\n",
      "cost: 2887.42 accuracy: 0.383327272727 before epoch 39\n",
      "cost: 13.6653\taccuracy: 0.390625 in 39 epoch in 0batch\n",
      "cost: 16.7689\taccuracy: 0.3046875 in 39 epoch in 40batch\n",
      "cost: 16.1992\taccuracy: 0.39453125 in 39 epoch in 80batch\n",
      "cost: 18.221\taccuracy: 0.3828125 in 39 epoch in 120batch\n",
      "cost: 33.5329\taccuracy: 0.4140625 in 39 epoch in 160batch\n",
      "cost: 22.0527\taccuracy: 0.43359375 in 39 epoch in 200batch\n"
     ]
    },
    {
     "name": "stderr",
     "output_type": "stream",
     "text": [
      "\r",
      " 40%|████████████████████████████████▍                                                | 40/100 [05:34<08:08,  8.13s/it]"
     ]
    },
    {
     "name": "stdout",
     "output_type": "stream",
     "text": [
      "____________________________________________________\n",
      "cost: 2754.68 accuracy: 0.383381818182 before epoch 40\n",
      "cost: 12.7671\taccuracy: 0.390625 in 40 epoch in 0batch\n",
      "cost: 16.503\taccuracy: 0.37890625 in 40 epoch in 40batch\n",
      "cost: 16.8812\taccuracy: 0.40234375 in 40 epoch in 80batch\n",
      "cost: 16.8969\taccuracy: 0.40625 in 40 epoch in 120batch\n",
      "cost: 19.3298\taccuracy: 0.4140625 in 40 epoch in 160batch\n",
      "cost: 26.0748\taccuracy: 0.375 in 40 epoch in 200batch\n"
     ]
    },
    {
     "name": "stderr",
     "output_type": "stream",
     "text": [
      "\r",
      " 41%|█████████████████████████████████▏                                               | 41/100 [05:42<07:50,  7.97s/it]"
     ]
    },
    {
     "name": "stdout",
     "output_type": "stream",
     "text": [
      "____________________________________________________\n",
      "cost: 2770.5 accuracy: 0.384472727273 before epoch 41\n",
      "cost: 12.9892\taccuracy: 0.36328125 in 41 epoch in 0batch\n",
      "cost: 20.2388\taccuracy: 0.3984375 in 41 epoch in 40batch\n",
      "cost: 24.6568\taccuracy: 0.3828125 in 41 epoch in 80batch\n",
      "cost: 33.3206\taccuracy: 0.359375 in 41 epoch in 120batch\n",
      "cost: 20.0435\taccuracy: 0.40625 in 41 epoch in 160batch\n",
      "cost: 22.264\taccuracy: 0.35546875 in 41 epoch in 200batch\n"
     ]
    },
    {
     "name": "stderr",
     "output_type": "stream",
     "text": [
      "\r",
      " 42%|██████████████████████████████████                                               | 42/100 [05:49<07:31,  7.79s/it]"
     ]
    },
    {
     "name": "stdout",
     "output_type": "stream",
     "text": [
      "____________________________________________________\n",
      "cost: 2675.59 accuracy: 0.383909090909 before epoch 42\n",
      "cost: 13.65\taccuracy: 0.37109375 in 42 epoch in 0batch\n",
      "cost: 16.6945\taccuracy: 0.390625 in 42 epoch in 40batch\n",
      "cost: 20.7402\taccuracy: 0.3828125 in 42 epoch in 80batch\n",
      "cost: 20.0978\taccuracy: 0.40234375 in 42 epoch in 120batch\n",
      "cost: 19.067\taccuracy: 0.4140625 in 42 epoch in 160batch\n",
      "cost: 15.9865\taccuracy: 0.3984375 in 42 epoch in 200batch\n"
     ]
    },
    {
     "name": "stderr",
     "output_type": "stream",
     "text": [
      "\r",
      " 43%|██████████████████████████████████▊                                              | 43/100 [05:56<07:16,  7.66s/it]"
     ]
    },
    {
     "name": "stdout",
     "output_type": "stream",
     "text": [
      "____________________________________________________\n",
      "cost: 2765.32 accuracy: 0.383381818182 before epoch 43\n",
      "cost: 13.2231\taccuracy: 0.38671875 in 43 epoch in 0batch\n",
      "cost: 16.7749\taccuracy: 0.38671875 in 43 epoch in 40batch\n",
      "cost: 13.3584\taccuracy: 0.4296875 in 43 epoch in 80batch\n",
      "cost: 19.302\taccuracy: 0.3828125 in 43 epoch in 120batch\n",
      "cost: 14.9556\taccuracy: 0.40625 in 43 epoch in 160batch\n",
      "cost: 23.9777\taccuracy: 0.40625 in 43 epoch in 200batch\n"
     ]
    },
    {
     "name": "stderr",
     "output_type": "stream",
     "text": [
      "\r",
      " 44%|███████████████████████████████████▋                                             | 44/100 [06:04<07:15,  7.79s/it]"
     ]
    },
    {
     "name": "stdout",
     "output_type": "stream",
     "text": [
      "____________________________________________________\n",
      "cost: 2580.31 accuracy: 0.382490909091 before epoch 44\n",
      "cost: 12.0258\taccuracy: 0.37890625 in 44 epoch in 0batch\n",
      "cost: 16.1983\taccuracy: 0.37890625 in 44 epoch in 40batch\n",
      "cost: 25.1582\taccuracy: 0.30859375 in 44 epoch in 80batch\n",
      "cost: 17.5252\taccuracy: 0.38671875 in 44 epoch in 120batch\n",
      "cost: 15.138\taccuracy: 0.375 in 44 epoch in 160batch\n",
      "cost: 16.8601\taccuracy: 0.3984375 in 44 epoch in 200batch\n"
     ]
    },
    {
     "name": "stderr",
     "output_type": "stream",
     "text": [
      "\r",
      " 45%|████████████████████████████████████▍                                            | 45/100 [06:13<07:18,  7.97s/it]"
     ]
    },
    {
     "name": "stdout",
     "output_type": "stream",
     "text": [
      "____________________________________________________\n",
      "cost: 2451.04 accuracy: 0.383890909091 before epoch 45\n",
      "cost: 11.6974\taccuracy: 0.359375 in 45 epoch in 0batch\n",
      "cost: 12.3704\taccuracy: 0.39453125 in 45 epoch in 40batch\n",
      "cost: 19.2348\taccuracy: 0.40625 in 45 epoch in 80batch\n",
      "cost: 15.9777\taccuracy: 0.37890625 in 45 epoch in 120batch\n",
      "cost: 18.0801\taccuracy: 0.44140625 in 45 epoch in 160batch\n",
      "cost: 17.3395\taccuracy: 0.38671875 in 45 epoch in 200batch\n"
     ]
    },
    {
     "name": "stderr",
     "output_type": "stream",
     "text": [
      "\r",
      " 46%|█████████████████████████████████████▎                                           | 46/100 [06:20<07:02,  7.83s/it]"
     ]
    },
    {
     "name": "stdout",
     "output_type": "stream",
     "text": [
      "____________________________________________________\n",
      "cost: 2425.66 accuracy: 0.384509090909 before epoch 46\n",
      "cost: 10.9969\taccuracy: 0.3671875 in 46 epoch in 0batch\n",
      "cost: 14.5705\taccuracy: 0.3828125 in 46 epoch in 40batch\n",
      "cost: 14.8868\taccuracy: 0.41015625 in 46 epoch in 80batch\n",
      "cost: 19.0547\taccuracy: 0.37890625 in 46 epoch in 120batch\n",
      "cost: 25.9722\taccuracy: 0.41015625 in 46 epoch in 160batch\n",
      "cost: 28.4033\taccuracy: 0.35546875 in 46 epoch in 200batch\n"
     ]
    },
    {
     "name": "stderr",
     "output_type": "stream",
     "text": [
      "\r",
      " 47%|██████████████████████████████████████                                           | 47/100 [06:28<06:52,  7.79s/it]"
     ]
    },
    {
     "name": "stdout",
     "output_type": "stream",
     "text": [
      "____________________________________________________\n",
      "cost: 2565.06 accuracy: 0.385 before epoch 47\n",
      "cost: 12.811\taccuracy: 0.39453125 in 47 epoch in 0batch\n",
      "cost: 12.2414\taccuracy: 0.40625 in 47 epoch in 40batch\n",
      "cost: 24.6838\taccuracy: 0.3984375 in 47 epoch in 80batch\n",
      "cost: 17.1382\taccuracy: 0.4140625 in 47 epoch in 120batch\n",
      "cost: 18.8505\taccuracy: 0.421875 in 47 epoch in 160batch\n",
      "cost: 14.0653\taccuracy: 0.375 in 47 epoch in 200batch\n"
     ]
    },
    {
     "name": "stderr",
     "output_type": "stream",
     "text": [
      "\r",
      " 48%|██████████████████████████████████████▉                                          | 48/100 [06:35<06:38,  7.65s/it]"
     ]
    },
    {
     "name": "stdout",
     "output_type": "stream",
     "text": [
      "____________________________________________________\n",
      "cost: 2488.83 accuracy: 0.385327272727 before epoch 48\n",
      "cost: 10.6228\taccuracy: 0.37890625 in 48 epoch in 0batch\n",
      "cost: 11.5684\taccuracy: 0.41796875 in 48 epoch in 40batch\n",
      "cost: 22.3311\taccuracy: 0.34375 in 48 epoch in 80batch\n",
      "cost: 19.0478\taccuracy: 0.3828125 in 48 epoch in 120batch\n",
      "cost: 15.9059\taccuracy: 0.37890625 in 48 epoch in 160batch\n",
      "cost: 12.9548\taccuracy: 0.40234375 in 48 epoch in 200batch\n"
     ]
    },
    {
     "name": "stderr",
     "output_type": "stream",
     "text": [
      "\r",
      " 49%|███████████████████████████████████████▋                                         | 49/100 [06:43<06:31,  7.68s/it]"
     ]
    },
    {
     "name": "stdout",
     "output_type": "stream",
     "text": [
      "____________________________________________________\n",
      "cost: 2296.64 accuracy: 0.385236363636 before epoch 49\n",
      "cost: 10.262\taccuracy: 0.37109375 in 49 epoch in 0batch\n",
      "cost: 11.7045\taccuracy: 0.39453125 in 49 epoch in 40batch\n",
      "cost: 12.1584\taccuracy: 0.41015625 in 49 epoch in 80batch\n",
      "cost: 17.3446\taccuracy: 0.34375 in 49 epoch in 120batch\n",
      "cost: 17.9015\taccuracy: 0.34375 in 49 epoch in 160batch\n",
      "cost: 16.9614\taccuracy: 0.40625 in 49 epoch in 200batch\n"
     ]
    },
    {
     "name": "stderr",
     "output_type": "stream",
     "text": [
      "\r",
      " 50%|████████████████████████████████████████▌                                        | 50/100 [06:51<06:23,  7.67s/it]"
     ]
    },
    {
     "name": "stdout",
     "output_type": "stream",
     "text": [
      "____________________________________________________\n",
      "cost: 2417.17 accuracy: 0.384290909091 before epoch 50\n",
      "cost: 11.2649\taccuracy: 0.3984375 in 50 epoch in 0batch\n",
      "cost: 11.1776\taccuracy: 0.39453125 in 50 epoch in 40batch\n",
      "cost: 18.4788\taccuracy: 0.35546875 in 50 epoch in 80batch\n",
      "cost: 19.1841\taccuracy: 0.390625 in 50 epoch in 120batch\n",
      "cost: 15.5759\taccuracy: 0.4375 in 50 epoch in 160batch\n",
      "cost: 14.8694\taccuracy: 0.3828125 in 50 epoch in 200batch\n"
     ]
    },
    {
     "name": "stderr",
     "output_type": "stream",
     "text": [
      "\r",
      " 51%|█████████████████████████████████████████▎                                       | 51/100 [06:59<06:19,  7.74s/it]"
     ]
    },
    {
     "name": "stdout",
     "output_type": "stream",
     "text": [
      "____________________________________________________\n",
      "cost: 2391.48 accuracy: 0.384672727273 before epoch 51\n",
      "cost: 10.3737\taccuracy: 0.4140625 in 51 epoch in 0batch\n",
      "cost: 17.2457\taccuracy: 0.40625 in 51 epoch in 40batch\n",
      "cost: 21.1969\taccuracy: 0.37109375 in 51 epoch in 80batch\n",
      "cost: 9.85097\taccuracy: 0.35546875 in 51 epoch in 120batch\n",
      "cost: 14.1374\taccuracy: 0.40234375 in 51 epoch in 160batch\n",
      "cost: 19.9701\taccuracy: 0.453125 in 51 epoch in 200batch\n"
     ]
    },
    {
     "name": "stderr",
     "output_type": "stream",
     "text": [
      "\r",
      " 52%|██████████████████████████████████████████                                       | 52/100 [07:06<06:07,  7.65s/it]"
     ]
    },
    {
     "name": "stdout",
     "output_type": "stream",
     "text": [
      "____________________________________________________\n",
      "cost: 2320.55 accuracy: 0.384545454545 before epoch 52\n",
      "cost: 10.1493\taccuracy: 0.41015625 in 52 epoch in 0batch\n",
      "cost: 18.3037\taccuracy: 0.40625 in 52 epoch in 40batch\n",
      "cost: 18.4875\taccuracy: 0.40234375 in 52 epoch in 80batch\n",
      "cost: 23.3262\taccuracy: 0.4453125 in 52 epoch in 120batch\n",
      "cost: 18.8635\taccuracy: 0.40234375 in 52 epoch in 160batch\n",
      "cost: 15.2467\taccuracy: 0.4765625 in 52 epoch in 200batch\n"
     ]
    },
    {
     "name": "stderr",
     "output_type": "stream",
     "text": [
      "\r",
      " 53%|██████████████████████████████████████████▉                                      | 53/100 [07:13<05:55,  7.57s/it]"
     ]
    },
    {
     "name": "stdout",
     "output_type": "stream",
     "text": [
      "____________________________________________________\n",
      "cost: 2399.53 accuracy: 0.384072727273 before epoch 53\n",
      "cost: 10.8372\taccuracy: 0.41015625 in 53 epoch in 0batch\n",
      "cost: 12.2986\taccuracy: 0.42578125 in 53 epoch in 40batch\n",
      "cost: 26.9222\taccuracy: 0.42578125 in 53 epoch in 80batch\n",
      "cost: 16.353\taccuracy: 0.4296875 in 53 epoch in 120batch\n",
      "cost: 17.0958\taccuracy: 0.3984375 in 53 epoch in 160batch\n",
      "cost: 21.7607\taccuracy: 0.390625 in 53 epoch in 200batch\n"
     ]
    },
    {
     "name": "stderr",
     "output_type": "stream",
     "text": [
      "\r",
      " 54%|███████████████████████████████████████████▋                                     | 54/100 [07:21<05:44,  7.48s/it]"
     ]
    },
    {
     "name": "stdout",
     "output_type": "stream",
     "text": [
      "____________________________________________________\n",
      "cost: 2310.99 accuracy: 0.383636363636 before epoch 54\n",
      "cost: 10.4337\taccuracy: 0.38671875 in 54 epoch in 0batch\n",
      "cost: 15.3584\taccuracy: 0.37109375 in 54 epoch in 40batch\n",
      "cost: 22.4595\taccuracy: 0.39453125 in 54 epoch in 80batch\n",
      "cost: 15.074\taccuracy: 0.41015625 in 54 epoch in 120batch\n",
      "cost: 13.9486\taccuracy: 0.3828125 in 54 epoch in 160batch\n",
      "cost: 20.1575\taccuracy: 0.38671875 in 54 epoch in 200batch\n"
     ]
    },
    {
     "name": "stderr",
     "output_type": "stream",
     "text": [
      "\r",
      " 55%|████████████████████████████████████████████▌                                    | 55/100 [07:28<05:31,  7.37s/it]"
     ]
    },
    {
     "name": "stdout",
     "output_type": "stream",
     "text": [
      "____________________________________________________\n",
      "cost: 2243.38 accuracy: 0.3848 before epoch 55\n",
      "cost: 10.4357\taccuracy: 0.41015625 in 55 epoch in 0batch\n",
      "cost: 12.8238\taccuracy: 0.390625 in 55 epoch in 40batch\n",
      "cost: 14.0959\taccuracy: 0.34765625 in 55 epoch in 80batch\n",
      "cost: 13.0931\taccuracy: 0.40625 in 55 epoch in 120batch\n",
      "cost: 16.4312\taccuracy: 0.40625 in 55 epoch in 160batch\n",
      "cost: 21.8387\taccuracy: 0.40625 in 55 epoch in 200batch\n"
     ]
    },
    {
     "name": "stderr",
     "output_type": "stream",
     "text": [
      "\r",
      " 56%|█████████████████████████████████████████████▎                                   | 56/100 [07:35<05:20,  7.28s/it]"
     ]
    },
    {
     "name": "stdout",
     "output_type": "stream",
     "text": [
      "____________________________________________________\n",
      "cost: 2276.91 accuracy: 0.384254545455 before epoch 56\n",
      "cost: 9.81225\taccuracy: 0.421875 in 56 epoch in 0batch\n",
      "cost: 8.86238\taccuracy: 0.4296875 in 56 epoch in 40batch\n",
      "cost: 17.9094\taccuracy: 0.37109375 in 56 epoch in 80batch\n",
      "cost: 14.5877\taccuracy: 0.4375 in 56 epoch in 120batch\n",
      "cost: 13.5733\taccuracy: 0.4296875 in 56 epoch in 160batch\n",
      "cost: 16.1657\taccuracy: 0.40625 in 56 epoch in 200batch\n"
     ]
    },
    {
     "name": "stderr",
     "output_type": "stream",
     "text": [
      "\r",
      " 57%|██████████████████████████████████████████████▏                                  | 57/100 [07:42<05:12,  7.26s/it]"
     ]
    },
    {
     "name": "stdout",
     "output_type": "stream",
     "text": [
      "____________________________________________________\n",
      "cost: 2159.6 accuracy: 0.386490909091 before epoch 57\n",
      "cost: 10.6608\taccuracy: 0.4296875 in 57 epoch in 0batch\n",
      "cost: 10.8332\taccuracy: 0.3984375 in 57 epoch in 40batch\n",
      "cost: 13.2887\taccuracy: 0.41796875 in 57 epoch in 80batch\n",
      "cost: 8.75957\taccuracy: 0.38671875 in 57 epoch in 120batch\n",
      "cost: 11.8836\taccuracy: 0.39453125 in 57 epoch in 160batch\n",
      "cost: 18.2954\taccuracy: 0.40234375 in 57 epoch in 200batch\n"
     ]
    },
    {
     "name": "stderr",
     "output_type": "stream",
     "text": [
      "\r",
      " 58%|██████████████████████████████████████████████▉                                  | 58/100 [07:50<05:08,  7.35s/it]"
     ]
    },
    {
     "name": "stdout",
     "output_type": "stream",
     "text": [
      "____________________________________________________\n",
      "cost: 2212.1 accuracy: 0.387072727273 before epoch 58\n",
      "cost: 11.3591\taccuracy: 0.37890625 in 58 epoch in 0batch\n",
      "cost: 12.4017\taccuracy: 0.4140625 in 58 epoch in 40batch\n",
      "cost: 19.7974\taccuracy: 0.38671875 in 58 epoch in 80batch\n",
      "cost: 13.9231\taccuracy: 0.4140625 in 58 epoch in 120batch\n",
      "cost: 15.8547\taccuracy: 0.38671875 in 58 epoch in 160batch\n",
      "cost: 16.4877\taccuracy: 0.39453125 in 58 epoch in 200batch\n"
     ]
    },
    {
     "name": "stderr",
     "output_type": "stream",
     "text": [
      "\r",
      " 59%|███████████████████████████████████████████████▊                                 | 59/100 [07:57<04:58,  7.27s/it]"
     ]
    },
    {
     "name": "stdout",
     "output_type": "stream",
     "text": [
      "____________________________________________________\n",
      "cost: 2124.42 accuracy: 0.386072727273 before epoch 59\n",
      "cost: 11.4953\taccuracy: 0.34765625 in 59 epoch in 0batch\n",
      "cost: 13.1763\taccuracy: 0.3984375 in 59 epoch in 40batch\n",
      "cost: 14.0974\taccuracy: 0.40234375 in 59 epoch in 80batch\n",
      "cost: 15.0843\taccuracy: 0.3984375 in 59 epoch in 120batch\n",
      "cost: 17.9579\taccuracy: 0.39453125 in 59 epoch in 160batch\n",
      "cost: 24.5057\taccuracy: 0.39453125 in 59 epoch in 200batch\n"
     ]
    },
    {
     "name": "stderr",
     "output_type": "stream",
     "text": [
      "\r",
      " 60%|████████████████████████████████████████████████▌                                | 60/100 [08:04<04:48,  7.21s/it]"
     ]
    },
    {
     "name": "stdout",
     "output_type": "stream",
     "text": [
      "____________________________________________________\n",
      "cost: 2176.52 accuracy: 0.387563636364 before epoch 60\n",
      "cost: 8.25152\taccuracy: 0.390625 in 60 epoch in 0batch\n",
      "cost: 12.1028\taccuracy: 0.421875 in 60 epoch in 40batch\n",
      "cost: 18.3082\taccuracy: 0.41015625 in 60 epoch in 80batch\n",
      "cost: 14.3134\taccuracy: 0.37890625 in 60 epoch in 120batch\n",
      "cost: 12.2288\taccuracy: 0.37890625 in 60 epoch in 160batch\n",
      "cost: 23.6544\taccuracy: 0.3671875 in 60 epoch in 200batch\n"
     ]
    },
    {
     "name": "stderr",
     "output_type": "stream",
     "text": [
      "\r",
      " 61%|█████████████████████████████████████████████████▍                               | 61/100 [08:11<04:35,  7.07s/it]"
     ]
    },
    {
     "name": "stdout",
     "output_type": "stream",
     "text": [
      "____________________________________________________\n",
      "cost: 2147.97 accuracy: 0.387236363636 before epoch 61\n",
      "cost: 9.0607\taccuracy: 0.41796875 in 61 epoch in 0batch\n",
      "cost: 13.0077\taccuracy: 0.4140625 in 61 epoch in 40batch\n",
      "cost: 10.2132\taccuracy: 0.359375 in 61 epoch in 80batch\n",
      "cost: 11.8365\taccuracy: 0.35546875 in 61 epoch in 120batch\n",
      "cost: 14.6486\taccuracy: 0.41796875 in 61 epoch in 160batch\n",
      "cost: 16.0835\taccuracy: 0.3828125 in 61 epoch in 200batch\n"
     ]
    },
    {
     "name": "stderr",
     "output_type": "stream",
     "text": [
      "\r",
      " 62%|██████████████████████████████████████████████████▏                              | 62/100 [08:18<04:31,  7.16s/it]"
     ]
    },
    {
     "name": "stdout",
     "output_type": "stream",
     "text": [
      "____________________________________________________\n",
      "cost: 1988.62 accuracy: 0.387090909091 before epoch 62\n",
      "cost: 8.65158\taccuracy: 0.3515625 in 62 epoch in 0batch\n",
      "cost: 11.2576\taccuracy: 0.3984375 in 62 epoch in 40batch\n",
      "cost: 11.4545\taccuracy: 0.390625 in 62 epoch in 80batch\n",
      "cost: 16.9316\taccuracy: 0.39453125 in 62 epoch in 120batch\n",
      "cost: 11.9586\taccuracy: 0.4140625 in 62 epoch in 160batch\n",
      "cost: 12.7386\taccuracy: 0.4609375 in 62 epoch in 200batch\n"
     ]
    },
    {
     "name": "stderr",
     "output_type": "stream",
     "text": [
      "\r",
      " 63%|███████████████████████████████████████████████████                              | 63/100 [08:25<04:24,  7.14s/it]"
     ]
    },
    {
     "name": "stdout",
     "output_type": "stream",
     "text": [
      "____________________________________________________\n",
      "cost: 1886.74 accuracy: 0.387127272727 before epoch 63\n",
      "cost: 8.9577\taccuracy: 0.41796875 in 63 epoch in 0batch\n",
      "cost: 9.3376\taccuracy: 0.40234375 in 63 epoch in 40batch\n",
      "cost: 17.3563\taccuracy: 0.39453125 in 63 epoch in 80batch\n",
      "cost: 11.0546\taccuracy: 0.41015625 in 63 epoch in 120batch\n",
      "cost: 18.3809\taccuracy: 0.3828125 in 63 epoch in 160batch\n",
      "cost: 18.1065\taccuracy: 0.38671875 in 63 epoch in 200batch\n"
     ]
    },
    {
     "name": "stderr",
     "output_type": "stream",
     "text": [
      "\r",
      " 64%|███████████████████████████████████████████████████▊                             | 64/100 [08:32<04:15,  7.11s/it]"
     ]
    },
    {
     "name": "stdout",
     "output_type": "stream",
     "text": [
      "____________________________________________________\n",
      "cost: 2018.84 accuracy: 0.387272727273 before epoch 64\n",
      "cost: 9.01567\taccuracy: 0.3828125 in 64 epoch in 0batch\n",
      "cost: 18.7216\taccuracy: 0.39453125 in 64 epoch in 40batch\n",
      "cost: 10.7184\taccuracy: 0.41796875 in 64 epoch in 80batch\n",
      "cost: 19.6445\taccuracy: 0.37890625 in 64 epoch in 120batch\n",
      "cost: 24.0543\taccuracy: 0.37109375 in 64 epoch in 160batch\n",
      "cost: 25.4444\taccuracy: 0.4609375 in 64 epoch in 200batch\n"
     ]
    },
    {
     "name": "stderr",
     "output_type": "stream",
     "text": [
      "\r",
      " 65%|████████████████████████████████████████████████████▋                            | 65/100 [08:39<04:09,  7.12s/it]"
     ]
    },
    {
     "name": "stdout",
     "output_type": "stream",
     "text": [
      "____________________________________________________\n",
      "cost: 2052.43 accuracy: 0.387181818182 before epoch 65\n",
      "cost: 11.0404\taccuracy: 0.40234375 in 65 epoch in 0batch\n",
      "cost: 17.5251\taccuracy: 0.37109375 in 65 epoch in 40batch\n",
      "cost: 11.7282\taccuracy: 0.390625 in 65 epoch in 80batch\n",
      "cost: 19.0427\taccuracy: 0.41796875 in 65 epoch in 120batch\n",
      "cost: 14.2108\taccuracy: 0.3828125 in 65 epoch in 160batch\n",
      "cost: 19.0981\taccuracy: 0.40625 in 65 epoch in 200batch\n"
     ]
    },
    {
     "name": "stderr",
     "output_type": "stream",
     "text": [
      "\r",
      " 66%|█████████████████████████████████████████████████████▍                           | 66/100 [08:46<04:03,  7.15s/it]"
     ]
    },
    {
     "name": "stdout",
     "output_type": "stream",
     "text": [
      "____________________________________________________\n",
      "cost: 2101.67 accuracy: 0.387 before epoch 66\n",
      "cost: 8.62587\taccuracy: 0.3828125 in 66 epoch in 0batch\n",
      "cost: 11.4712\taccuracy: 0.4296875 in 66 epoch in 40batch\n",
      "cost: 13.2299\taccuracy: 0.36328125 in 66 epoch in 80batch\n",
      "cost: 11.9879\taccuracy: 0.41015625 in 66 epoch in 120batch\n",
      "cost: 16.391\taccuracy: 0.3984375 in 66 epoch in 160batch\n",
      "cost: 16.3891\taccuracy: 0.359375 in 66 epoch in 200batch\n"
     ]
    },
    {
     "name": "stderr",
     "output_type": "stream",
     "text": [
      "\r",
      " 67%|██████████████████████████████████████████████████████▎                          | 67/100 [08:55<04:05,  7.43s/it]"
     ]
    },
    {
     "name": "stdout",
     "output_type": "stream",
     "text": [
      "____________________________________________________\n",
      "cost: 1924.52 accuracy: 0.386709090909 before epoch 67\n",
      "cost: 7.56355\taccuracy: 0.4296875 in 67 epoch in 0batch\n",
      "cost: 15.6084\taccuracy: 0.4140625 in 67 epoch in 40batch\n",
      "cost: 17.1251\taccuracy: 0.37109375 in 67 epoch in 80batch\n",
      "cost: 15.5384\taccuracy: 0.375 in 67 epoch in 120batch\n",
      "cost: 20.4447\taccuracy: 0.3203125 in 67 epoch in 160batch\n",
      "cost: 18.2014\taccuracy: 0.3671875 in 67 epoch in 200batch\n"
     ]
    },
    {
     "name": "stderr",
     "output_type": "stream",
     "text": [
      "\r",
      " 68%|███████████████████████████████████████████████████████                          | 68/100 [09:02<04:02,  7.58s/it]"
     ]
    },
    {
     "name": "stdout",
     "output_type": "stream",
     "text": [
      "____________________________________________________\n",
      "cost: 1925.14 accuracy: 0.386981818182 before epoch 68\n",
      "cost: 9.08316\taccuracy: 0.421875 in 68 epoch in 0batch\n",
      "cost: 8.8077\taccuracy: 0.3671875 in 68 epoch in 40batch\n",
      "cost: 23.6096\taccuracy: 0.41015625 in 68 epoch in 80batch\n",
      "cost: 13.2507\taccuracy: 0.42578125 in 68 epoch in 120batch\n",
      "cost: 23.439\taccuracy: 0.37890625 in 68 epoch in 160batch\n",
      "cost: 17.3839\taccuracy: 0.421875 in 68 epoch in 200batch\n"
     ]
    },
    {
     "name": "stderr",
     "output_type": "stream",
     "text": [
      "\r",
      " 69%|███████████████████████████████████████████████████████▉                         | 69/100 [09:10<03:54,  7.56s/it]"
     ]
    },
    {
     "name": "stdout",
     "output_type": "stream",
     "text": [
      "____________________________________________________\n",
      "cost: 2063.4 accuracy: 0.387236363636 before epoch 69\n",
      "cost: 8.74313\taccuracy: 0.359375 in 69 epoch in 0batch\n",
      "cost: 20.104\taccuracy: 0.35546875 in 69 epoch in 40batch\n",
      "cost: 11.8239\taccuracy: 0.390625 in 69 epoch in 80batch\n",
      "cost: 14.0506\taccuracy: 0.37890625 in 69 epoch in 120batch\n",
      "cost: 13.0687\taccuracy: 0.40625 in 69 epoch in 160batch\n",
      "cost: 14.7166\taccuracy: 0.36328125 in 69 epoch in 200batch\n"
     ]
    },
    {
     "name": "stderr",
     "output_type": "stream",
     "text": [
      "\r",
      " 70%|████████████████████████████████████████████████████████▋                        | 70/100 [09:19<03:56,  7.89s/it]"
     ]
    },
    {
     "name": "stdout",
     "output_type": "stream",
     "text": [
      "____________________________________________________\n",
      "cost: 2017.66 accuracy: 0.387436363636 before epoch 70\n",
      "cost: 10.733\taccuracy: 0.40625 in 70 epoch in 0batch\n",
      "cost: 9.11907\taccuracy: 0.421875 in 70 epoch in 40batch\n",
      "cost: 13.4205\taccuracy: 0.3828125 in 70 epoch in 80batch\n",
      "cost: 17.0088\taccuracy: 0.41015625 in 70 epoch in 120batch\n",
      "cost: 15.4575\taccuracy: 0.44921875 in 70 epoch in 160batch\n",
      "cost: 18.3488\taccuracy: 0.4609375 in 70 epoch in 200batch\n"
     ]
    },
    {
     "name": "stderr",
     "output_type": "stream",
     "text": [
      "\r",
      " 71%|█████████████████████████████████████████████████████████▌                       | 71/100 [09:28<04:03,  8.39s/it]"
     ]
    },
    {
     "name": "stdout",
     "output_type": "stream",
     "text": [
      "____________________________________________________\n",
      "cost: 2057.0 accuracy: 0.386945454545 before epoch 71\n",
      "cost: 10.209\taccuracy: 0.47265625 in 71 epoch in 0batch\n",
      "cost: 12.5277\taccuracy: 0.421875 in 71 epoch in 40batch\n",
      "cost: 17.7371\taccuracy: 0.34765625 in 71 epoch in 80batch\n",
      "cost: 14.1025\taccuracy: 0.3671875 in 71 epoch in 120batch\n",
      "cost: 19.7993\taccuracy: 0.40625 in 71 epoch in 160batch\n",
      "cost: 13.1905\taccuracy: 0.46875 in 71 epoch in 200batch\n"
     ]
    },
    {
     "name": "stderr",
     "output_type": "stream",
     "text": [
      "\r",
      " 72%|██████████████████████████████████████████████████████████▎                      | 72/100 [09:37<03:59,  8.56s/it]"
     ]
    },
    {
     "name": "stdout",
     "output_type": "stream",
     "text": [
      "____________________________________________________\n",
      "cost: 2099.1 accuracy: 0.388236363636 before epoch 72\n",
      "cost: 10.1785\taccuracy: 0.3515625 in 72 epoch in 0batch\n",
      "cost: 14.3699\taccuracy: 0.40625 in 72 epoch in 40batch\n",
      "cost: 10.6671\taccuracy: 0.421875 in 72 epoch in 80batch\n",
      "cost: 15.7113\taccuracy: 0.40625 in 72 epoch in 120batch\n",
      "cost: 20.538\taccuracy: 0.375 in 72 epoch in 160batch\n",
      "cost: 21.4712\taccuracy: 0.39453125 in 72 epoch in 200batch\n"
     ]
    },
    {
     "name": "stderr",
     "output_type": "stream",
     "text": [
      "\r",
      " 73%|███████████████████████████████████████████████████████████▏                     | 73/100 [09:45<03:46,  8.37s/it]"
     ]
    },
    {
     "name": "stdout",
     "output_type": "stream",
     "text": [
      "____________________________________________________\n",
      "cost: 1885.26 accuracy: 0.388163636364 before epoch 73\n",
      "cost: 7.76826\taccuracy: 0.41015625 in 73 epoch in 0batch\n",
      "cost: 9.33412\taccuracy: 0.3828125 in 73 epoch in 40batch\n",
      "cost: 15.101\taccuracy: 0.38671875 in 73 epoch in 80batch\n",
      "cost: 15.8541\taccuracy: 0.41796875 in 73 epoch in 120batch\n",
      "cost: 22.8358\taccuracy: 0.37890625 in 73 epoch in 160batch\n",
      "cost: 23.6407\taccuracy: 0.39453125 in 73 epoch in 200batch\n"
     ]
    },
    {
     "name": "stderr",
     "output_type": "stream",
     "text": [
      "\r",
      " 74%|███████████████████████████████████████████████████████████▉                     | 74/100 [09:53<03:32,  8.18s/it]"
     ]
    },
    {
     "name": "stdout",
     "output_type": "stream",
     "text": [
      "____________________________________________________\n",
      "cost: 1902.75 accuracy: 0.387563636364 before epoch 74\n",
      "cost: 8.01056\taccuracy: 0.40625 in 74 epoch in 0batch\n",
      "cost: 10.0456\taccuracy: 0.4296875 in 74 epoch in 40batch\n",
      "cost: 12.5438\taccuracy: 0.4453125 in 74 epoch in 80batch\n",
      "cost: 12.9568\taccuracy: 0.40625 in 74 epoch in 120batch\n",
      "cost: 11.5894\taccuracy: 0.37890625 in 74 epoch in 160batch\n",
      "cost: 13.5293\taccuracy: 0.44140625 in 74 epoch in 200batch\n"
     ]
    },
    {
     "name": "stderr",
     "output_type": "stream",
     "text": [
      "\r",
      " 75%|████████████████████████████████████████████████████████████▊                    | 75/100 [10:00<03:16,  7.87s/it]"
     ]
    },
    {
     "name": "stdout",
     "output_type": "stream",
     "text": [
      "____________________________________________________\n",
      "cost: 1752.79 accuracy: 0.388036363636 before epoch 75\n",
      "cost: 7.56305\taccuracy: 0.34375 in 75 epoch in 0batch\n",
      "cost: 9.54126\taccuracy: 0.390625 in 75 epoch in 40batch\n",
      "cost: 14.1258\taccuracy: 0.42578125 in 75 epoch in 80batch\n",
      "cost: 14.5964\taccuracy: 0.3828125 in 75 epoch in 120batch\n",
      "cost: 16.2199\taccuracy: 0.3828125 in 75 epoch in 160batch\n",
      "cost: 21.171\taccuracy: 0.34765625 in 75 epoch in 200batch\n"
     ]
    },
    {
     "name": "stderr",
     "output_type": "stream",
     "text": [
      "\r",
      " 76%|█████████████████████████████████████████████████████████████▌                   | 76/100 [10:07<03:06,  7.76s/it]"
     ]
    },
    {
     "name": "stdout",
     "output_type": "stream",
     "text": [
      "____________________________________________________\n",
      "cost: 1796.98 accuracy: 0.387763636364 before epoch 76\n",
      "cost: 9.02293\taccuracy: 0.42578125 in 76 epoch in 0batch\n",
      "cost: 12.2481\taccuracy: 0.40234375 in 76 epoch in 40batch\n",
      "cost: 10.406\taccuracy: 0.359375 in 76 epoch in 80batch\n",
      "cost: 11.8281\taccuracy: 0.3984375 in 76 epoch in 120batch\n",
      "cost: 12.6833\taccuracy: 0.375 in 76 epoch in 160batch\n",
      "cost: 16.4811\taccuracy: 0.390625 in 76 epoch in 200batch\n"
     ]
    },
    {
     "name": "stderr",
     "output_type": "stream",
     "text": [
      "\r",
      " 77%|██████████████████████████████████████████████████████████████▎                  | 77/100 [10:15<02:57,  7.73s/it]"
     ]
    },
    {
     "name": "stdout",
     "output_type": "stream",
     "text": [
      "____________________________________________________\n",
      "cost: 1791.8 accuracy: 0.387218181818 before epoch 77\n",
      "cost: 8.56154\taccuracy: 0.40234375 in 77 epoch in 0batch\n",
      "cost: 11.6635\taccuracy: 0.40625 in 77 epoch in 40batch\n",
      "cost: 17.4373\taccuracy: 0.37109375 in 77 epoch in 80batch\n",
      "cost: 14.715\taccuracy: 0.421875 in 77 epoch in 120batch\n",
      "cost: 13.2927\taccuracy: 0.4453125 in 77 epoch in 160batch\n",
      "cost: 23.9847\taccuracy: 0.40234375 in 77 epoch in 200batch\n"
     ]
    },
    {
     "name": "stderr",
     "output_type": "stream",
     "text": [
      "\r",
      " 78%|███████████████████████████████████████████████████████████████▏                 | 78/100 [10:23<02:48,  7.67s/it]"
     ]
    },
    {
     "name": "stdout",
     "output_type": "stream",
     "text": [
      "____________________________________________________\n",
      "cost: 1916.77 accuracy: 0.387472727273 before epoch 78\n",
      "cost: 8.99537\taccuracy: 0.36328125 in 78 epoch in 0batch\n",
      "cost: 14.631\taccuracy: 0.390625 in 78 epoch in 40batch\n",
      "cost: 15.9234\taccuracy: 0.47265625 in 78 epoch in 80batch\n",
      "cost: 10.4718\taccuracy: 0.45703125 in 78 epoch in 120batch\n",
      "cost: 13.5108\taccuracy: 0.37890625 in 78 epoch in 160batch\n",
      "cost: 18.023\taccuracy: 0.37890625 in 78 epoch in 200batch\n"
     ]
    },
    {
     "name": "stderr",
     "output_type": "stream",
     "text": [
      "\r",
      " 79%|███████████████████████████████████████████████████████████████▉                 | 79/100 [10:30<02:40,  7.66s/it]"
     ]
    },
    {
     "name": "stdout",
     "output_type": "stream",
     "text": [
      "____________________________________________________\n",
      "cost: 1748.23 accuracy: 0.387781818182 before epoch 79\n",
      "cost: 6.89475\taccuracy: 0.38671875 in 79 epoch in 0batch\n",
      "cost: 12.99\taccuracy: 0.359375 in 79 epoch in 40batch\n",
      "cost: 13.125\taccuracy: 0.390625 in 79 epoch in 80batch\n",
      "cost: 16.4125\taccuracy: 0.37890625 in 79 epoch in 120batch\n",
      "cost: 17.4795\taccuracy: 0.40234375 in 79 epoch in 160batch\n",
      "cost: 11.5392\taccuracy: 0.38671875 in 79 epoch in 200batch\n"
     ]
    },
    {
     "name": "stderr",
     "output_type": "stream",
     "text": [
      "\r",
      " 80%|████████████████████████████████████████████████████████████████▊                | 80/100 [10:38<02:34,  7.71s/it]"
     ]
    },
    {
     "name": "stdout",
     "output_type": "stream",
     "text": [
      "____________________________________________________\n",
      "cost: 1826.45 accuracy: 0.388872727273 before epoch 80\n",
      "cost: 8.58515\taccuracy: 0.37890625 in 80 epoch in 0batch\n",
      "cost: 10.4277\taccuracy: 0.3828125 in 80 epoch in 40batch\n",
      "cost: 15.8917\taccuracy: 0.41015625 in 80 epoch in 80batch\n",
      "cost: 13.4478\taccuracy: 0.36328125 in 80 epoch in 120batch\n",
      "cost: 13.0284\taccuracy: 0.35546875 in 80 epoch in 160batch\n",
      "cost: 13.7917\taccuracy: 0.44921875 in 80 epoch in 200batch\n"
     ]
    },
    {
     "name": "stderr",
     "output_type": "stream",
     "text": [
      "\r",
      " 81%|█████████████████████████████████████████████████████████████████▌               | 81/100 [10:46<02:25,  7.66s/it]"
     ]
    },
    {
     "name": "stdout",
     "output_type": "stream",
     "text": [
      "____________________________________________________\n",
      "cost: 1766.42 accuracy: 0.389018181818 before epoch 81\n",
      "cost: 7.3434\taccuracy: 0.33984375 in 81 epoch in 0batch\n",
      "cost: 12.9342\taccuracy: 0.4453125 in 81 epoch in 40batch\n",
      "cost: 9.51169\taccuracy: 0.41796875 in 81 epoch in 80batch\n",
      "cost: 14.0166\taccuracy: 0.3671875 in 81 epoch in 120batch\n",
      "cost: 11.3134\taccuracy: 0.3359375 in 81 epoch in 160batch\n",
      "cost: 15.2807\taccuracy: 0.3671875 in 81 epoch in 200batch\n"
     ]
    },
    {
     "name": "stderr",
     "output_type": "stream",
     "text": [
      "\r",
      " 82%|██████████████████████████████████████████████████████████████████▍              | 82/100 [10:53<02:17,  7.63s/it]"
     ]
    },
    {
     "name": "stdout",
     "output_type": "stream",
     "text": [
      "____________________________________________________\n",
      "cost: 1732.57 accuracy: 0.388490909091 before epoch 82\n",
      "cost: 7.71752\taccuracy: 0.4375 in 82 epoch in 0batch\n",
      "cost: 7.29697\taccuracy: 0.33984375 in 82 epoch in 40batch\n",
      "cost: 10.4872\taccuracy: 0.37890625 in 82 epoch in 80batch\n",
      "cost: 18.7456\taccuracy: 0.375 in 82 epoch in 120batch\n",
      "cost: 16.0335\taccuracy: 0.3828125 in 82 epoch in 160batch\n",
      "cost: 12.2556\taccuracy: 0.34375 in 82 epoch in 200batch\n"
     ]
    },
    {
     "name": "stderr",
     "output_type": "stream",
     "text": [
      "\r",
      " 83%|███████████████████████████████████████████████████████████████████▏             | 83/100 [11:01<02:09,  7.64s/it]"
     ]
    },
    {
     "name": "stdout",
     "output_type": "stream",
     "text": [
      "____________________________________________________\n",
      "cost: 1717.35 accuracy: 0.388563636364 before epoch 83\n",
      "cost: 7.63619\taccuracy: 0.41796875 in 83 epoch in 0batch\n",
      "cost: 11.9512\taccuracy: 0.36328125 in 83 epoch in 40batch\n",
      "cost: 7.53926\taccuracy: 0.39453125 in 83 epoch in 80batch\n",
      "cost: 8.53782\taccuracy: 0.36328125 in 83 epoch in 120batch\n",
      "cost: 11.9243\taccuracy: 0.421875 in 83 epoch in 160batch\n",
      "cost: 12.6045\taccuracy: 0.38671875 in 83 epoch in 200batch\n"
     ]
    },
    {
     "name": "stderr",
     "output_type": "stream",
     "text": [
      "\r",
      " 84%|████████████████████████████████████████████████████████████████████             | 84/100 [11:09<02:04,  7.79s/it]"
     ]
    },
    {
     "name": "stdout",
     "output_type": "stream",
     "text": [
      "____________________________________________________\n",
      "cost: 1666.31 accuracy: 0.389272727273 before epoch 84\n",
      "cost: 7.17345\taccuracy: 0.42578125 in 84 epoch in 0batch\n",
      "cost: 7.30578\taccuracy: 0.3671875 in 84 epoch in 40batch\n",
      "cost: 14.9203\taccuracy: 0.421875 in 84 epoch in 80batch\n",
      "cost: 11.548\taccuracy: 0.38671875 in 84 epoch in 120batch\n",
      "cost: 16.7247\taccuracy: 0.3984375 in 84 epoch in 160batch\n",
      "cost: 7.70368\taccuracy: 0.40234375 in 84 epoch in 200batch\n"
     ]
    },
    {
     "name": "stderr",
     "output_type": "stream",
     "text": [
      "\r",
      " 85%|████████████████████████████████████████████████████████████████████▊            | 85/100 [11:17<01:57,  7.85s/it]"
     ]
    },
    {
     "name": "stdout",
     "output_type": "stream",
     "text": [
      "____________________________________________________\n",
      "cost: 1607.63 accuracy: 0.389272727273 before epoch 85\n",
      "cost: 6.63707\taccuracy: 0.421875 in 85 epoch in 0batch\n",
      "cost: 8.56188\taccuracy: 0.36328125 in 85 epoch in 40batch\n",
      "cost: 12.9267\taccuracy: 0.41015625 in 85 epoch in 80batch\n",
      "cost: 17.2726\taccuracy: 0.41796875 in 85 epoch in 120batch\n",
      "cost: 23.7449\taccuracy: 0.421875 in 85 epoch in 160batch\n",
      "cost: 17.6489\taccuracy: 0.34375 in 85 epoch in 200batch\n"
     ]
    },
    {
     "name": "stderr",
     "output_type": "stream",
     "text": [
      "\r",
      " 86%|█████████████████████████████████████████████████████████████████████▋           | 86/100 [11:25<01:50,  7.89s/it]"
     ]
    },
    {
     "name": "stdout",
     "output_type": "stream",
     "text": [
      "____________________________________________________\n",
      "cost: 1649.25 accuracy: 0.389327272727 before epoch 86\n",
      "cost: 6.41446\taccuracy: 0.37109375 in 86 epoch in 0batch\n",
      "cost: 15.4663\taccuracy: 0.40625 in 86 epoch in 40batch\n",
      "cost: 12.7096\taccuracy: 0.40234375 in 86 epoch in 80batch\n",
      "cost: 12.2171\taccuracy: 0.38671875 in 86 epoch in 120batch\n",
      "cost: 12.1868\taccuracy: 0.37890625 in 86 epoch in 160batch\n",
      "cost: 14.3665\taccuracy: 0.40234375 in 86 epoch in 200batch\n"
     ]
    },
    {
     "name": "stderr",
     "output_type": "stream",
     "text": [
      "\r",
      " 87%|██████████████████████████████████████████████████████████████████████▍          | 87/100 [11:33<01:41,  7.80s/it]"
     ]
    },
    {
     "name": "stdout",
     "output_type": "stream",
     "text": [
      "____________________________________________________\n",
      "cost: 1517.86 accuracy: 0.3886 before epoch 87\n",
      "cost: 6.84677\taccuracy: 0.44921875 in 87 epoch in 0batch\n",
      "cost: 9.41356\taccuracy: 0.39453125 in 87 epoch in 40batch\n",
      "cost: 6.12609\taccuracy: 0.41015625 in 87 epoch in 80batch\n",
      "cost: 8.18238\taccuracy: 0.4140625 in 87 epoch in 120batch\n",
      "cost: 6.14241\taccuracy: 0.3828125 in 87 epoch in 160batch\n",
      "cost: 14.7769\taccuracy: 0.4140625 in 87 epoch in 200batch\n"
     ]
    },
    {
     "name": "stderr",
     "output_type": "stream",
     "text": [
      "\r",
      " 88%|███████████████████████████████████████████████████████████████████████▎         | 88/100 [11:41<01:34,  7.87s/it]"
     ]
    },
    {
     "name": "stdout",
     "output_type": "stream",
     "text": [
      "____________________________________________________\n",
      "cost: 1597.78 accuracy: 0.389545454545 before epoch 88\n",
      "cost: 8.10345\taccuracy: 0.375 in 88 epoch in 0batch\n",
      "cost: 9.84224\taccuracy: 0.38671875 in 88 epoch in 40batch\n",
      "cost: 12.3196\taccuracy: 0.3828125 in 88 epoch in 80batch\n",
      "cost: 7.64505\taccuracy: 0.453125 in 88 epoch in 120batch\n",
      "cost: 8.97597\taccuracy: 0.38671875 in 88 epoch in 160batch\n",
      "cost: 10.2512\taccuracy: 0.37109375 in 88 epoch in 200batch\n"
     ]
    },
    {
     "name": "stderr",
     "output_type": "stream",
     "text": [
      "\r",
      " 89%|████████████████████████████████████████████████████████████████████████         | 89/100 [11:49<01:28,  8.04s/it]"
     ]
    },
    {
     "name": "stdout",
     "output_type": "stream",
     "text": [
      "____________________________________________________\n",
      "cost: 1663.23 accuracy: 0.3898 before epoch 89\n",
      "cost: 7.87033\taccuracy: 0.3984375 in 89 epoch in 0batch\n",
      "cost: 16.4264\taccuracy: 0.4140625 in 89 epoch in 40batch\n",
      "cost: 20.2485\taccuracy: 0.35546875 in 89 epoch in 80batch\n",
      "cost: 19.6104\taccuracy: 0.44140625 in 89 epoch in 120batch\n",
      "cost: 10.5259\taccuracy: 0.44140625 in 89 epoch in 160batch\n",
      "cost: 8.38008\taccuracy: 0.42578125 in 89 epoch in 200batch\n"
     ]
    },
    {
     "name": "stderr",
     "output_type": "stream",
     "text": [
      "\r",
      " 90%|████████████████████████████████████████████████████████████████████████▉        | 90/100 [11:57<01:19,  7.94s/it]"
     ]
    },
    {
     "name": "stdout",
     "output_type": "stream",
     "text": [
      "____________________________________________________\n",
      "cost: 1557.4 accuracy: 0.388890909091 before epoch 90\n",
      "cost: 6.92841\taccuracy: 0.44921875 in 90 epoch in 0batch\n",
      "cost: 10.7825\taccuracy: 0.3828125 in 90 epoch in 40batch\n",
      "cost: 16.4284\taccuracy: 0.38671875 in 90 epoch in 80batch\n",
      "cost: 12.4391\taccuracy: 0.4140625 in 90 epoch in 120batch\n",
      "cost: 18.9486\taccuracy: 0.37109375 in 90 epoch in 160batch\n",
      "cost: 12.543\taccuracy: 0.4140625 in 90 epoch in 200batch\n"
     ]
    },
    {
     "name": "stderr",
     "output_type": "stream",
     "text": [
      "\r",
      " 91%|█████████████████████████████████████████████████████████████████████████▋       | 91/100 [12:04<01:10,  7.79s/it]"
     ]
    },
    {
     "name": "stdout",
     "output_type": "stream",
     "text": [
      "____________________________________________________\n",
      "cost: 1507.76 accuracy: 0.388836363636 before epoch 91\n",
      "cost: 6.75859\taccuracy: 0.359375 in 91 epoch in 0batch\n",
      "cost: 8.25303\taccuracy: 0.38671875 in 91 epoch in 40batch\n",
      "cost: 8.94647\taccuracy: 0.40625 in 91 epoch in 80batch\n",
      "cost: 16.9739\taccuracy: 0.40234375 in 91 epoch in 120batch\n",
      "cost: 15.9496\taccuracy: 0.421875 in 91 epoch in 160batch\n",
      "cost: 11.7248\taccuracy: 0.3828125 in 91 epoch in 200batch\n"
     ]
    },
    {
     "name": "stderr",
     "output_type": "stream",
     "text": [
      "\r",
      " 92%|██████████████████████████████████████████████████████████████████████████▌      | 92/100 [12:12<01:01,  7.73s/it]"
     ]
    },
    {
     "name": "stdout",
     "output_type": "stream",
     "text": [
      "____________________________________________________\n",
      "cost: 1584.69 accuracy: 0.388345454545 before epoch 92\n",
      "cost: 7.48638\taccuracy: 0.37109375 in 92 epoch in 0batch\n",
      "cost: 10.5467\taccuracy: 0.41015625 in 92 epoch in 40batch\n",
      "cost: 18.6853\taccuracy: 0.34765625 in 92 epoch in 80batch\n",
      "cost: 10.0652\taccuracy: 0.4140625 in 92 epoch in 120batch\n",
      "cost: 12.0048\taccuracy: 0.36328125 in 92 epoch in 160batch\n",
      "cost: 10.9525\taccuracy: 0.38671875 in 92 epoch in 200batch\n"
     ]
    },
    {
     "name": "stderr",
     "output_type": "stream",
     "text": [
      "\r",
      " 93%|███████████████████████████████████████████████████████████████████████████▎     | 93/100 [12:19<00:53,  7.67s/it]"
     ]
    },
    {
     "name": "stdout",
     "output_type": "stream",
     "text": [
      "____________________________________________________\n",
      "cost: 1523.46 accuracy: 0.389218181818 before epoch 93\n",
      "cost: 6.55698\taccuracy: 0.40234375 in 93 epoch in 0batch\n",
      "cost: 9.81295\taccuracy: 0.41796875 in 93 epoch in 40batch\n",
      "cost: 15.4341\taccuracy: 0.37890625 in 93 epoch in 80batch\n",
      "cost: 23.1952\taccuracy: 0.3671875 in 93 epoch in 120batch\n",
      "cost: 11.595\taccuracy: 0.37109375 in 93 epoch in 160batch\n",
      "cost: 13.301\taccuracy: 0.3984375 in 93 epoch in 200batch\n"
     ]
    },
    {
     "name": "stderr",
     "output_type": "stream",
     "text": [
      "\r",
      " 94%|████████████████████████████████████████████████████████████████████████████▏    | 94/100 [12:27<00:45,  7.62s/it]"
     ]
    },
    {
     "name": "stdout",
     "output_type": "stream",
     "text": [
      "____________________________________________________\n",
      "cost: 1524.38 accuracy: 0.389618181818 before epoch 94\n",
      "cost: 6.63646\taccuracy: 0.35546875 in 94 epoch in 0batch\n",
      "cost: 10.6505\taccuracy: 0.390625 in 94 epoch in 40batch\n",
      "cost: 12.0597\taccuracy: 0.421875 in 94 epoch in 80batch\n",
      "cost: 7.96545\taccuracy: 0.3671875 in 94 epoch in 120batch\n",
      "cost: 9.10999\taccuracy: 0.375 in 94 epoch in 160batch\n",
      "cost: 6.49894\taccuracy: 0.39453125 in 94 epoch in 200batch\n"
     ]
    },
    {
     "name": "stderr",
     "output_type": "stream",
     "text": [
      "\r",
      " 95%|████████████████████████████████████████████████████████████████████████████▉    | 95/100 [12:34<00:37,  7.54s/it]"
     ]
    },
    {
     "name": "stdout",
     "output_type": "stream",
     "text": [
      "____________________________________________________\n",
      "cost: 1565.18 accuracy: 0.389454545455 before epoch 95\n",
      "cost: 7.05444\taccuracy: 0.39453125 in 95 epoch in 0batch\n",
      "cost: 7.99652\taccuracy: 0.4296875 in 95 epoch in 40batch\n",
      "cost: 19.0309\taccuracy: 0.375 in 95 epoch in 80batch\n",
      "cost: 15.0986\taccuracy: 0.41796875 in 95 epoch in 120batch\n",
      "cost: 15.1967\taccuracy: 0.390625 in 95 epoch in 160batch\n",
      "cost: 13.4552\taccuracy: 0.375 in 95 epoch in 200batch\n"
     ]
    },
    {
     "name": "stderr",
     "output_type": "stream",
     "text": [
      "\r",
      " 96%|█████████████████████████████████████████████████████████████████████████████▊   | 96/100 [12:42<00:30,  7.52s/it]"
     ]
    },
    {
     "name": "stdout",
     "output_type": "stream",
     "text": [
      "____________________________________________________\n",
      "cost: 1439.17 accuracy: 0.388836363636 before epoch 96\n",
      "cost: 6.74448\taccuracy: 0.38671875 in 96 epoch in 0batch\n",
      "cost: 5.66466\taccuracy: 0.42578125 in 96 epoch in 40batch\n",
      "cost: 8.92464\taccuracy: 0.390625 in 96 epoch in 80batch\n",
      "cost: 5.33909\taccuracy: 0.3984375 in 96 epoch in 120batch\n",
      "cost: 20.3599\taccuracy: 0.4140625 in 96 epoch in 160batch\n",
      "cost: 10.005\taccuracy: 0.39453125 in 96 epoch in 200batch\n"
     ]
    },
    {
     "name": "stderr",
     "output_type": "stream",
     "text": [
      "\r",
      " 97%|██████████████████████████████████████████████████████████████████████████████▌  | 97/100 [12:49<00:22,  7.56s/it]"
     ]
    },
    {
     "name": "stdout",
     "output_type": "stream",
     "text": [
      "____________________________________________________\n",
      "cost: 1362.73 accuracy: 0.389181818182 before epoch 97\n",
      "cost: 5.95682\taccuracy: 0.44921875 in 97 epoch in 0batch\n",
      "cost: 5.89756\taccuracy: 0.390625 in 97 epoch in 40batch\n",
      "cost: 10.5268\taccuracy: 0.44140625 in 97 epoch in 80batch\n",
      "cost: 10.2939\taccuracy: 0.3984375 in 97 epoch in 120batch\n",
      "cost: 12.7578\taccuracy: 0.375 in 97 epoch in 160batch\n",
      "cost: 9.39843\taccuracy: 0.3828125 in 97 epoch in 200batch\n"
     ]
    },
    {
     "name": "stderr",
     "output_type": "stream",
     "text": [
      "\r",
      " 98%|███████████████████████████████████████████████████████████████████████████████▍ | 98/100 [12:57<00:15,  7.51s/it]"
     ]
    },
    {
     "name": "stdout",
     "output_type": "stream",
     "text": [
      "____________________________________________________\n",
      "cost: 1379.79 accuracy: 0.388709090909 before epoch 98\n",
      "cost: 6.61867\taccuracy: 0.4453125 in 98 epoch in 0batch\n",
      "cost: 5.72042\taccuracy: 0.39453125 in 98 epoch in 40batch\n",
      "cost: 7.61945\taccuracy: 0.41015625 in 98 epoch in 80batch\n",
      "cost: 14.9409\taccuracy: 0.38671875 in 98 epoch in 120batch\n",
      "cost: 20.1027\taccuracy: 0.40234375 in 98 epoch in 160batch\n",
      "cost: 12.4322\taccuracy: 0.39453125 in 98 epoch in 200batch\n"
     ]
    },
    {
     "name": "stderr",
     "output_type": "stream",
     "text": [
      "\r",
      " 99%|████████████████████████████████████████████████████████████████████████████████▏| 99/100 [13:04<00:07,  7.53s/it]"
     ]
    },
    {
     "name": "stdout",
     "output_type": "stream",
     "text": [
      "____________________________________________________\n",
      "cost: 1551.64 accuracy: 0.388090909091 before epoch 99\n",
      "cost: 7.11931\taccuracy: 0.390625 in 99 epoch in 0batch\n",
      "cost: 9.07061\taccuracy: 0.33984375 in 99 epoch in 40batch\n",
      "cost: 14.9246\taccuracy: 0.34765625 in 99 epoch in 80batch\n",
      "cost: 13.3446\taccuracy: 0.44140625 in 99 epoch in 120batch\n",
      "cost: 24.4901\taccuracy: 0.4453125 in 99 epoch in 160batch\n",
      "cost: 16.496\taccuracy: 0.41015625 in 99 epoch in 200batch\n"
     ]
    },
    {
     "name": "stderr",
     "output_type": "stream",
     "text": [
      "100%|████████████████████████████████████████████████████████████████████████████████| 100/100 [13:12<00:00,  7.55s/it]\n"
     ]
    }
   ],
   "source": [
    "from sklearn.cluster import KMeans\n",
    "tf.reset_default_graph()\n",
    "DenseLayer.number = 0\n",
    "ConvLayer.number = 0\n",
    "PoolingLayer.number = 0\n",
    "EmbeddingLayer.number = 0\n",
    "RnnLayer.number = 0\n",
    "SAE.number = 0\n",
    "ClusteringLayer.number = 0\n",
    "\n",
    "def cluster_acc(y_true, y_pred):\n",
    "    \"\"\"\n",
    "    Calculate clustering accuracy. Require scikit-learn installed\n",
    "    # Arguments\n",
    "        y: true labels, numpy.array with shape `(n_samples,)`\n",
    "        y_pred: predicted labels, numpy.array with shape `(n_samples,)`\n",
    "    # Return\n",
    "        accuracy, in [0,1]\n",
    "    \"\"\"\n",
    "    y_true = y_true.astype(np.int64)\n",
    "    assert y_pred.size == y_true.size\n",
    "    D = max(y_pred.max(), y_true.max()) + 1\n",
    "    w = np.zeros((D, D), dtype=np.int64)\n",
    "    for i in range(y_pred.size):\n",
    "        w[y_pred[i], y_true[i]] += 1\n",
    "    from sklearn.utils.linear_assignment_ import linear_assignment\n",
    "    ind = linear_assignment(w.max() - w)\n",
    "    return sum([w[i, j] for i, j in ind]) * 1.0 / y_pred.size\n",
    "\n",
    "def target_distribution_np(q):\n",
    "    weight = np.square(q) / np.sum(q,axis=0)\n",
    "    return np.transpose( np.transpose(weight) /np.sum(weight,axis=1))\n",
    "\n",
    "# def target_distribution(q):\n",
    "#     with tf.name_scope('target_distribution'):\n",
    "#         weight = tf.square(q) / tf.reduce_sum(q,axis=0)\n",
    "#         return tf.transpose( tf.transpose(weight) /tf.reduce_sum(weight,axis=1))\n",
    "\n",
    "p = tf.placeholder(dtype=tf.float32,shape=(None,10))\n",
    "#create encoder with pretrained weights\n",
    "encoder = DNN(X_train,y_train,[DenseLayer(500,initialize_weights=weights[0]),DenseLayer(500,initialize_weights=weights[1]),\\\n",
    "                               DenseLayer(2000,initialize_weights=weights[2]),DenseLayer(10,initialize_weights=weights[3],activation_function=None),\\\n",
    "                                ],dtypes=[tf.float32,tf.int32])\n",
    "\n",
    "# encoder = DNN(X_train,y_train,[DenseLayer(500),DenseLayer(500),\\\n",
    "#                                DenseLayer(2000),DenseLayer(10,activation_function=None),\\\n",
    "#                                 ],dtypes=[tf.float32,tf.int32])\n",
    "\n",
    "encoder_output = encoder.forward()[-1]\n",
    "#get encoder features\n",
    "with tf.Session() as sess:\n",
    "    sess.run(tf.global_variables_initializer())\n",
    "    features = sess.run(encoder_output,feed_dict={encoder.X:X_train,encoder.y:y_train})\n",
    "\n",
    "#get kmean weights to initialize clustering layer\n",
    "print('initializing kmeans clusters ')\n",
    "n_clusters=10\n",
    "km = KMeans(n_clusters, n_init=20)\n",
    "y_pred = km.fit_predict(features)\n",
    "kmeans_weights =km.cluster_centers_ \n",
    "print(km.cluster_centers_.shape)\n",
    "\n",
    "clustering = DNN(encoder_output,encoder.y,[ClusteringLayer(10,initialize_weights=kmeans_weights)],as_placeholders=False)\n",
    "clustering_activations = clustering.forward()\n",
    "q = clustering_activations[-1]\n",
    "\n",
    "kld_cost = encoder.kl_divergence(p,q)\n",
    "tf.summary.scalar('loss',kld_cost)\n",
    "#optimizer = tf.train.MomentumOptimizer(0.001,0.9)\n",
    "optimizer = tf.train.AdamOptimizer()\n",
    "train = optimizer.minimize(kld_cost)\n",
    "\n",
    "merged = tf.summary.merge_all()\n",
    "\n",
    "num_epochs = 100\n",
    "batch_size = 256\n",
    "tol=1e-3\n",
    "update_rate = 1 # epochs\n",
    "\n",
    "with tf.Session() as sess:\n",
    "    sess.run(tf.global_variables_initializer())\n",
    "    \n",
    "    log_name = datetime.now().strftime(\"%Y%m%d-%H%M%S\")\n",
    "    #train_writer = tf.summary.FileWriter('summaries/train/logs'+log_name,sess.graph)\n",
    "    test_writer = tf.summary.FileWriter('summaries/test/logs'+log_name,sess.graph)\n",
    "    \n",
    "    #training \n",
    "    for i in tqdm(range(num_epochs)):\n",
    "         \n",
    "        if (i % update_rate == 0): # epochs to update the p_values\n",
    "            q_value=sess.run(q,feed_dict={encoder.X : X_train})  \n",
    "            p_value = target_distribution_np(q_value)\n",
    "            summary,cost=sess.run([merged,kld_cost],feed_dict={encoder.X : X_train,p:p_value})  \n",
    "            test_writer.add_summary(summary, i)\n",
    "            batch_train_acc = cluster_acc(y_train,np.argmax(q_value,axis=1).reshape(-1,1))\n",
    "            print('____________________________________________________')\n",
    "            print(\"cost: \"+str(cost)+\" accuracy: \"+ str(batch_train_acc)+' before epoch '+ str(i))\n",
    "        \n",
    "        for c,batch in enumerate(get_batches([encoder.X_train,encoder.y_train,p_value],batch_size=batch_size)): \n",
    "            batch_x = batch[0]\n",
    "            batch_y = batch[1]\n",
    "            batch_p = batch[2]\n",
    "            \n",
    "            q_value,cost,_,=sess.run([p,kld_cost,train],feed_dict={encoder.X:batch_x , p:batch_p}) \n",
    "            batch_train_acc = cluster_acc(batch_y,np.argmax(q_value,axis=1).reshape(-1,1))\n",
    "            if c%40==0:\n",
    "                print(\"cost: \"+str(cost)+\"\\taccuracy: \"+ str(batch_train_acc)+\" in \" + str(i) + ' epoch in ' +str(c) +'batch')\n",
    "        \n"
   ]
  },
  {
   "cell_type": "code",
   "execution_count": null,
   "metadata": {
    "collapsed": true
   },
   "outputs": [],
   "source": []
  },
  {
   "cell_type": "code",
   "execution_count": null,
   "metadata": {},
   "outputs": [],
   "source": [
    "def cluster_acc(y_true, y_pred):\n",
    "    \"\"\"\n",
    "    Calculate clustering accuracy. Require scikit-learn installed\n",
    "    # Arguments\n",
    "        y: true labels, numpy.array with shape `(n_samples,)`\n",
    "        y_pred: predicted labels, numpy.array with shape `(n_samples,)`\n",
    "    # Return\n",
    "        accuracy, in [0,1]\n",
    "    \"\"\"\n",
    "    y_true = y_true.astype(np.int64)\n",
    "    assert y_pred.size == y_true.size\n",
    "    D = max(y_pred.max(), y_true.max()) + 1\n",
    "    w = np.zeros((D, D), dtype=np.int64)\n",
    "    for i in range(y_pred.size):\n",
    "        w[y_pred[i], y_true[i]] += 1\n",
    "    from sklearn.utils.linear_assignment_ import linear_assignment\n",
    "    ind = linear_assignment(w.max() - w)\n",
    "    return sum([w[i, j] for i, j in ind]) * 1.0 / y_pred.size\n",
    "\n",
    "print('performing k-means clustering on the extracted features')\n",
    "\n",
    "n_clusters=10\n",
    "print(sae.extract_feature.shape)\n",
    "km = KMeans(n_clusters, n_init=20)\n",
    "y_pred = km.fit_predict(sae.extract_feature)\n",
    "y = y_train.reshape(-1)\n",
    "from sklearn.metrics import normalized_mutual_info_score as nmi\n",
    "from sklearn.metrics import accuracy_score \n",
    "print('K-means clustering result on extracted features: NMI = '+str(nmi(y, y_pred)))\n",
    "print('K-means clustering result on extracted features: accuracy = '+str(cluster_acc(y, y_pred)))\n"
   ]
  },
  {
   "cell_type": "code",
   "execution_count": null,
   "metadata": {
    "scrolled": false
   },
   "outputs": [],
   "source": [
    "import time\n",
    "from sklearn.manifold import TSNE\n",
    "from ggplot import *\n",
    "\n",
    "def tsne(x,y,n_sne):  \n",
    "    time_start = time.time()\n",
    "    tsne = TSNE(n_components=2, verbose=1, perplexity=40, n_iter=300)\n",
    "    tsne_results = tsne.fit_transform(x[:n_sne])\n",
    "    print(x.shape)\n",
    "    print(y.shape)\n",
    "    print('t-SNE done! Time elapsed: {} seconds'.format(time.time()-time_start))\n",
    "    x_tsne = np.expand_dims(tsne_results[:,0],1)\n",
    "    y_tsne = np.expand_dims(tsne_results[:,1],1)\n",
    "    label = np.int32(y[:n_sne])\n",
    "    data = np.concatenate((x_tsne,y_tsne,label),axis=1)\n",
    "\n",
    "    df_tsne = pd.DataFrame(data=data,columns=['x-tsne','y-tsne','label'])\n",
    "    df_tsne.label  = df_tsne.label.map(lambda x:  str(x))\n",
    "    chart = ggplot( df_tsne, aes(x='x-tsne', y='y-tsne', color='label') ) \\\n",
    "            + geom_point(size=70,alpha=0.1) \\\n",
    "            + ggtitle(\"tSNE dimensions colored by digit\")\n",
    "    chart.show()\n",
    "tsne(X_train,y_train,5000)\n",
    "tsne(sae.extract_feature,y_train,5000)"
   ]
  },
  {
   "cell_type": "code",
   "execution_count": null,
   "metadata": {
    "collapsed": true
   },
   "outputs": [],
   "source": []
  }
 ],
 "metadata": {
  "anaconda-cloud": {},
  "kernelspec": {
   "display_name": "Python 3",
   "language": "python",
   "name": "python3"
  },
  "language_info": {
   "codemirror_mode": {
    "name": "ipython",
    "version": 3
   },
   "file_extension": ".py",
   "mimetype": "text/x-python",
   "name": "python",
   "nbconvert_exporter": "python",
   "pygments_lexer": "ipython3",
   "version": "3.5.4"
  }
 },
 "nbformat": 4,
 "nbformat_minor": 2
}
