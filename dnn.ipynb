{
 "cells": [
  {
   "cell_type": "code",
   "execution_count": 1,
   "metadata": {
    "collapsed": true
   },
   "outputs": [],
   "source": [
    "import tensorflow as tf\n",
    "import pandas as pd\n",
    "import numpy as np\n",
    "import matplotlib.pyplot as plt\n",
    "import sklearn as sk\n",
    "%matplotlib inline\n",
    "from sklearn.model_selection import train_test_split\n",
    "from datetime import datetime\n",
    "from tqdm import tqdm"
   ]
  },
  {
   "cell_type": "code",
   "execution_count": 2,
   "metadata": {
    "collapsed": true
   },
   "outputs": [],
   "source": [
    "# TODO's\n",
    "## RNN implementation\n",
    "## add embedding layer\n",
    "## maybe add regulariazation for every layer"
   ]
  },
  {
   "cell_type": "code",
   "execution_count": 3,
   "metadata": {},
   "outputs": [
    {
     "data": {
      "text/plain": [
       "'1.4.0'"
      ]
     },
     "execution_count": 3,
     "metadata": {},
     "output_type": "execute_result"
    }
   ],
   "source": [
    "tf.__version__"
   ]
  },
  {
   "cell_type": "code",
   "execution_count": 4,
   "metadata": {
    "collapsed": true
   },
   "outputs": [],
   "source": [
    "from tensorflow.examples.tutorials.mnist import input_data"
   ]
  },
  {
   "cell_type": "code",
   "execution_count": 5,
   "metadata": {},
   "outputs": [
    {
     "name": "stdout",
     "output_type": "stream",
     "text": [
      "Extracting D:/programming/python/datasets/mnist_data\\train-images-idx3-ubyte.gz\n",
      "Extracting D:/programming/python/datasets/mnist_data\\train-labels-idx1-ubyte.gz\n",
      "Extracting D:/programming/python/datasets/mnist_data\\t10k-images-idx3-ubyte.gz\n",
      "Extracting D:/programming/python/datasets/mnist_data\\t10k-labels-idx1-ubyte.gz\n"
     ]
    }
   ],
   "source": [
    "mnist = input_data.read_data_sets('D:/programming/python/datasets/mnist_data', one_hot=True)"
   ]
  },
  {
   "cell_type": "code",
   "execution_count": 6,
   "metadata": {},
   "outputs": [
    {
     "name": "stdout",
     "output_type": "stream",
     "text": [
      "[ 1.  0.  0.  0.  0.  0.  0.  0.  0.  0.]\n"
     ]
    },
    {
     "data": {
      "image/png": "[encoded data removed]",
      "text/plain": [
       "<matplotlib.figure.Figure at 0x1148a9c1160>"
      ]
     },
     "metadata": {},
     "output_type": "display_data"
    }
   ],
   "source": [
    "plt.imshow(mnist.train.images[10].reshape((28,28)),aspect='auto')\n",
    "print(mnist.train.labels[10])"
   ]
  },
  {
   "cell_type": "code",
   "execution_count": 7,
   "metadata": {
    "collapsed": true
   },
   "outputs": [],
   "source": [
    "X_train = mnist.train.images\n",
    "y_train = mnist.train.labels\n",
    "X_test = mnist.test.images\n",
    "y_test = mnist.test.labels"
   ]
  },
  {
   "cell_type": "code",
   "execution_count": 8,
   "metadata": {
    "collapsed": true
   },
   "outputs": [],
   "source": [
    "class DNN():\n",
    "    def __init__(self,X_train,y_train,layers):\n",
    "            self.X = tf.placeholder(dtype=tf.float32,shape=(None,)+X_train.shape[1:])\n",
    "            self.y = tf.placeholder(dtype=tf.float32,shape=(None,)+y_train.shape[1:])\n",
    "            self.layers = layers\n",
    "            self.activations = [self.X]\n",
    "            \n",
    "    def forward(self):       \n",
    "        for i,layer in enumerate(self.layers):\n",
    "            layer.set_input(self.activations[i])\n",
    "            self.activations.append(layer.forward())\n",
    "        return self.activations\n",
    "    \n",
    "    def cost(self):\n",
    "        #return tf.reduce_sum(tf.square(self.activations[-1]-self.y))\n",
    "        return tf.reduce_mean(tf.nn.softmax_cross_entropy_with_logits(logits=self.activations[-1],labels=self.y))"
   ]
  },
  {
   "cell_type": "code",
   "execution_count": 9,
   "metadata": {
    "collapsed": true
   },
   "outputs": [],
   "source": [
    "class DenseLayer():\n",
    "    \n",
    "    number = 0\n",
    "    \n",
    "    def __init__(self,units,activation_function=tf.nn.relu,batch_norm=False,keep_prob=1.0):\n",
    "        self.units = units\n",
    "        self.keep_prob = keep_prob\n",
    "        self.activation_function = activation_function\n",
    "        self.batch_norm = batch_norm\n",
    "        self.variable_scope_name = 'Dense-'+str(DenseLayer.number)\n",
    "        DenseLayer.number+=1\n",
    "        \n",
    "    def set_input(self,x):\n",
    "        with tf.variable_scope(self.variable_scope_name):         \n",
    "            self.x = x\n",
    "            if(len(x.shape)==4):\n",
    "                shape = self.x.get_shape().as_list()        \n",
    "                dim = np.prod(shape[1:])\n",
    "                self.x = tf.reshape(tensor=self.x,shape=[-1,dim])\n",
    "            self.init_W((self.x.get_shape().as_list()[1],self.units))\n",
    "            self.init_b(self.units)\n",
    "            if(self.batch_norm):\n",
    "                self.epsilon = 1e-3\n",
    "                self.scale = tf.get_variable('scale', initializer=tf.ones(shape=[self.units]))\n",
    "                self.beta =  tf.get_variable('beta', initializer=tf.zeros(shape=[self.units]))\n",
    "        \n",
    "    def init_W(self,shape):\n",
    "        #another way to do this with get variable\n",
    "        #self.w= tf.Variable(tf.multiply(tf.random_normal(shape),0.01),dtype=tf.float32)\n",
    "        self.w=tf.get_variable('weight',shape=shape,initializer=tf.contrib.layers.xavier_initializer())\n",
    "        tf.summary.histogram('weight',self.w)\n",
    "    \n",
    "    def init_b(self,shape):\n",
    "        #self.b = tf.Variable(tf.fill([shape],0.1),dtype=tf.float32)\n",
    "        init = tf.constant(0.1,shape=[shape])\n",
    "        self.b = tf.get_variable('bias', initializer=init)\n",
    "        tf.summary.histogram('bias',self.b)\n",
    "        \n",
    "    def forward(self):\n",
    "        if self.x == None:\n",
    "            print('no input defined')\n",
    "        else:\n",
    "            #batch norm not working properly\n",
    "            #or maybe it is working properly but it needs bigger batch size. like 64. This makes sense because you make estimates of\n",
    "            #mean and variance for every z calculation. This means that the bigger the batch size the more accurate the estimate\n",
    "            if(self.batch_norm):\n",
    "                self.z = tf.matmul(self.x,self.w)\n",
    "                self.batch_mean, self.batch_var = tf.nn.moments(self.z,[0])\n",
    "                self.z  = tf.nn.batch_normalization(self.z,self.batch_mean,self.batch_var,self.beta,self.scale,self.epsilon)\n",
    "            else:\n",
    "                self.z = tf.nn.xw_plus_b(self.x,self.w,self.b)\n",
    "            if self.activation_function == None:\n",
    "                self.activation = self.z\n",
    "            else:\n",
    "                self.activation  = self.activation_function(self.z)\n",
    "            self.activation = tf.nn.dropout(self.activation,self.keep_prob)\n",
    "            tf.summary.histogram('activations',self.activation)\n",
    "            return self.activation"
   ]
  },
  {
   "cell_type": "code",
   "execution_count": 10,
   "metadata": {
    "collapsed": true
   },
   "outputs": [],
   "source": [
    "class ConvLayer():\n",
    "\n",
    "    number = 0\n",
    "    def __init__(self,kernel_size,number_of_kernels,padding='SAME',activation_function=tf.nn.relu,batch_norm = False,keep_prob=1.0):\n",
    "        self.kernel_size = kernel_size\n",
    "        self.number_of_kernels = number_of_kernels\n",
    "        self.padding = padding\n",
    "        self.activation_function = activation_function\n",
    "        self.keep_prob = keep_prob\n",
    "        self.batch_norm = batch_norm\n",
    "        self.variable_scope_name = 'Conv-'+str(ConvLayer.number)\n",
    "        ConvLayer.number+=1\n",
    "        \n",
    "    def set_input(self,x):\n",
    "        with tf.variable_scope(self.variable_scope_name):         \n",
    "            self.x = x\n",
    "            self.init_Kernel((self.kernel_size,self.kernel_size,x.get_shape().as_list()[-1],self.number_of_kernels))\n",
    "            self.init_b(self.number_of_kernels)\n",
    "            if(self.batch_norm):\n",
    "                self.epsilon = 1e-3\n",
    "                self.scale = tf.get_variable('scale', initializer=tf.ones(shape=[self.number_of_kernels]))\n",
    "                self.beta =  tf.get_variable('beta', initializer=tf.zeros(shape=[self.number_of_kernels]))\n",
    "        \n",
    "    def init_Kernel(self,shape):\n",
    "        self.kernel=tf.get_variable('kernel',shape=shape,initializer=tf.contrib.layers.xavier_initializer())\n",
    "        tf.summary.histogram('kernel',self.kernel)\n",
    "        \n",
    "    def init_b(self,shape):\n",
    "        self.b = tf.get_variable('bias',shape=[shape],initializer=tf.constant_initializer(0.1))\n",
    "        tf.summary.histogram('bias',self.b)\n",
    "        \n",
    "    def forward(self):\n",
    "        if self.x == None:\n",
    "            print('no input defined')\n",
    "        else:\n",
    "            if self.batch_norm:\n",
    "                \n",
    "                self.z = tf.nn.conv2d(self.x , self.kernel, [1, 1, 1, 1], padding=self.padding)\n",
    "                self.batch_mean, self.batch_var = tf.nn.moments(self.z,[0,1,2])\n",
    "                self.z  = tf.nn.batch_normalization(self.z,self.batch_mean,self.batch_var,self.beta,self.scale,self.epsilon)\n",
    "                \n",
    "            else:\n",
    "                self.z = tf.nn.conv2d(self.x , self.kernel, [1, 1, 1, 1], padding=self.padding)\n",
    "                self.z = tf.nn.bias_add(self.z, self.b)  \n",
    "                    \n",
    "            if self.activation_function == None:\n",
    "                self.activation = self.z\n",
    "            else:\n",
    "                self.activation  = self.activation_function(self.z)\n",
    "            #dropout\n",
    "            self.activation = tf.nn.dropout(self.activation,self.keep_prob)\n",
    "            tf.summary.histogram('activations',self.activation)\n",
    "        return self.activation\n",
    "        "
   ]
  },
  {
   "cell_type": "code",
   "execution_count": 11,
   "metadata": {
    "collapsed": true
   },
   "outputs": [],
   "source": [
    "class PoolingLayer():\n",
    "    \n",
    "    number = 0\n",
    "    \n",
    "    def __init__(self,kernel_size,stride,padding='SAME',pooling='MAX'):\n",
    "        self.kernel_size = kernel_size\n",
    "        self.stride = stride\n",
    "        self.pooling = pooling\n",
    "        self.padding = padding\n",
    "        self.variable_scope_name = 'Pool-'+str(PoolingLayer.number)\n",
    "        PoolingLayer.number+=1\n",
    "        \n",
    "    def set_input(self,x):\n",
    "        with tf.variable_scope(self.variable_scope_name):         \n",
    "            self.x = x\n",
    "        \n",
    "    def forward(self):\n",
    "        if self.x == None:\n",
    "            print('no input defined')\n",
    "        else:\n",
    "            if (self.pooling == 'MAX'):\n",
    "                self.activation = tf.nn.max_pool(self.x,[1,self.kernel_size,self.kernel_size,1],[1,self.stride,self.stride,1],padding=self.padding)\n",
    "            elif (self.pooling == 'AVG'):\n",
    "                self.activation = tf.nn.avg_pool(self.x,[1,self.kernel_size,self.kernel_size,1],[1,self.stride,self.stride,1],padding=self.padding)\n",
    "        return self.activation\n",
    "        "
   ]
  },
  {
   "cell_type": "code",
   "execution_count": 12,
   "metadata": {},
   "outputs": [
    {
     "name": "stderr",
     "output_type": "stream",
     "text": [
      "\r",
      "  0%|                                                                                           | 0/20 [00:00<?, ?it/s]"
     ]
    },
    {
     "name": "stdout",
     "output_type": "stream",
     "text": [
      "epoch:0\n"
     ]
    },
    {
     "name": "stderr",
     "output_type": "stream",
     "text": [
      "\r",
      "  5%|████▏                                                                              | 1/20 [00:33<10:37, 33.55s/it]"
     ]
    },
    {
     "ename": "KeyboardInterrupt",
     "evalue": "",
     "output_type": "error",
     "traceback": [
      "\u001b[1;31m---------------------------------------------------------------------------\u001b[0m",
      "\u001b[1;31mKeyboardInterrupt\u001b[0m                         Traceback (most recent call last)",
      "\u001b[1;32m<ipython-input-12-300618e92f57>\u001b[0m in \u001b[0;36m<module>\u001b[1;34m()\u001b[0m\n\u001b[0;32m     89\u001b[0m             \u001b[0mbatch_y\u001b[0m \u001b[1;33m=\u001b[0m \u001b[0mbatch\u001b[0m\u001b[1;33m[\u001b[0m\u001b[1;36m1\u001b[0m\u001b[1;33m]\u001b[0m\u001b[1;33m\u001b[0m\u001b[0m\n\u001b[0;32m     90\u001b[0m             \u001b[0mfeed_dict\u001b[0m\u001b[1;33m=\u001b[0m\u001b[1;33m{\u001b[0m\u001b[0mdnn\u001b[0m\u001b[1;33m.\u001b[0m\u001b[0mX\u001b[0m \u001b[1;33m:\u001b[0m \u001b[0mbatch_x\u001b[0m\u001b[1;33m,\u001b[0m\u001b[0mdnn\u001b[0m\u001b[1;33m.\u001b[0m\u001b[0my\u001b[0m \u001b[1;33m:\u001b[0m \u001b[0mbatch_y\u001b[0m\u001b[1;33m}\u001b[0m\u001b[1;33m\u001b[0m\u001b[0m\n\u001b[1;32m---> 91\u001b[1;33m             \u001b[0mcost\u001b[0m\u001b[1;33m,\u001b[0m\u001b[0m_\u001b[0m\u001b[1;33m,\u001b[0m\u001b[0macc\u001b[0m\u001b[1;33m=\u001b[0m \u001b[0msess\u001b[0m\u001b[1;33m.\u001b[0m\u001b[0mrun\u001b[0m\u001b[1;33m(\u001b[0m\u001b[1;33m[\u001b[0m\u001b[0mloss\u001b[0m\u001b[1;33m,\u001b[0m\u001b[0mtrain\u001b[0m\u001b[1;33m,\u001b[0m\u001b[0maccuracy\u001b[0m\u001b[1;33m]\u001b[0m\u001b[1;33m,\u001b[0m\u001b[0mfeed_dict\u001b[0m\u001b[1;33m=\u001b[0m\u001b[0mfeed_dict\u001b[0m\u001b[1;33m)\u001b[0m\u001b[1;33m\u001b[0m\u001b[0m\n\u001b[0m\u001b[0;32m     92\u001b[0m             \u001b[1;31m#print(\"cost in \"+str(c)+' batch : '+str(cost))\u001b[0m\u001b[1;33m\u001b[0m\u001b[1;33m\u001b[0m\u001b[0m\n\u001b[0;32m     93\u001b[0m             \u001b[1;31m#print(\"accuracy in \"+str(c)+' batch : '+str(acc))\u001b[0m\u001b[1;33m\u001b[0m\u001b[1;33m\u001b[0m\u001b[0m\n",
      "\u001b[1;32m~\\Anaconda2\\envs\\tensorflow\\lib\\site-packages\\tensorflow\\python\\client\\session.py\u001b[0m in \u001b[0;36mrun\u001b[1;34m(self, fetches, feed_dict, options, run_metadata)\u001b[0m\n\u001b[0;32m    887\u001b[0m     \u001b[1;32mtry\u001b[0m\u001b[1;33m:\u001b[0m\u001b[1;33m\u001b[0m\u001b[0m\n\u001b[0;32m    888\u001b[0m       result = self._run(None, fetches, feed_dict, options_ptr,\n\u001b[1;32m--> 889\u001b[1;33m                          run_metadata_ptr)\n\u001b[0m\u001b[0;32m    890\u001b[0m       \u001b[1;32mif\u001b[0m \u001b[0mrun_metadata\u001b[0m\u001b[1;33m:\u001b[0m\u001b[1;33m\u001b[0m\u001b[0m\n\u001b[0;32m    891\u001b[0m         \u001b[0mproto_data\u001b[0m \u001b[1;33m=\u001b[0m \u001b[0mtf_session\u001b[0m\u001b[1;33m.\u001b[0m\u001b[0mTF_GetBuffer\u001b[0m\u001b[1;33m(\u001b[0m\u001b[0mrun_metadata_ptr\u001b[0m\u001b[1;33m)\u001b[0m\u001b[1;33m\u001b[0m\u001b[0m\n",
      "\u001b[1;32m~\\Anaconda2\\envs\\tensorflow\\lib\\site-packages\\tensorflow\\python\\client\\session.py\u001b[0m in \u001b[0;36m_run\u001b[1;34m(self, handle, fetches, feed_dict, options, run_metadata)\u001b[0m\n\u001b[0;32m   1118\u001b[0m     \u001b[1;32mif\u001b[0m \u001b[0mfinal_fetches\u001b[0m \u001b[1;32mor\u001b[0m \u001b[0mfinal_targets\u001b[0m \u001b[1;32mor\u001b[0m \u001b[1;33m(\u001b[0m\u001b[0mhandle\u001b[0m \u001b[1;32mand\u001b[0m \u001b[0mfeed_dict_tensor\u001b[0m\u001b[1;33m)\u001b[0m\u001b[1;33m:\u001b[0m\u001b[1;33m\u001b[0m\u001b[0m\n\u001b[0;32m   1119\u001b[0m       results = self._do_run(handle, final_targets, final_fetches,\n\u001b[1;32m-> 1120\u001b[1;33m                              feed_dict_tensor, options, run_metadata)\n\u001b[0m\u001b[0;32m   1121\u001b[0m     \u001b[1;32melse\u001b[0m\u001b[1;33m:\u001b[0m\u001b[1;33m\u001b[0m\u001b[0m\n\u001b[0;32m   1122\u001b[0m       \u001b[0mresults\u001b[0m \u001b[1;33m=\u001b[0m \u001b[1;33m[\u001b[0m\u001b[1;33m]\u001b[0m\u001b[1;33m\u001b[0m\u001b[0m\n",
      "\u001b[1;32m~\\Anaconda2\\envs\\tensorflow\\lib\\site-packages\\tensorflow\\python\\client\\session.py\u001b[0m in \u001b[0;36m_do_run\u001b[1;34m(self, handle, target_list, fetch_list, feed_dict, options, run_metadata)\u001b[0m\n\u001b[0;32m   1315\u001b[0m     \u001b[1;32mif\u001b[0m \u001b[0mhandle\u001b[0m \u001b[1;32mis\u001b[0m \u001b[1;32mNone\u001b[0m\u001b[1;33m:\u001b[0m\u001b[1;33m\u001b[0m\u001b[0m\n\u001b[0;32m   1316\u001b[0m       return self._do_call(_run_fn, self._session, feeds, fetches, targets,\n\u001b[1;32m-> 1317\u001b[1;33m                            options, run_metadata)\n\u001b[0m\u001b[0;32m   1318\u001b[0m     \u001b[1;32melse\u001b[0m\u001b[1;33m:\u001b[0m\u001b[1;33m\u001b[0m\u001b[0m\n\u001b[0;32m   1319\u001b[0m       \u001b[1;32mreturn\u001b[0m \u001b[0mself\u001b[0m\u001b[1;33m.\u001b[0m\u001b[0m_do_call\u001b[0m\u001b[1;33m(\u001b[0m\u001b[0m_prun_fn\u001b[0m\u001b[1;33m,\u001b[0m \u001b[0mself\u001b[0m\u001b[1;33m.\u001b[0m\u001b[0m_session\u001b[0m\u001b[1;33m,\u001b[0m \u001b[0mhandle\u001b[0m\u001b[1;33m,\u001b[0m \u001b[0mfeeds\u001b[0m\u001b[1;33m,\u001b[0m \u001b[0mfetches\u001b[0m\u001b[1;33m)\u001b[0m\u001b[1;33m\u001b[0m\u001b[0m\n",
      "\u001b[1;32m~\\Anaconda2\\envs\\tensorflow\\lib\\site-packages\\tensorflow\\python\\client\\session.py\u001b[0m in \u001b[0;36m_do_call\u001b[1;34m(self, fn, *args)\u001b[0m\n\u001b[0;32m   1321\u001b[0m   \u001b[1;32mdef\u001b[0m \u001b[0m_do_call\u001b[0m\u001b[1;33m(\u001b[0m\u001b[0mself\u001b[0m\u001b[1;33m,\u001b[0m \u001b[0mfn\u001b[0m\u001b[1;33m,\u001b[0m \u001b[1;33m*\u001b[0m\u001b[0margs\u001b[0m\u001b[1;33m)\u001b[0m\u001b[1;33m:\u001b[0m\u001b[1;33m\u001b[0m\u001b[0m\n\u001b[0;32m   1322\u001b[0m     \u001b[1;32mtry\u001b[0m\u001b[1;33m:\u001b[0m\u001b[1;33m\u001b[0m\u001b[0m\n\u001b[1;32m-> 1323\u001b[1;33m       \u001b[1;32mreturn\u001b[0m \u001b[0mfn\u001b[0m\u001b[1;33m(\u001b[0m\u001b[1;33m*\u001b[0m\u001b[0margs\u001b[0m\u001b[1;33m)\u001b[0m\u001b[1;33m\u001b[0m\u001b[0m\n\u001b[0m\u001b[0;32m   1324\u001b[0m     \u001b[1;32mexcept\u001b[0m \u001b[0merrors\u001b[0m\u001b[1;33m.\u001b[0m\u001b[0mOpError\u001b[0m \u001b[1;32mas\u001b[0m \u001b[0me\u001b[0m\u001b[1;33m:\u001b[0m\u001b[1;33m\u001b[0m\u001b[0m\n\u001b[0;32m   1325\u001b[0m       \u001b[0mmessage\u001b[0m \u001b[1;33m=\u001b[0m \u001b[0mcompat\u001b[0m\u001b[1;33m.\u001b[0m\u001b[0mas_text\u001b[0m\u001b[1;33m(\u001b[0m\u001b[0me\u001b[0m\u001b[1;33m.\u001b[0m\u001b[0mmessage\u001b[0m\u001b[1;33m)\u001b[0m\u001b[1;33m\u001b[0m\u001b[0m\n",
      "\u001b[1;32m~\\Anaconda2\\envs\\tensorflow\\lib\\site-packages\\tensorflow\\python\\client\\session.py\u001b[0m in \u001b[0;36m_run_fn\u001b[1;34m(session, feed_dict, fetch_list, target_list, options, run_metadata)\u001b[0m\n\u001b[0;32m   1300\u001b[0m           return tf_session.TF_Run(session, options,\n\u001b[0;32m   1301\u001b[0m                                    \u001b[0mfeed_dict\u001b[0m\u001b[1;33m,\u001b[0m \u001b[0mfetch_list\u001b[0m\u001b[1;33m,\u001b[0m \u001b[0mtarget_list\u001b[0m\u001b[1;33m,\u001b[0m\u001b[1;33m\u001b[0m\u001b[0m\n\u001b[1;32m-> 1302\u001b[1;33m                                    status, run_metadata)\n\u001b[0m\u001b[0;32m   1303\u001b[0m \u001b[1;33m\u001b[0m\u001b[0m\n\u001b[0;32m   1304\u001b[0m     \u001b[1;32mdef\u001b[0m \u001b[0m_prun_fn\u001b[0m\u001b[1;33m(\u001b[0m\u001b[0msession\u001b[0m\u001b[1;33m,\u001b[0m \u001b[0mhandle\u001b[0m\u001b[1;33m,\u001b[0m \u001b[0mfeed_dict\u001b[0m\u001b[1;33m,\u001b[0m \u001b[0mfetch_list\u001b[0m\u001b[1;33m)\u001b[0m\u001b[1;33m:\u001b[0m\u001b[1;33m\u001b[0m\u001b[0m\n",
      "\u001b[1;31mKeyboardInterrupt\u001b[0m: "
     ]
    }
   ],
   "source": [
    "#inputs for DenseLayers\n",
    "X_train = mnist.train.images\n",
    "y_train = mnist.train.labels\n",
    "X_test = mnist.test.images\n",
    "y_test = mnist.test.labels\n",
    "\n",
    "#inputs for conv nets\n",
    "X_train = X_train.reshape((X_train.shape[0],28,28,1))\n",
    "y_train = y_train\n",
    "X_test = X_test.reshape((X_test.shape[0],28,28,1))\n",
    "y_test = y_test\n",
    "\n",
    "DenseLayer.number = 0\n",
    "ConvLayer.number = 0\n",
    "PoolingLayer.number = 0\n",
    "tf.reset_default_graph()\n",
    "\n",
    "epochs = 20\n",
    "batch_size = 64\n",
    "#dnn = DNN(X_train,y_train,[DenseLayer(64,batch_norm=True),DenseLayer(32,batch_norm=True),DenseLayer(10,activation_function=None,batch_norm=True)])\n",
    "dnn = DNN(X_train,y_train,[ConvLayer(5,16,batch_norm=True),PoolingLayer(2,2),ConvLayer(5,32,batch_norm=True),PoolingLayer(2,2),\\\n",
    "                           DenseLayer(100,batch_norm=True),DenseLayer(50,batch_norm=True),\\\n",
    "                           DenseLayer(10,activation_function=None,batch_norm=True)])\n",
    "\n",
    "activations = dnn.forward()\n",
    "last_activation = activations[-1]\n",
    "\n",
    "#save last layer activations as images\n",
    "temp = tf.expand_dims(tf.expand_dims(last_activation,0),3)\n",
    "tf.summary.image(\"images\",temp)\n",
    "\n",
    "loss = dnn.cost()\n",
    "tf.summary.scalar('loss', loss)\n",
    "optimizer = tf.train.AdamOptimizer()\n",
    "train = optimizer.minimize(loss)\n",
    "\n",
    "#multiple optimizers implementatio\n",
    "# var_list1 = [variables from first 5 layers]\n",
    "# var_list2 = [the rest of variables]\n",
    "# opt1 = tf.train.GradientDescentOptimizer(0.00001)\n",
    "# opt2 = tf.train.GradientDescentOptimizer(0.0001)\n",
    "# grads = tf.gradients(loss, var_list1 + var_list2)\n",
    "# grads1 = grads[:len(var_list1)]\n",
    "# grads2 = grads[len(var_list1):]\n",
    "# tran_op1 = opt1.apply_gradients(zip(grads1, var_list1))\n",
    "# train_op2 = opt2.apply_gradients(zip(grads2, var_list2))\n",
    "# train_op = tf.group(train_op1, train_op2)\n",
    "\n",
    "correct_pred = tf.equal(tf.argmax(activations[-1], 1), tf.argmax(dnn.y, 1))\n",
    "accuracy = tf.reduce_mean(tf.cast(correct_pred, tf.float32))\n",
    "tf.summary.scalar('accuracy', accuracy)\n",
    "\n",
    "#index of those that cant recognize\n",
    "wrong_pred = tf.not_equal(tf.argmax(activations[-1], 1), tf.argmax(dnn.y, 1))\n",
    "index = tf.where(wrong_pred)\n",
    "\n",
    "# Merge all the summaries and write them out to /tmp/mnist_logs (by default)\n",
    "merged = tf.summary.merge_all()\n",
    "\n",
    "#to save model\n",
    "saver = tf.train.Saver()\n",
    "\n",
    "with tf.Session() as sess:\n",
    "    #initialize variables\n",
    "    sess.run(tf.global_variables_initializer())\n",
    "    \n",
    "    #write training data to file in order to visualize it with tensorboard\n",
    "    log_name = datetime.now().strftime(\"%Y%m%d-%H%M%S\")\n",
    "    train_writer = tf.summary.FileWriter('summaries/train/logs'+log_name,sess.graph)\n",
    "    test_writer = tf.summary.FileWriter('summaries/test/logs'+log_name,sess.graph)\n",
    "    \n",
    "      #this is computation heavy in large nets (memory inefficient)\n",
    "#     #no training in this step, just inspecting the train cost and accuracy, also checking activations\n",
    "#     feed_dict={dnn.X : X_train,dnn.y : y_train}\n",
    "#     activations,last_activation,train_cost,train_acc= sess.run([activations,last_activation,loss,accuracy],feed_dict=feed_dict)\n",
    "#     print(\"initial train cost \"+str(train_cost))\n",
    "#     print(\"initial train accuracy \"+str(train_acc))\n",
    "    \n",
    "#     #no training in this step, just inspecting the test cost and accuracy\n",
    "#     feed_dict={dnn.X : X_test,dnn.y : y_test}\n",
    "#     test_cost,test_acc= sess.run([loss,accuracy],feed_dict=feed_dict)\n",
    "#     print(\"initial test cost \"+str(test_cost))\n",
    "#     print(\"initial test accuracy \"+str(test_acc))\n",
    "    \n",
    "    #training \n",
    "    for i in tqdm(range(epochs)):\n",
    "        #mini batch training with my super generator function\n",
    "        for c,batch in enumerate(range(int(np.ceil(mnist.train.num_examples/batch_size)))):\n",
    "            batch = mnist.train.next_batch(batch_size=batch_size)\n",
    "            batch_x = batch[0].reshape((batch[0].shape[0],28,28,1))\n",
    "            batch_y = batch[1]                            \n",
    "            feed_dict={dnn.X : batch_x,dnn.y : batch_y}\n",
    "            cost,_,acc= sess.run([loss,train,accuracy],feed_dict=feed_dict)\n",
    "            #print(\"cost in \"+str(c)+' batch : '+str(cost))\n",
    "            #print(\"accuracy in \"+str(c)+' batch : '+str(acc))\n",
    "            \n",
    "  \n",
    "        #for every epoch compute the accuracy and  loss but print it every n epochs\n",
    "        \n",
    "        #memory inefficient\n",
    "        #train logging for every epoch\n",
    "#         feed_dict={dnn.X : X_train,dnn.y : y_train}\n",
    "#         summary,train_acc,train_cost = sess.run([merged,accuracy,loss],feed_dict=feed_dict)\n",
    "#         train_writer.add_summary(summary, i)\n",
    "        \n",
    "        #test loggingfor every epoch\n",
    "        feed_dict={dnn.X:X_test, dnn.y:y_test}\n",
    "        summary,test_acc,test_cost = sess.run([merged,accuracy,loss],feed_dict=feed_dict)\n",
    "        test_writer.add_summary(summary, i)\n",
    "        \n",
    "        if i%20==0:\n",
    "            print('epoch:'+str(i))\n",
    "            #print(\"cost after \"+str(i)+' epoch : '+str(train_cost))\n",
    "            #print(\"accuracy after \"+str(i)+' epoch : '+str(train_acc))\n",
    "           \n",
    "    #save model (can save it if its better that the previous one etc)\n",
    "    saver.save(sess,'models/mymodel.ckpt')\n",
    "        \n",
    "    feed_dict={dnn.X : X_test,dnn.y : y_test}\n",
    "    wrong_pred_index,cost,test_acc = sess.run([index,loss,accuracy],feed_dict=feed_dict)\n",
    "    print(\"test accuracy \"+str(test_acc))"
   ]
  },
  {
   "cell_type": "code",
   "execution_count": null,
   "metadata": {
    "collapsed": true
   },
   "outputs": [],
   "source": [
    "wrong = wrong_pred_index.squeeze()\n",
    "print(wrong.shape)\n",
    "f = plt.figure(figsize=(20,10))\n",
    "for i,index in enumerate(wrong):\n",
    "    f.add_subplot(7,10,i+1)\n",
    "    plt.imshow(X_test[index].reshape((28,28)),aspect='auto')"
   ]
  },
  {
   "cell_type": "code",
   "execution_count": null,
   "metadata": {
    "collapsed": true
   },
   "outputs": [],
   "source": []
  }
 ],
 "metadata": {
  "kernelspec": {
   "display_name": "Python 3",
   "language": "python",
   "name": "python3"
  },
  "language_info": {
   "codemirror_mode": {
    "name": "ipython",
    "version": 3
   },
   "file_extension": ".py",
   "mimetype": "text/x-python",
   "name": "python",
   "nbconvert_exporter": "python",
   "pygments_lexer": "ipython3",
   "version": "3.5.4"
  }
 },
 "nbformat": 4,
 "nbformat_minor": 2
}
